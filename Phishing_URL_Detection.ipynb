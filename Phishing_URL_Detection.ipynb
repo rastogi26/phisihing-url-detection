{
  "cells": [
    {
      "cell_type": "code",
      "execution_count": null,
      "id": "51ca7313",
      "metadata": {
        "id": "51ca7313"
      },
      "outputs": [],
      "source": [
        "#importing required libraries\n",
        "\n",
        "import numpy as np\n",
        "import pandas as pd\n",
        "import matplotlib.pyplot as plt\n",
        "%matplotlib inline\n",
        "import seaborn as sns\n",
        "from sklearn import metrics\n",
        "import warnings\n",
        "warnings.filterwarnings('ignore')"
      ]
    },
    {
      "cell_type": "markdown",
      "id": "7db94f12",
      "metadata": {
        "id": "7db94f12"
      },
      "source": [
        "## 1. Loading Data:\n",
        "\n",
        "A collection of website URLs for 11000+ websites. Each sample has 30 website parameters and a class label identifying it as a phishing website or not (1 or -1).\n",
        "\n"
      ]
    },
    {
      "cell_type": "code",
      "execution_count": null,
      "id": "ec491f22",
      "metadata": {
        "colab": {
          "base_uri": "https://localhost:8080/",
          "height": 299
        },
        "id": "ec491f22",
        "outputId": "97ee3fac-a041-4dc3-897e-0ab1e69b864a"
      },
      "outputs": [
        {
          "output_type": "execute_result",
          "data": {
            "text/plain": [
              "   Index  UsingIP  LongURL  ShortURL  Symbol@  Redirecting//  PrefixSuffix-  \\\n",
              "0      0        1        1         1        1              1             -1   \n",
              "1      1        1        0         1        1              1             -1   \n",
              "2      2        1        0         1        1              1             -1   \n",
              "3      3        1        0        -1        1              1             -1   \n",
              "4      4       -1        0        -1        1             -1             -1   \n",
              "\n",
              "   SubDomains  HTTPS  DomainRegLen  ...  UsingPopupWindow  IframeRedirection  \\\n",
              "0           0      1            -1  ...                 1                  1   \n",
              "1          -1     -1            -1  ...                 1                  1   \n",
              "2          -1     -1             1  ...                 1                  1   \n",
              "3           1      1            -1  ...                -1                  1   \n",
              "4           1      1            -1  ...                 1                  1   \n",
              "\n",
              "   AgeofDomain  DNSRecording  WebsiteTraffic  PageRank  GoogleIndex  \\\n",
              "0           -1            -1               0        -1            1   \n",
              "1            1            -1               1        -1            1   \n",
              "2           -1            -1               1        -1            1   \n",
              "3           -1            -1               0        -1            1   \n",
              "4            1             1               1        -1            1   \n",
              "\n",
              "   LinksPointingToPage  StatsReport  class  \n",
              "0                    1            1     -1  \n",
              "1                    0           -1     -1  \n",
              "2                   -1            1     -1  \n",
              "3                    1            1      1  \n",
              "4                   -1           -1      1  \n",
              "\n",
              "[5 rows x 32 columns]"
            ],
            "text/html": [
              "\n",
              "  <div id=\"df-3bea0825-a58f-40df-ad3c-d7cb1bc686e0\">\n",
              "    <div class=\"colab-df-container\">\n",
              "      <div>\n",
              "<style scoped>\n",
              "    .dataframe tbody tr th:only-of-type {\n",
              "        vertical-align: middle;\n",
              "    }\n",
              "\n",
              "    .dataframe tbody tr th {\n",
              "        vertical-align: top;\n",
              "    }\n",
              "\n",
              "    .dataframe thead th {\n",
              "        text-align: right;\n",
              "    }\n",
              "</style>\n",
              "<table border=\"1\" class=\"dataframe\">\n",
              "  <thead>\n",
              "    <tr style=\"text-align: right;\">\n",
              "      <th></th>\n",
              "      <th>Index</th>\n",
              "      <th>UsingIP</th>\n",
              "      <th>LongURL</th>\n",
              "      <th>ShortURL</th>\n",
              "      <th>Symbol@</th>\n",
              "      <th>Redirecting//</th>\n",
              "      <th>PrefixSuffix-</th>\n",
              "      <th>SubDomains</th>\n",
              "      <th>HTTPS</th>\n",
              "      <th>DomainRegLen</th>\n",
              "      <th>...</th>\n",
              "      <th>UsingPopupWindow</th>\n",
              "      <th>IframeRedirection</th>\n",
              "      <th>AgeofDomain</th>\n",
              "      <th>DNSRecording</th>\n",
              "      <th>WebsiteTraffic</th>\n",
              "      <th>PageRank</th>\n",
              "      <th>GoogleIndex</th>\n",
              "      <th>LinksPointingToPage</th>\n",
              "      <th>StatsReport</th>\n",
              "      <th>class</th>\n",
              "    </tr>\n",
              "  </thead>\n",
              "  <tbody>\n",
              "    <tr>\n",
              "      <th>0</th>\n",
              "      <td>0</td>\n",
              "      <td>1</td>\n",
              "      <td>1</td>\n",
              "      <td>1</td>\n",
              "      <td>1</td>\n",
              "      <td>1</td>\n",
              "      <td>-1</td>\n",
              "      <td>0</td>\n",
              "      <td>1</td>\n",
              "      <td>-1</td>\n",
              "      <td>...</td>\n",
              "      <td>1</td>\n",
              "      <td>1</td>\n",
              "      <td>-1</td>\n",
              "      <td>-1</td>\n",
              "      <td>0</td>\n",
              "      <td>-1</td>\n",
              "      <td>1</td>\n",
              "      <td>1</td>\n",
              "      <td>1</td>\n",
              "      <td>-1</td>\n",
              "    </tr>\n",
              "    <tr>\n",
              "      <th>1</th>\n",
              "      <td>1</td>\n",
              "      <td>1</td>\n",
              "      <td>0</td>\n",
              "      <td>1</td>\n",
              "      <td>1</td>\n",
              "      <td>1</td>\n",
              "      <td>-1</td>\n",
              "      <td>-1</td>\n",
              "      <td>-1</td>\n",
              "      <td>-1</td>\n",
              "      <td>...</td>\n",
              "      <td>1</td>\n",
              "      <td>1</td>\n",
              "      <td>1</td>\n",
              "      <td>-1</td>\n",
              "      <td>1</td>\n",
              "      <td>-1</td>\n",
              "      <td>1</td>\n",
              "      <td>0</td>\n",
              "      <td>-1</td>\n",
              "      <td>-1</td>\n",
              "    </tr>\n",
              "    <tr>\n",
              "      <th>2</th>\n",
              "      <td>2</td>\n",
              "      <td>1</td>\n",
              "      <td>0</td>\n",
              "      <td>1</td>\n",
              "      <td>1</td>\n",
              "      <td>1</td>\n",
              "      <td>-1</td>\n",
              "      <td>-1</td>\n",
              "      <td>-1</td>\n",
              "      <td>1</td>\n",
              "      <td>...</td>\n",
              "      <td>1</td>\n",
              "      <td>1</td>\n",
              "      <td>-1</td>\n",
              "      <td>-1</td>\n",
              "      <td>1</td>\n",
              "      <td>-1</td>\n",
              "      <td>1</td>\n",
              "      <td>-1</td>\n",
              "      <td>1</td>\n",
              "      <td>-1</td>\n",
              "    </tr>\n",
              "    <tr>\n",
              "      <th>3</th>\n",
              "      <td>3</td>\n",
              "      <td>1</td>\n",
              "      <td>0</td>\n",
              "      <td>-1</td>\n",
              "      <td>1</td>\n",
              "      <td>1</td>\n",
              "      <td>-1</td>\n",
              "      <td>1</td>\n",
              "      <td>1</td>\n",
              "      <td>-1</td>\n",
              "      <td>...</td>\n",
              "      <td>-1</td>\n",
              "      <td>1</td>\n",
              "      <td>-1</td>\n",
              "      <td>-1</td>\n",
              "      <td>0</td>\n",
              "      <td>-1</td>\n",
              "      <td>1</td>\n",
              "      <td>1</td>\n",
              "      <td>1</td>\n",
              "      <td>1</td>\n",
              "    </tr>\n",
              "    <tr>\n",
              "      <th>4</th>\n",
              "      <td>4</td>\n",
              "      <td>-1</td>\n",
              "      <td>0</td>\n",
              "      <td>-1</td>\n",
              "      <td>1</td>\n",
              "      <td>-1</td>\n",
              "      <td>-1</td>\n",
              "      <td>1</td>\n",
              "      <td>1</td>\n",
              "      <td>-1</td>\n",
              "      <td>...</td>\n",
              "      <td>1</td>\n",
              "      <td>1</td>\n",
              "      <td>1</td>\n",
              "      <td>1</td>\n",
              "      <td>1</td>\n",
              "      <td>-1</td>\n",
              "      <td>1</td>\n",
              "      <td>-1</td>\n",
              "      <td>-1</td>\n",
              "      <td>1</td>\n",
              "    </tr>\n",
              "  </tbody>\n",
              "</table>\n",
              "<p>5 rows × 32 columns</p>\n",
              "</div>\n",
              "      <button class=\"colab-df-convert\" onclick=\"convertToInteractive('df-3bea0825-a58f-40df-ad3c-d7cb1bc686e0')\"\n",
              "              title=\"Convert this dataframe to an interactive table.\"\n",
              "              style=\"display:none;\">\n",
              "        \n",
              "  <svg xmlns=\"http://www.w3.org/2000/svg\" height=\"24px\"viewBox=\"0 0 24 24\"\n",
              "       width=\"24px\">\n",
              "    <path d=\"M0 0h24v24H0V0z\" fill=\"none\"/>\n",
              "    <path d=\"M18.56 5.44l.94 2.06.94-2.06 2.06-.94-2.06-.94-.94-2.06-.94 2.06-2.06.94zm-11 1L8.5 8.5l.94-2.06 2.06-.94-2.06-.94L8.5 2.5l-.94 2.06-2.06.94zm10 10l.94 2.06.94-2.06 2.06-.94-2.06-.94-.94-2.06-.94 2.06-2.06.94z\"/><path d=\"M17.41 7.96l-1.37-1.37c-.4-.4-.92-.59-1.43-.59-.52 0-1.04.2-1.43.59L10.3 9.45l-7.72 7.72c-.78.78-.78 2.05 0 2.83L4 21.41c.39.39.9.59 1.41.59.51 0 1.02-.2 1.41-.59l7.78-7.78 2.81-2.81c.8-.78.8-2.07 0-2.86zM5.41 20L4 18.59l7.72-7.72 1.47 1.35L5.41 20z\"/>\n",
              "  </svg>\n",
              "      </button>\n",
              "      \n",
              "  <style>\n",
              "    .colab-df-container {\n",
              "      display:flex;\n",
              "      flex-wrap:wrap;\n",
              "      gap: 12px;\n",
              "    }\n",
              "\n",
              "    .colab-df-convert {\n",
              "      background-color: #E8F0FE;\n",
              "      border: none;\n",
              "      border-radius: 50%;\n",
              "      cursor: pointer;\n",
              "      display: none;\n",
              "      fill: #1967D2;\n",
              "      height: 32px;\n",
              "      padding: 0 0 0 0;\n",
              "      width: 32px;\n",
              "    }\n",
              "\n",
              "    .colab-df-convert:hover {\n",
              "      background-color: #E2EBFA;\n",
              "      box-shadow: 0px 1px 2px rgba(60, 64, 67, 0.3), 0px 1px 3px 1px rgba(60, 64, 67, 0.15);\n",
              "      fill: #174EA6;\n",
              "    }\n",
              "\n",
              "    [theme=dark] .colab-df-convert {\n",
              "      background-color: #3B4455;\n",
              "      fill: #D2E3FC;\n",
              "    }\n",
              "\n",
              "    [theme=dark] .colab-df-convert:hover {\n",
              "      background-color: #434B5C;\n",
              "      box-shadow: 0px 1px 3px 1px rgba(0, 0, 0, 0.15);\n",
              "      filter: drop-shadow(0px 1px 2px rgba(0, 0, 0, 0.3));\n",
              "      fill: #FFFFFF;\n",
              "    }\n",
              "  </style>\n",
              "\n",
              "      <script>\n",
              "        const buttonEl =\n",
              "          document.querySelector('#df-3bea0825-a58f-40df-ad3c-d7cb1bc686e0 button.colab-df-convert');\n",
              "        buttonEl.style.display =\n",
              "          google.colab.kernel.accessAllowed ? 'block' : 'none';\n",
              "\n",
              "        async function convertToInteractive(key) {\n",
              "          const element = document.querySelector('#df-3bea0825-a58f-40df-ad3c-d7cb1bc686e0');\n",
              "          const dataTable =\n",
              "            await google.colab.kernel.invokeFunction('convertToInteractive',\n",
              "                                                     [key], {});\n",
              "          if (!dataTable) return;\n",
              "\n",
              "          const docLinkHtml = 'Like what you see? Visit the ' +\n",
              "            '<a target=\"_blank\" href=https://colab.research.google.com/notebooks/data_table.ipynb>data table notebook</a>'\n",
              "            + ' to learn more about interactive tables.';\n",
              "          element.innerHTML = '';\n",
              "          dataTable['output_type'] = 'display_data';\n",
              "          await google.colab.output.renderOutput(dataTable, element);\n",
              "          const docLink = document.createElement('div');\n",
              "          docLink.innerHTML = docLinkHtml;\n",
              "          element.appendChild(docLink);\n",
              "        }\n",
              "      </script>\n",
              "    </div>\n",
              "  </div>\n",
              "  "
            ]
          },
          "metadata": {},
          "execution_count": 356
        }
      ],
      "source": [
        "#Loading data into dataframe\n",
        "\n",
        "data = pd.read_csv(\"phishing.csv\")\n",
        "data.head()"
      ]
    },
    {
      "cell_type": "markdown",
      "id": "0413b490",
      "metadata": {
        "id": "0413b490"
      },
      "source": [
        "## 2. Familiarizing with Data & EDA:\n",
        "In this step, few dataframe methods are used to look into the data and its features."
      ]
    },
    {
      "cell_type": "code",
      "execution_count": null,
      "id": "9ccdddc5",
      "metadata": {
        "colab": {
          "base_uri": "https://localhost:8080/"
        },
        "id": "9ccdddc5",
        "outputId": "dddf017d-e39d-437a-fd83-38c0ea228eaf"
      },
      "outputs": [
        {
          "output_type": "execute_result",
          "data": {
            "text/plain": [
              "(11054, 32)"
            ]
          },
          "metadata": {},
          "execution_count": 357
        }
      ],
      "source": [
        "#Shape of dataframe\n",
        "\n",
        "data.shape"
      ]
    },
    {
      "cell_type": "code",
      "execution_count": null,
      "id": "c1e2ca3b",
      "metadata": {
        "colab": {
          "base_uri": "https://localhost:8080/"
        },
        "id": "c1e2ca3b",
        "outputId": "2648c337-907d-4c6f-ad10-90d20f9da5fe"
      },
      "outputs": [
        {
          "output_type": "execute_result",
          "data": {
            "text/plain": [
              "Index(['Index', 'UsingIP', 'LongURL', 'ShortURL', 'Symbol@', 'Redirecting//',\n",
              "       'PrefixSuffix-', 'SubDomains', 'HTTPS', 'DomainRegLen', 'Favicon',\n",
              "       'NonStdPort', 'HTTPSDomainURL', 'RequestURL', 'AnchorURL',\n",
              "       'LinksInScriptTags', 'ServerFormHandler', 'InfoEmail', 'AbnormalURL',\n",
              "       'WebsiteForwarding', 'StatusBarCust', 'DisableRightClick',\n",
              "       'UsingPopupWindow', 'IframeRedirection', 'AgeofDomain', 'DNSRecording',\n",
              "       'WebsiteTraffic', 'PageRank', 'GoogleIndex', 'LinksPointingToPage',\n",
              "       'StatsReport', 'class'],\n",
              "      dtype='object')"
            ]
          },
          "metadata": {},
          "execution_count": 358
        }
      ],
      "source": [
        "#Listing the features of the dataset\n",
        "\n",
        "data.columns"
      ]
    },
    {
      "cell_type": "code",
      "execution_count": null,
      "id": "8ec005bb",
      "metadata": {
        "colab": {
          "base_uri": "https://localhost:8080/"
        },
        "id": "8ec005bb",
        "outputId": "e3fa067e-9afd-4900-bc09-e05db3025db3"
      },
      "outputs": [
        {
          "output_type": "stream",
          "name": "stdout",
          "text": [
            "<class 'pandas.core.frame.DataFrame'>\n",
            "RangeIndex: 11054 entries, 0 to 11053\n",
            "Data columns (total 32 columns):\n",
            " #   Column               Non-Null Count  Dtype\n",
            "---  ------               --------------  -----\n",
            " 0   Index                11054 non-null  int64\n",
            " 1   UsingIP              11054 non-null  int64\n",
            " 2   LongURL              11054 non-null  int64\n",
            " 3   ShortURL             11054 non-null  int64\n",
            " 4   Symbol@              11054 non-null  int64\n",
            " 5   Redirecting//        11054 non-null  int64\n",
            " 6   PrefixSuffix-        11054 non-null  int64\n",
            " 7   SubDomains           11054 non-null  int64\n",
            " 8   HTTPS                11054 non-null  int64\n",
            " 9   DomainRegLen         11054 non-null  int64\n",
            " 10  Favicon              11054 non-null  int64\n",
            " 11  NonStdPort           11054 non-null  int64\n",
            " 12  HTTPSDomainURL       11054 non-null  int64\n",
            " 13  RequestURL           11054 non-null  int64\n",
            " 14  AnchorURL            11054 non-null  int64\n",
            " 15  LinksInScriptTags    11054 non-null  int64\n",
            " 16  ServerFormHandler    11054 non-null  int64\n",
            " 17  InfoEmail            11054 non-null  int64\n",
            " 18  AbnormalURL          11054 non-null  int64\n",
            " 19  WebsiteForwarding    11054 non-null  int64\n",
            " 20  StatusBarCust        11054 non-null  int64\n",
            " 21  DisableRightClick    11054 non-null  int64\n",
            " 22  UsingPopupWindow     11054 non-null  int64\n",
            " 23  IframeRedirection    11054 non-null  int64\n",
            " 24  AgeofDomain          11054 non-null  int64\n",
            " 25  DNSRecording         11054 non-null  int64\n",
            " 26  WebsiteTraffic       11054 non-null  int64\n",
            " 27  PageRank             11054 non-null  int64\n",
            " 28  GoogleIndex          11054 non-null  int64\n",
            " 29  LinksPointingToPage  11054 non-null  int64\n",
            " 30  StatsReport          11054 non-null  int64\n",
            " 31  class                11054 non-null  int64\n",
            "dtypes: int64(32)\n",
            "memory usage: 2.7 MB\n"
          ]
        }
      ],
      "source": [
        "#Information about the dataset\n",
        "\n",
        "data.info()"
      ]
    },
    {
      "cell_type": "code",
      "execution_count": null,
      "id": "18c1e021",
      "metadata": {
        "colab": {
          "base_uri": "https://localhost:8080/"
        },
        "id": "18c1e021",
        "outputId": "c7ae7e93-f831-49f9-8682-83384fd2914d"
      },
      "outputs": [
        {
          "output_type": "execute_result",
          "data": {
            "text/plain": [
              "Index                  11054\n",
              "UsingIP                    2\n",
              "LongURL                    3\n",
              "ShortURL                   2\n",
              "Symbol@                    2\n",
              "Redirecting//              2\n",
              "PrefixSuffix-              2\n",
              "SubDomains                 3\n",
              "HTTPS                      3\n",
              "DomainRegLen               2\n",
              "Favicon                    2\n",
              "NonStdPort                 2\n",
              "HTTPSDomainURL             2\n",
              "RequestURL                 2\n",
              "AnchorURL                  3\n",
              "LinksInScriptTags          3\n",
              "ServerFormHandler          3\n",
              "InfoEmail                  2\n",
              "AbnormalURL                2\n",
              "WebsiteForwarding          2\n",
              "StatusBarCust              2\n",
              "DisableRightClick          2\n",
              "UsingPopupWindow           2\n",
              "IframeRedirection          2\n",
              "AgeofDomain                2\n",
              "DNSRecording               2\n",
              "WebsiteTraffic             3\n",
              "PageRank                   2\n",
              "GoogleIndex                2\n",
              "LinksPointingToPage        3\n",
              "StatsReport                2\n",
              "class                      2\n",
              "dtype: int64"
            ]
          },
          "metadata": {},
          "execution_count": 360
        }
      ],
      "source": [
        "# nunique value in columns\n",
        "\n",
        "data.nunique()"
      ]
    },
    {
      "cell_type": "code",
      "execution_count": null,
      "id": "0df0debc",
      "metadata": {
        "id": "0df0debc"
      },
      "outputs": [],
      "source": [
        "#droping index column\n",
        "\n",
        "data = data.drop(['Index'],axis = 1)"
      ]
    },
    {
      "cell_type": "code",
      "execution_count": null,
      "id": "d4c7df9b",
      "metadata": {
        "colab": {
          "base_uri": "https://localhost:8080/",
          "height": 1000
        },
        "id": "d4c7df9b",
        "outputId": "15623f79-78c1-47d8-c53e-e4d014c67c52"
      },
      "outputs": [
        {
          "output_type": "execute_result",
          "data": {
            "text/plain": [
              "                       count      mean       std  min  25%  50%  75%  max\n",
              "UsingIP              11054.0  0.313914  0.949495 -1.0 -1.0  1.0  1.0  1.0\n",
              "LongURL              11054.0 -0.633345  0.765973 -1.0 -1.0 -1.0 -1.0  1.0\n",
              "ShortURL             11054.0  0.738737  0.674024 -1.0  1.0  1.0  1.0  1.0\n",
              "Symbol@              11054.0  0.700561  0.713625 -1.0  1.0  1.0  1.0  1.0\n",
              "Redirecting//        11054.0  0.741632  0.670837 -1.0  1.0  1.0  1.0  1.0\n",
              "PrefixSuffix-        11054.0 -0.734938  0.678165 -1.0 -1.0 -1.0 -1.0  1.0\n",
              "SubDomains           11054.0  0.064049  0.817492 -1.0 -1.0  0.0  1.0  1.0\n",
              "HTTPS                11054.0  0.251040  0.911856 -1.0 -1.0  1.0  1.0  1.0\n",
              "DomainRegLen         11054.0 -0.336711  0.941651 -1.0 -1.0 -1.0  1.0  1.0\n",
              "Favicon              11054.0  0.628551  0.777804 -1.0  1.0  1.0  1.0  1.0\n",
              "NonStdPort           11054.0  0.728243  0.685350 -1.0  1.0  1.0  1.0  1.0\n",
              "HTTPSDomainURL       11054.0  0.675231  0.737640 -1.0  1.0  1.0  1.0  1.0\n",
              "RequestURL           11054.0  0.186720  0.982458 -1.0 -1.0  1.0  1.0  1.0\n",
              "AnchorURL            11054.0 -0.076443  0.715116 -1.0 -1.0  0.0  0.0  1.0\n",
              "LinksInScriptTags    11054.0 -0.118238  0.763933 -1.0 -1.0  0.0  0.0  1.0\n",
              "ServerFormHandler    11054.0 -0.595712  0.759168 -1.0 -1.0 -1.0 -1.0  1.0\n",
              "InfoEmail            11054.0  0.635788  0.771899 -1.0  1.0  1.0  1.0  1.0\n",
              "AbnormalURL          11054.0  0.705446  0.708796 -1.0  1.0  1.0  1.0  1.0\n",
              "WebsiteForwarding    11054.0  0.115705  0.319885  0.0  0.0  0.0  0.0  1.0\n",
              "StatusBarCust        11054.0  0.762077  0.647516 -1.0  1.0  1.0  1.0  1.0\n",
              "DisableRightClick    11054.0  0.913877  0.406009 -1.0  1.0  1.0  1.0  1.0\n",
              "UsingPopupWindow     11054.0  0.613353  0.789845 -1.0  1.0  1.0  1.0  1.0\n",
              "IframeRedirection    11054.0  0.816899  0.576807 -1.0  1.0  1.0  1.0  1.0\n",
              "AgeofDomain          11054.0  0.061335  0.998162 -1.0 -1.0  1.0  1.0  1.0\n",
              "DNSRecording         11054.0  0.377239  0.926158 -1.0 -1.0  1.0  1.0  1.0\n",
              "WebsiteTraffic       11054.0  0.287407  0.827680 -1.0  0.0  1.0  1.0  1.0\n",
              "PageRank             11054.0 -0.483626  0.875314 -1.0 -1.0 -1.0  1.0  1.0\n",
              "GoogleIndex          11054.0  0.721549  0.692395 -1.0  1.0  1.0  1.0  1.0\n",
              "LinksPointingToPage  11054.0  0.343948  0.569936 -1.0  0.0  0.0  1.0  1.0\n",
              "StatsReport          11054.0  0.719739  0.694276 -1.0  1.0  1.0  1.0  1.0\n",
              "class                11054.0  0.113986  0.993527 -1.0 -1.0  1.0  1.0  1.0"
            ],
            "text/html": [
              "\n",
              "  <div id=\"df-0b65a1f3-4aa2-4817-8f10-6e50c9e3710c\">\n",
              "    <div class=\"colab-df-container\">\n",
              "      <div>\n",
              "<style scoped>\n",
              "    .dataframe tbody tr th:only-of-type {\n",
              "        vertical-align: middle;\n",
              "    }\n",
              "\n",
              "    .dataframe tbody tr th {\n",
              "        vertical-align: top;\n",
              "    }\n",
              "\n",
              "    .dataframe thead th {\n",
              "        text-align: right;\n",
              "    }\n",
              "</style>\n",
              "<table border=\"1\" class=\"dataframe\">\n",
              "  <thead>\n",
              "    <tr style=\"text-align: right;\">\n",
              "      <th></th>\n",
              "      <th>count</th>\n",
              "      <th>mean</th>\n",
              "      <th>std</th>\n",
              "      <th>min</th>\n",
              "      <th>25%</th>\n",
              "      <th>50%</th>\n",
              "      <th>75%</th>\n",
              "      <th>max</th>\n",
              "    </tr>\n",
              "  </thead>\n",
              "  <tbody>\n",
              "    <tr>\n",
              "      <th>UsingIP</th>\n",
              "      <td>11054.0</td>\n",
              "      <td>0.313914</td>\n",
              "      <td>0.949495</td>\n",
              "      <td>-1.0</td>\n",
              "      <td>-1.0</td>\n",
              "      <td>1.0</td>\n",
              "      <td>1.0</td>\n",
              "      <td>1.0</td>\n",
              "    </tr>\n",
              "    <tr>\n",
              "      <th>LongURL</th>\n",
              "      <td>11054.0</td>\n",
              "      <td>-0.633345</td>\n",
              "      <td>0.765973</td>\n",
              "      <td>-1.0</td>\n",
              "      <td>-1.0</td>\n",
              "      <td>-1.0</td>\n",
              "      <td>-1.0</td>\n",
              "      <td>1.0</td>\n",
              "    </tr>\n",
              "    <tr>\n",
              "      <th>ShortURL</th>\n",
              "      <td>11054.0</td>\n",
              "      <td>0.738737</td>\n",
              "      <td>0.674024</td>\n",
              "      <td>-1.0</td>\n",
              "      <td>1.0</td>\n",
              "      <td>1.0</td>\n",
              "      <td>1.0</td>\n",
              "      <td>1.0</td>\n",
              "    </tr>\n",
              "    <tr>\n",
              "      <th>Symbol@</th>\n",
              "      <td>11054.0</td>\n",
              "      <td>0.700561</td>\n",
              "      <td>0.713625</td>\n",
              "      <td>-1.0</td>\n",
              "      <td>1.0</td>\n",
              "      <td>1.0</td>\n",
              "      <td>1.0</td>\n",
              "      <td>1.0</td>\n",
              "    </tr>\n",
              "    <tr>\n",
              "      <th>Redirecting//</th>\n",
              "      <td>11054.0</td>\n",
              "      <td>0.741632</td>\n",
              "      <td>0.670837</td>\n",
              "      <td>-1.0</td>\n",
              "      <td>1.0</td>\n",
              "      <td>1.0</td>\n",
              "      <td>1.0</td>\n",
              "      <td>1.0</td>\n",
              "    </tr>\n",
              "    <tr>\n",
              "      <th>PrefixSuffix-</th>\n",
              "      <td>11054.0</td>\n",
              "      <td>-0.734938</td>\n",
              "      <td>0.678165</td>\n",
              "      <td>-1.0</td>\n",
              "      <td>-1.0</td>\n",
              "      <td>-1.0</td>\n",
              "      <td>-1.0</td>\n",
              "      <td>1.0</td>\n",
              "    </tr>\n",
              "    <tr>\n",
              "      <th>SubDomains</th>\n",
              "      <td>11054.0</td>\n",
              "      <td>0.064049</td>\n",
              "      <td>0.817492</td>\n",
              "      <td>-1.0</td>\n",
              "      <td>-1.0</td>\n",
              "      <td>0.0</td>\n",
              "      <td>1.0</td>\n",
              "      <td>1.0</td>\n",
              "    </tr>\n",
              "    <tr>\n",
              "      <th>HTTPS</th>\n",
              "      <td>11054.0</td>\n",
              "      <td>0.251040</td>\n",
              "      <td>0.911856</td>\n",
              "      <td>-1.0</td>\n",
              "      <td>-1.0</td>\n",
              "      <td>1.0</td>\n",
              "      <td>1.0</td>\n",
              "      <td>1.0</td>\n",
              "    </tr>\n",
              "    <tr>\n",
              "      <th>DomainRegLen</th>\n",
              "      <td>11054.0</td>\n",
              "      <td>-0.336711</td>\n",
              "      <td>0.941651</td>\n",
              "      <td>-1.0</td>\n",
              "      <td>-1.0</td>\n",
              "      <td>-1.0</td>\n",
              "      <td>1.0</td>\n",
              "      <td>1.0</td>\n",
              "    </tr>\n",
              "    <tr>\n",
              "      <th>Favicon</th>\n",
              "      <td>11054.0</td>\n",
              "      <td>0.628551</td>\n",
              "      <td>0.777804</td>\n",
              "      <td>-1.0</td>\n",
              "      <td>1.0</td>\n",
              "      <td>1.0</td>\n",
              "      <td>1.0</td>\n",
              "      <td>1.0</td>\n",
              "    </tr>\n",
              "    <tr>\n",
              "      <th>NonStdPort</th>\n",
              "      <td>11054.0</td>\n",
              "      <td>0.728243</td>\n",
              "      <td>0.685350</td>\n",
              "      <td>-1.0</td>\n",
              "      <td>1.0</td>\n",
              "      <td>1.0</td>\n",
              "      <td>1.0</td>\n",
              "      <td>1.0</td>\n",
              "    </tr>\n",
              "    <tr>\n",
              "      <th>HTTPSDomainURL</th>\n",
              "      <td>11054.0</td>\n",
              "      <td>0.675231</td>\n",
              "      <td>0.737640</td>\n",
              "      <td>-1.0</td>\n",
              "      <td>1.0</td>\n",
              "      <td>1.0</td>\n",
              "      <td>1.0</td>\n",
              "      <td>1.0</td>\n",
              "    </tr>\n",
              "    <tr>\n",
              "      <th>RequestURL</th>\n",
              "      <td>11054.0</td>\n",
              "      <td>0.186720</td>\n",
              "      <td>0.982458</td>\n",
              "      <td>-1.0</td>\n",
              "      <td>-1.0</td>\n",
              "      <td>1.0</td>\n",
              "      <td>1.0</td>\n",
              "      <td>1.0</td>\n",
              "    </tr>\n",
              "    <tr>\n",
              "      <th>AnchorURL</th>\n",
              "      <td>11054.0</td>\n",
              "      <td>-0.076443</td>\n",
              "      <td>0.715116</td>\n",
              "      <td>-1.0</td>\n",
              "      <td>-1.0</td>\n",
              "      <td>0.0</td>\n",
              "      <td>0.0</td>\n",
              "      <td>1.0</td>\n",
              "    </tr>\n",
              "    <tr>\n",
              "      <th>LinksInScriptTags</th>\n",
              "      <td>11054.0</td>\n",
              "      <td>-0.118238</td>\n",
              "      <td>0.763933</td>\n",
              "      <td>-1.0</td>\n",
              "      <td>-1.0</td>\n",
              "      <td>0.0</td>\n",
              "      <td>0.0</td>\n",
              "      <td>1.0</td>\n",
              "    </tr>\n",
              "    <tr>\n",
              "      <th>ServerFormHandler</th>\n",
              "      <td>11054.0</td>\n",
              "      <td>-0.595712</td>\n",
              "      <td>0.759168</td>\n",
              "      <td>-1.0</td>\n",
              "      <td>-1.0</td>\n",
              "      <td>-1.0</td>\n",
              "      <td>-1.0</td>\n",
              "      <td>1.0</td>\n",
              "    </tr>\n",
              "    <tr>\n",
              "      <th>InfoEmail</th>\n",
              "      <td>11054.0</td>\n",
              "      <td>0.635788</td>\n",
              "      <td>0.771899</td>\n",
              "      <td>-1.0</td>\n",
              "      <td>1.0</td>\n",
              "      <td>1.0</td>\n",
              "      <td>1.0</td>\n",
              "      <td>1.0</td>\n",
              "    </tr>\n",
              "    <tr>\n",
              "      <th>AbnormalURL</th>\n",
              "      <td>11054.0</td>\n",
              "      <td>0.705446</td>\n",
              "      <td>0.708796</td>\n",
              "      <td>-1.0</td>\n",
              "      <td>1.0</td>\n",
              "      <td>1.0</td>\n",
              "      <td>1.0</td>\n",
              "      <td>1.0</td>\n",
              "    </tr>\n",
              "    <tr>\n",
              "      <th>WebsiteForwarding</th>\n",
              "      <td>11054.0</td>\n",
              "      <td>0.115705</td>\n",
              "      <td>0.319885</td>\n",
              "      <td>0.0</td>\n",
              "      <td>0.0</td>\n",
              "      <td>0.0</td>\n",
              "      <td>0.0</td>\n",
              "      <td>1.0</td>\n",
              "    </tr>\n",
              "    <tr>\n",
              "      <th>StatusBarCust</th>\n",
              "      <td>11054.0</td>\n",
              "      <td>0.762077</td>\n",
              "      <td>0.647516</td>\n",
              "      <td>-1.0</td>\n",
              "      <td>1.0</td>\n",
              "      <td>1.0</td>\n",
              "      <td>1.0</td>\n",
              "      <td>1.0</td>\n",
              "    </tr>\n",
              "    <tr>\n",
              "      <th>DisableRightClick</th>\n",
              "      <td>11054.0</td>\n",
              "      <td>0.913877</td>\n",
              "      <td>0.406009</td>\n",
              "      <td>-1.0</td>\n",
              "      <td>1.0</td>\n",
              "      <td>1.0</td>\n",
              "      <td>1.0</td>\n",
              "      <td>1.0</td>\n",
              "    </tr>\n",
              "    <tr>\n",
              "      <th>UsingPopupWindow</th>\n",
              "      <td>11054.0</td>\n",
              "      <td>0.613353</td>\n",
              "      <td>0.789845</td>\n",
              "      <td>-1.0</td>\n",
              "      <td>1.0</td>\n",
              "      <td>1.0</td>\n",
              "      <td>1.0</td>\n",
              "      <td>1.0</td>\n",
              "    </tr>\n",
              "    <tr>\n",
              "      <th>IframeRedirection</th>\n",
              "      <td>11054.0</td>\n",
              "      <td>0.816899</td>\n",
              "      <td>0.576807</td>\n",
              "      <td>-1.0</td>\n",
              "      <td>1.0</td>\n",
              "      <td>1.0</td>\n",
              "      <td>1.0</td>\n",
              "      <td>1.0</td>\n",
              "    </tr>\n",
              "    <tr>\n",
              "      <th>AgeofDomain</th>\n",
              "      <td>11054.0</td>\n",
              "      <td>0.061335</td>\n",
              "      <td>0.998162</td>\n",
              "      <td>-1.0</td>\n",
              "      <td>-1.0</td>\n",
              "      <td>1.0</td>\n",
              "      <td>1.0</td>\n",
              "      <td>1.0</td>\n",
              "    </tr>\n",
              "    <tr>\n",
              "      <th>DNSRecording</th>\n",
              "      <td>11054.0</td>\n",
              "      <td>0.377239</td>\n",
              "      <td>0.926158</td>\n",
              "      <td>-1.0</td>\n",
              "      <td>-1.0</td>\n",
              "      <td>1.0</td>\n",
              "      <td>1.0</td>\n",
              "      <td>1.0</td>\n",
              "    </tr>\n",
              "    <tr>\n",
              "      <th>WebsiteTraffic</th>\n",
              "      <td>11054.0</td>\n",
              "      <td>0.287407</td>\n",
              "      <td>0.827680</td>\n",
              "      <td>-1.0</td>\n",
              "      <td>0.0</td>\n",
              "      <td>1.0</td>\n",
              "      <td>1.0</td>\n",
              "      <td>1.0</td>\n",
              "    </tr>\n",
              "    <tr>\n",
              "      <th>PageRank</th>\n",
              "      <td>11054.0</td>\n",
              "      <td>-0.483626</td>\n",
              "      <td>0.875314</td>\n",
              "      <td>-1.0</td>\n",
              "      <td>-1.0</td>\n",
              "      <td>-1.0</td>\n",
              "      <td>1.0</td>\n",
              "      <td>1.0</td>\n",
              "    </tr>\n",
              "    <tr>\n",
              "      <th>GoogleIndex</th>\n",
              "      <td>11054.0</td>\n",
              "      <td>0.721549</td>\n",
              "      <td>0.692395</td>\n",
              "      <td>-1.0</td>\n",
              "      <td>1.0</td>\n",
              "      <td>1.0</td>\n",
              "      <td>1.0</td>\n",
              "      <td>1.0</td>\n",
              "    </tr>\n",
              "    <tr>\n",
              "      <th>LinksPointingToPage</th>\n",
              "      <td>11054.0</td>\n",
              "      <td>0.343948</td>\n",
              "      <td>0.569936</td>\n",
              "      <td>-1.0</td>\n",
              "      <td>0.0</td>\n",
              "      <td>0.0</td>\n",
              "      <td>1.0</td>\n",
              "      <td>1.0</td>\n",
              "    </tr>\n",
              "    <tr>\n",
              "      <th>StatsReport</th>\n",
              "      <td>11054.0</td>\n",
              "      <td>0.719739</td>\n",
              "      <td>0.694276</td>\n",
              "      <td>-1.0</td>\n",
              "      <td>1.0</td>\n",
              "      <td>1.0</td>\n",
              "      <td>1.0</td>\n",
              "      <td>1.0</td>\n",
              "    </tr>\n",
              "    <tr>\n",
              "      <th>class</th>\n",
              "      <td>11054.0</td>\n",
              "      <td>0.113986</td>\n",
              "      <td>0.993527</td>\n",
              "      <td>-1.0</td>\n",
              "      <td>-1.0</td>\n",
              "      <td>1.0</td>\n",
              "      <td>1.0</td>\n",
              "      <td>1.0</td>\n",
              "    </tr>\n",
              "  </tbody>\n",
              "</table>\n",
              "</div>\n",
              "      <button class=\"colab-df-convert\" onclick=\"convertToInteractive('df-0b65a1f3-4aa2-4817-8f10-6e50c9e3710c')\"\n",
              "              title=\"Convert this dataframe to an interactive table.\"\n",
              "              style=\"display:none;\">\n",
              "        \n",
              "  <svg xmlns=\"http://www.w3.org/2000/svg\" height=\"24px\"viewBox=\"0 0 24 24\"\n",
              "       width=\"24px\">\n",
              "    <path d=\"M0 0h24v24H0V0z\" fill=\"none\"/>\n",
              "    <path d=\"M18.56 5.44l.94 2.06.94-2.06 2.06-.94-2.06-.94-.94-2.06-.94 2.06-2.06.94zm-11 1L8.5 8.5l.94-2.06 2.06-.94-2.06-.94L8.5 2.5l-.94 2.06-2.06.94zm10 10l.94 2.06.94-2.06 2.06-.94-2.06-.94-.94-2.06-.94 2.06-2.06.94z\"/><path d=\"M17.41 7.96l-1.37-1.37c-.4-.4-.92-.59-1.43-.59-.52 0-1.04.2-1.43.59L10.3 9.45l-7.72 7.72c-.78.78-.78 2.05 0 2.83L4 21.41c.39.39.9.59 1.41.59.51 0 1.02-.2 1.41-.59l7.78-7.78 2.81-2.81c.8-.78.8-2.07 0-2.86zM5.41 20L4 18.59l7.72-7.72 1.47 1.35L5.41 20z\"/>\n",
              "  </svg>\n",
              "      </button>\n",
              "      \n",
              "  <style>\n",
              "    .colab-df-container {\n",
              "      display:flex;\n",
              "      flex-wrap:wrap;\n",
              "      gap: 12px;\n",
              "    }\n",
              "\n",
              "    .colab-df-convert {\n",
              "      background-color: #E8F0FE;\n",
              "      border: none;\n",
              "      border-radius: 50%;\n",
              "      cursor: pointer;\n",
              "      display: none;\n",
              "      fill: #1967D2;\n",
              "      height: 32px;\n",
              "      padding: 0 0 0 0;\n",
              "      width: 32px;\n",
              "    }\n",
              "\n",
              "    .colab-df-convert:hover {\n",
              "      background-color: #E2EBFA;\n",
              "      box-shadow: 0px 1px 2px rgba(60, 64, 67, 0.3), 0px 1px 3px 1px rgba(60, 64, 67, 0.15);\n",
              "      fill: #174EA6;\n",
              "    }\n",
              "\n",
              "    [theme=dark] .colab-df-convert {\n",
              "      background-color: #3B4455;\n",
              "      fill: #D2E3FC;\n",
              "    }\n",
              "\n",
              "    [theme=dark] .colab-df-convert:hover {\n",
              "      background-color: #434B5C;\n",
              "      box-shadow: 0px 1px 3px 1px rgba(0, 0, 0, 0.15);\n",
              "      filter: drop-shadow(0px 1px 2px rgba(0, 0, 0, 0.3));\n",
              "      fill: #FFFFFF;\n",
              "    }\n",
              "  </style>\n",
              "\n",
              "      <script>\n",
              "        const buttonEl =\n",
              "          document.querySelector('#df-0b65a1f3-4aa2-4817-8f10-6e50c9e3710c button.colab-df-convert');\n",
              "        buttonEl.style.display =\n",
              "          google.colab.kernel.accessAllowed ? 'block' : 'none';\n",
              "\n",
              "        async function convertToInteractive(key) {\n",
              "          const element = document.querySelector('#df-0b65a1f3-4aa2-4817-8f10-6e50c9e3710c');\n",
              "          const dataTable =\n",
              "            await google.colab.kernel.invokeFunction('convertToInteractive',\n",
              "                                                     [key], {});\n",
              "          if (!dataTable) return;\n",
              "\n",
              "          const docLinkHtml = 'Like what you see? Visit the ' +\n",
              "            '<a target=\"_blank\" href=https://colab.research.google.com/notebooks/data_table.ipynb>data table notebook</a>'\n",
              "            + ' to learn more about interactive tables.';\n",
              "          element.innerHTML = '';\n",
              "          dataTable['output_type'] = 'display_data';\n",
              "          await google.colab.output.renderOutput(dataTable, element);\n",
              "          const docLink = document.createElement('div');\n",
              "          docLink.innerHTML = docLinkHtml;\n",
              "          element.appendChild(docLink);\n",
              "        }\n",
              "      </script>\n",
              "    </div>\n",
              "  </div>\n",
              "  "
            ]
          },
          "metadata": {},
          "execution_count": 362
        }
      ],
      "source": [
        "#description of dataset\n",
        "\n",
        "data.describe().T"
      ]
    },
    {
      "cell_type": "markdown",
      "source": [
        "##3. Feature Extraction"
      ],
      "metadata": {
        "id": "_BRsvwPIX_yM"
      },
      "id": "_BRsvwPIX_yM"
    },
    {
      "cell_type": "code",
      "source": [
        "import pandas as pd\n",
        "import numpy as np\n",
        "import seaborn as sns\n",
        "from sklearn.feature_selection import f_classif, SelectKBest\n",
        "from sklearn.ensemble import RandomForestClassifier\n",
        "from sklearn.metrics import accuracy_score\n",
        "from sklearn.model_selection import train_test_split\n",
        "import matplotlib.pyplot as plt"
      ],
      "metadata": {
        "id": "VAc_THSlY-gt"
      },
      "id": "VAc_THSlY-gt",
      "execution_count": null,
      "outputs": []
    },
    {
      "cell_type": "code",
      "source": [
        "# Select the URL-related features\n",
        "url_features = data.iloc[:, :-1]\n",
        "\n",
        "# Define the target variable\n",
        "target = data.iloc[:, -1]\n",
        "\n",
        "# Perform feature selection using ANOVA F-value as the criterion\n",
        "k_best = SelectKBest(f_classif, k=12)\n",
        "k_best.fit(url_features, target)\n",
        "\n",
        "# Get the indices of the top 12 features\n",
        "top_features = k_best.get_support(indices=True)\n",
        "\n",
        "# Print the names of the top 12 features\n",
        "feature_names = url_features.columns[top_features]\n",
        "print(\"Top 12 features: \", feature_names)\n",
        "\n",
        "# Train a random forest classifier on the selected features\n",
        "X_train, X_test, y_train, y_test = train_test_split(url_features.iloc[:, top_features], target, test_size=0.3, random_state=42)\n",
        "\n",
        "rf = RandomForestClassifier()\n",
        "rf.fit(X_train, y_train)\n",
        "\n",
        "# Evaluate the performance of the model on the test set\n",
        "y_pred = rf.predict(X_test)\n",
        "accuracy = accuracy_score(y_test, y_pred)\n",
        "print(\"Accuracy on test set: \", accuracy)\n",
        "\n",
        "# Create a chart of the accuracy on the test set\n",
        "num_trees = [1, 10, 50, 100, 200, 500]\n",
        "accuracy_scores = []\n",
        "\n",
        "for n in num_trees:\n",
        "    rf = RandomForestClassifier(n_estimators=n)\n",
        "    rf.fit(X_train, y_train)\n",
        "    y_pred = rf.predict(X_test)\n",
        "    accuracy = accuracy_score(y_test, y_pred)\n",
        "    accuracy_scores.append(accuracy)\n",
        "\n",
        "plt.plot(num_trees, accuracy_scores)\n",
        "plt.title(\"Accuracy of Random Forest Classifier\")\n",
        "plt.xlabel(\"Number of Trees\")\n",
        "plt.ylabel(\"Accuracy\")\n",
        "plt.show()"
      ],
      "metadata": {
        "id": "UWrs3FymX-jG",
        "colab": {
          "base_uri": "https://localhost:8080/",
          "height": 559
        },
        "outputId": "0ca2e747-ecbe-45dd-ad62-05f7aad15aa3"
      },
      "id": "UWrs3FymX-jG",
      "execution_count": null,
      "outputs": [
        {
          "output_type": "stream",
          "name": "stdout",
          "text": [
            "Top 12 features:  Index(['PrefixSuffix-', 'SubDomains', 'HTTPS', 'DomainRegLen', 'RequestURL',\n",
            "       'AnchorURL', 'LinksInScriptTags', 'ServerFormHandler', 'AgeofDomain',\n",
            "       'WebsiteTraffic', 'PageRank', 'GoogleIndex'],\n",
            "      dtype='object')\n",
            "Accuracy on test set:  0.9517636418450407\n"
          ]
        },
        {
          "output_type": "display_data",
          "data": {
            "text/plain": [
              "<Figure size 640x480 with 1 Axes>"
            ],
            "image/png": "[encoded data removed]"
          },
          "metadata": {}
        }
      ]
    },
    {
      "cell_type": "markdown",
      "id": "d1cda572",
      "metadata": {
        "id": "d1cda572"
      },
      "source": [
        "## 4. Visualizing the data:\n",
        "Few plots and graphs are displayed to find how the data is distributed and the how features are related to each other."
      ]
    },
    {
      "cell_type": "code",
      "source": [
        "# Plot a heatmap of the correlation matrix of the top 12 features\n",
        "corr_matrix = url_features.iloc[:, top_features].corr()\n",
        "sns.heatmap(corr_matrix, annot=True, cmap='coolwarm')\n",
        "plt.title(\"Correlation Matrix of Top 12 Features\")\n",
        "plt.show()"
      ],
      "metadata": {
        "colab": {
          "base_uri": "https://localhost:8080/",
          "height": 573
        },
        "id": "clrXKNF7bMK5",
        "outputId": "c695c56d-67f2-4686-a865-6db5af116498"
      },
      "id": "clrXKNF7bMK5",
      "execution_count": null,
      "outputs": [
        {
          "output_type": "display_data",
          "data": {
            "text/plain": [
              "<Figure size 640x480 with 2 Axes>"
            ],
            "image/png": "[encoded data removed]"
          },
          "metadata": {}
        }
      ]
    },
    {
      "cell_type": "code",
      "execution_count": null,
      "id": "1999dba3",
      "metadata": {
        "id": "1999dba3",
        "colab": {
          "base_uri": "https://localhost:8080/",
          "height": 428
        },
        "outputId": "de5d8851-7960-4e05-8d53-c5e4925776e4"
      },
      "outputs": [
        {
          "output_type": "display_data",
          "data": {
            "text/plain": [
              "<Figure size 640x480 with 1 Axes>"
            ],
            "image/png": "[encoded data removed]"
          },
          "metadata": {}
        }
      ],
      "source": [
        "# Phishing Count in pie chart\n",
        "\n",
        "data['class'].value_counts().plot(kind='pie',autopct='%1.2f%%')\n",
        "plt.title(\"Phishing Count\")\n",
        "plt.show()"
      ]
    },
    {
      "cell_type": "markdown",
      "id": "3eee8c08",
      "metadata": {
        "id": "3eee8c08"
      },
      "source": [
        "## 5. Splitting the Data:\n",
        "The data is split into train & test sets, 80-20 split."
      ]
    },
    {
      "cell_type": "code",
      "execution_count": null,
      "id": "f3d90a24",
      "metadata": {
        "id": "f3d90a24"
      },
      "outputs": [],
      "source": [
        "# Splitting the dataset into dependant and independant fetature\n",
        "\n",
        "X = data.drop([\"class\"],axis =1)\n",
        "y = data[\"class\"]"
      ]
    },
    {
      "cell_type": "code",
      "execution_count": null,
      "id": "9de941d7",
      "metadata": {
        "id": "9de941d7",
        "colab": {
          "base_uri": "https://localhost:8080/"
        },
        "outputId": "47bd798e-85bc-4842-fe75-af4121b39cb9"
      },
      "outputs": [
        {
          "output_type": "execute_result",
          "data": {
            "text/plain": [
              "((7737, 12), (7737,), (3317, 12), (3317,))"
            ]
          },
          "metadata": {},
          "execution_count": 368
        }
      ],
      "source": [
        "# Splitting the dataset into train and test sets: 80-20 split\n",
        "\n",
        "from sklearn.model_selection import train_test_split\n",
        "\n",
        "#X_train, X_test, y_train, y_test = train_test_split(X, y, test_size = 0.2, random_state = 42)\n",
        "X_train, X_test, y_train, y_test = train_test_split(url_features.iloc[:, top_features], target, test_size=0.3, random_state=42)\n",
        "X_train.shape, y_train.shape, X_test.shape, y_test.shape"
      ]
    },
    {
      "cell_type": "markdown",
      "id": "1f1ae9dc",
      "metadata": {
        "id": "1f1ae9dc"
      },
      "source": [
        "## 6. Model Building & Training:\n",
        "\n",
        "\n",
        "1. Logistic Regression\n",
        "2. k-Nearest Neighbors\n",
        "3. Support Vector Clasifier\n",
        "4. Naive Bayes\n",
        "5. Decision Tree\n",
        "6. Random Forest\n",
        "7. Gradient Boosting\n",
        "8. Xgboost\n",
        "9. Multilayer Perceptrons\n",
        "\n",
        "              \n",
        "  The metrics considered to evaluate the model performance are Accuracy & F1 score."
      ]
    },
    {
      "cell_type": "code",
      "execution_count": null,
      "id": "55ac1416",
      "metadata": {
        "id": "55ac1416"
      },
      "outputs": [],
      "source": [
        "#  Creating holders to store the model performance results\n",
        "ML_Model = []\n",
        "accuracy = []\n",
        "f1_score = []\n",
        "recall = []\n",
        "precision = []\n",
        "\n",
        "\n",
        "#function to call for storing the results\n",
        "def storeResults(model, a,b,c,d):\n",
        "\n",
        "  ML_Model.append(model)\n",
        "  accuracy.append(round(a, 3))\n",
        "  f1_score.append(round(b, 3))\n",
        "  recall.append(round(c, 3))\n",
        "  precision.append(round(d, 3))\n",
        "\n",
        "\n"
      ]
    },
    {
      "cell_type": "markdown",
      "id": "a8724a53",
      "metadata": {
        "id": "a8724a53"
      },
      "source": [
        "## 6.1. Logistic Regression\n",
        "\n",
        "Logistic regression predicts the output of a categorical dependent variable. Therefore the outcome must be a categorical or discrete value. Logistic Regression is much similar to the Linear Regression except that how they are used. Linear Regression is used for solving Regression problems, whereas Logistic regression is used for solving the classification problems."
      ]
    },
    {
      "cell_type": "code",
      "execution_count": null,
      "id": "1aa0632f",
      "metadata": {
        "id": "1aa0632f",
        "colab": {
          "base_uri": "https://localhost:8080/",
          "height": 74
        },
        "outputId": "b0877570-5226-4be5-8c82-b55b9db0425d"
      },
      "outputs": [
        {
          "output_type": "execute_result",
          "data": {
            "text/plain": [
              "LogisticRegression()"
            ],
            "text/html": [
              "<style>#sk-container-id-37 {color: black;background-color: white;}#sk-container-id-37 pre{padding: 0;}#sk-container-id-37 div.sk-toggleable {background-color: white;}#sk-container-id-37 label.sk-toggleable__label {cursor: pointer;display: block;width: 100%;margin-bottom: 0;padding: 0.3em;box-sizing: border-box;text-align: center;}#sk-container-id-37 label.sk-toggleable__label-arrow:before {content: \"▸\";float: left;margin-right: 0.25em;color: #696969;}#sk-container-id-37 label.sk-toggleable__label-arrow:hover:before {color: black;}#sk-container-id-37 div.sk-estimator:hover label.sk-toggleable__label-arrow:before {color: black;}#sk-container-id-37 div.sk-toggleable__content {max-height: 0;max-width: 0;overflow: hidden;text-align: left;background-color: #f0f8ff;}#sk-container-id-37 div.sk-toggleable__content pre {margin: 0.2em;color: black;border-radius: 0.25em;background-color: #f0f8ff;}#sk-container-id-37 input.sk-toggleable__control:checked~div.sk-toggleable__content {max-height: 200px;max-width: 100%;overflow: auto;}#sk-container-id-37 input.sk-toggleable__control:checked~label.sk-toggleable__label-arrow:before {content: \"▾\";}#sk-container-id-37 div.sk-estimator input.sk-toggleable__control:checked~label.sk-toggleable__label {background-color: #d4ebff;}#sk-container-id-37 div.sk-label input.sk-toggleable__control:checked~label.sk-toggleable__label {background-color: #d4ebff;}#sk-container-id-37 input.sk-hidden--visually {border: 0;clip: rect(1px 1px 1px 1px);clip: rect(1px, 1px, 1px, 1px);height: 1px;margin: -1px;overflow: hidden;padding: 0;position: absolute;width: 1px;}#sk-container-id-37 div.sk-estimator {font-family: monospace;background-color: #f0f8ff;border: 1px dotted black;border-radius: 0.25em;box-sizing: border-box;margin-bottom: 0.5em;}#sk-container-id-37 div.sk-estimator:hover {background-color: #d4ebff;}#sk-container-id-37 div.sk-parallel-item::after {content: \"\";width: 100%;border-bottom: 1px solid gray;flex-grow: 1;}#sk-container-id-37 div.sk-label:hover label.sk-toggleable__label {background-color: #d4ebff;}#sk-container-id-37 div.sk-serial::before {content: \"\";position: absolute;border-left: 1px solid gray;box-sizing: border-box;top: 0;bottom: 0;left: 50%;z-index: 0;}#sk-container-id-37 div.sk-serial {display: flex;flex-direction: column;align-items: center;background-color: white;padding-right: 0.2em;padding-left: 0.2em;position: relative;}#sk-container-id-37 div.sk-item {position: relative;z-index: 1;}#sk-container-id-37 div.sk-parallel {display: flex;align-items: stretch;justify-content: center;background-color: white;position: relative;}#sk-container-id-37 div.sk-item::before, #sk-container-id-37 div.sk-parallel-item::before {content: \"\";position: absolute;border-left: 1px solid gray;box-sizing: border-box;top: 0;bottom: 0;left: 50%;z-index: -1;}#sk-container-id-37 div.sk-parallel-item {display: flex;flex-direction: column;z-index: 1;position: relative;background-color: white;}#sk-container-id-37 div.sk-parallel-item:first-child::after {align-self: flex-end;width: 50%;}#sk-container-id-37 div.sk-parallel-item:last-child::after {align-self: flex-start;width: 50%;}#sk-container-id-37 div.sk-parallel-item:only-child::after {width: 0;}#sk-container-id-37 div.sk-dashed-wrapped {border: 1px dashed gray;margin: 0 0.4em 0.5em 0.4em;box-sizing: border-box;padding-bottom: 0.4em;background-color: white;}#sk-container-id-37 div.sk-label label {font-family: monospace;font-weight: bold;display: inline-block;line-height: 1.2em;}#sk-container-id-37 div.sk-label-container {text-align: center;}#sk-container-id-37 div.sk-container {/* jupyter's `normalize.less` sets `[hidden] { display: none; }` but bootstrap.min.css set `[hidden] { display: none !important; }` so we also need the `!important` here to be able to override the default hidden behavior on the sphinx rendered scikit-learn.org. See: https://github.com/scikit-learn/scikit-learn/issues/21755 */display: inline-block !important;position: relative;}#sk-container-id-37 div.sk-text-repr-fallback {display: none;}</style><div id=\"sk-container-id-37\" class=\"sk-top-container\"><div class=\"sk-text-repr-fallback\"><pre>LogisticRegression()</pre><b>In a Jupyter environment, please rerun this cell to show the HTML representation or trust the notebook. <br />On GitHub, the HTML representation is unable to render, please try loading this page with nbviewer.org.</b></div><div class=\"sk-container\" hidden><div class=\"sk-item\"><div class=\"sk-estimator sk-toggleable\"><input class=\"sk-toggleable__control sk-hidden--visually\" id=\"sk-estimator-id-45\" type=\"checkbox\" checked><label for=\"sk-estimator-id-45\" class=\"sk-toggleable__label sk-toggleable__label-arrow\">LogisticRegression</label><div class=\"sk-toggleable__content\"><pre>LogisticRegression()</pre></div></div></div></div></div>"
            ]
          },
          "metadata": {},
          "execution_count": 370
        }
      ],
      "source": [
        "# Linear regression model\n",
        "from sklearn.linear_model import LogisticRegression\n",
        "#from sklearn.pipeline import Pipeline\n",
        "\n",
        "# instantiate the model\n",
        "log = LogisticRegression()\n",
        "\n",
        "# fit the model\n",
        "log.fit(X_train,y_train)"
      ]
    },
    {
      "cell_type": "code",
      "execution_count": null,
      "id": "66af98cc",
      "metadata": {
        "id": "66af98cc"
      },
      "outputs": [],
      "source": [
        "#predicting the target value from the model for the samples\n",
        "\n",
        "y_train_log = log.predict(X_train)\n",
        "y_test_log = log.predict(X_test)"
      ]
    },
    {
      "cell_type": "code",
      "execution_count": null,
      "id": "bd4f1e81",
      "metadata": {
        "id": "bd4f1e81",
        "colab": {
          "base_uri": "https://localhost:8080/"
        },
        "outputId": "3f5309e1-775f-4228-d2a3-d8c671506ab1"
      },
      "outputs": [
        {
          "output_type": "stream",
          "name": "stdout",
          "text": [
            "Logistic Regression : Accuracy on training Data: 0.922\n",
            "Logistic Regression : Accuracy on test Data: 0.918\n",
            "\n",
            "Logistic Regression : f1_score on training Data: 0.921\n",
            "Logistic Regression : f1_score on test Data: 0.916\n",
            "\n",
            "Logistic Regression : Recall on training Data: 0.920\n",
            "Logistic Regression : Recall on test Data: 0.915\n",
            "\n",
            "Logistic Regression : precision on training Data: 0.923\n",
            "Logistic Regression : precision on test Data: 0.918\n"
          ]
        }
      ],
      "source": [
        "#computing the accuracy, f1_score, Recall, precision of the model performance\n",
        "\n",
        "acc_train_log = metrics.accuracy_score(y_train,y_train_log)\n",
        "acc_test_log = metrics.accuracy_score(y_test,y_test_log)\n",
        "print(\"Logistic Regression : Accuracy on training Data: {:.3f}\".format(acc_train_log))\n",
        "print(\"Logistic Regression : Accuracy on test Data: {:.3f}\".format(acc_test_log))\n",
        "print()\n",
        "\n",
        "f1_score_train_log = metrics.f1_score(y_train,y_train_log,average='macro')\n",
        "f1_score_test_log = metrics.f1_score(y_test,y_test_log,average='macro')\n",
        "print(\"Logistic Regression : f1_score on training Data: {:.3f}\".format(f1_score_train_log))\n",
        "print(\"Logistic Regression : f1_score on test Data: {:.3f}\".format(f1_score_test_log))\n",
        "print()\n",
        "\n",
        "recall_score_train_log = metrics.recall_score(y_train,y_train_log,average='macro')\n",
        "recall_score_test_log = metrics.recall_score(y_test,y_test_log,average='macro')\n",
        "print(\"Logistic Regression : Recall on training Data: {:.3f}\".format(recall_score_train_log))\n",
        "print(\"Logistic Regression : Recall on test Data: {:.3f}\".format(recall_score_test_log))\n",
        "print()\n",
        "\n",
        "precision_score_train_log = metrics.precision_score(y_train,y_train_log,average='macro')\n",
        "precision_score_test_log = metrics.precision_score(y_test,y_test_log,average='macro')\n",
        "print(\"Logistic Regression : precision on training Data: {:.3f}\".format(precision_score_train_log))\n",
        "print(\"Logistic Regression : precision on test Data: {:.3f}\".format(precision_score_test_log))"
      ]
    },
    {
      "cell_type": "code",
      "execution_count": null,
      "id": "314ae927",
      "metadata": {
        "id": "314ae927",
        "colab": {
          "base_uri": "https://localhost:8080/"
        },
        "outputId": "8768050f-85ed-46d0-ea37-b8f238c4cd68"
      },
      "outputs": [
        {
          "output_type": "stream",
          "name": "stdout",
          "text": [
            "              precision    recall  f1-score   support\n",
            "\n",
            "          -1       0.92      0.89      0.91      1455\n",
            "           1       0.92      0.94      0.93      1862\n",
            "\n",
            "    accuracy                           0.92      3317\n",
            "   macro avg       0.92      0.92      0.92      3317\n",
            "weighted avg       0.92      0.92      0.92      3317\n",
            "\n"
          ]
        }
      ],
      "source": [
        "#computing the classification report of the model\n",
        "\n",
        "print(metrics.classification_report(y_test, y_test_log))"
      ]
    },
    {
      "cell_type": "code",
      "source": [
        "import time\n",
        "\n",
        "\n",
        "start_time = time.time()\n",
        "log.fit(X_train, y_train)\n",
        "training_time = time.time() - start_time\n",
        "\n",
        "# Make predictions on the test set and measure the testing time\n",
        "start_time = time.time()\n",
        "y_pred = log.predict(X_test)\n",
        "testing_time = time.time() - start_time\n",
        "\n",
        "# Print the training and testing time\n",
        "print('Training time: {:.3f} seconds'.format(training_time))\n",
        "print('Testing time: {:.3f} seconds'.format(testing_time))"
      ],
      "metadata": {
        "id": "5hoVV8Hpr3Gj",
        "colab": {
          "base_uri": "https://localhost:8080/"
        },
        "outputId": "d4635c20-56e3-42be-dfa5-26c5429031ed"
      },
      "id": "5hoVV8Hpr3Gj",
      "execution_count": null,
      "outputs": [
        {
          "output_type": "stream",
          "name": "stdout",
          "text": [
            "Training time: 0.047 seconds\n",
            "Testing time: 0.006 seconds\n"
          ]
        }
      ]
    },
    {
      "cell_type": "code",
      "execution_count": null,
      "id": "e557df04",
      "metadata": {
        "id": "e557df04"
      },
      "outputs": [],
      "source": [
        "#storing the results. The below mentioned order of parameter passing is important.\n",
        "storeResults('Logistic Regression',acc_test_log,f1_score_test_log,\n",
        "             recall_score_train_log,precision_score_train_log)\n",
        "\n",
        ""
      ]
    },
    {
      "cell_type": "markdown",
      "id": "94a3a5bf",
      "metadata": {
        "id": "94a3a5bf"
      },
      "source": [
        "## 6.2. K-Nearest Neighbors : Classifier\n",
        "\n",
        "K-Nearest Neighbour is one of the simplest Machine Learning algorithms based on Supervised Learning technique. K-NN algorithm assumes the similarity between the new case/data and available cases and put the new case into the category that is most similar to the available categories."
      ]
    },
    {
      "cell_type": "code",
      "execution_count": null,
      "id": "fcdb78be",
      "metadata": {
        "id": "fcdb78be",
        "colab": {
          "base_uri": "https://localhost:8080/",
          "height": 74
        },
        "outputId": "cb5e0882-b77c-496d-aed3-44a21d658df1"
      },
      "outputs": [
        {
          "output_type": "execute_result",
          "data": {
            "text/plain": [
              "KNeighborsClassifier(n_neighbors=1)"
            ],
            "text/html": [
              "<style>#sk-container-id-38 {color: black;background-color: white;}#sk-container-id-38 pre{padding: 0;}#sk-container-id-38 div.sk-toggleable {background-color: white;}#sk-container-id-38 label.sk-toggleable__label {cursor: pointer;display: block;width: 100%;margin-bottom: 0;padding: 0.3em;box-sizing: border-box;text-align: center;}#sk-container-id-38 label.sk-toggleable__label-arrow:before {content: \"▸\";float: left;margin-right: 0.25em;color: #696969;}#sk-container-id-38 label.sk-toggleable__label-arrow:hover:before {color: black;}#sk-container-id-38 div.sk-estimator:hover label.sk-toggleable__label-arrow:before {color: black;}#sk-container-id-38 div.sk-toggleable__content {max-height: 0;max-width: 0;overflow: hidden;text-align: left;background-color: #f0f8ff;}#sk-container-id-38 div.sk-toggleable__content pre {margin: 0.2em;color: black;border-radius: 0.25em;background-color: #f0f8ff;}#sk-container-id-38 input.sk-toggleable__control:checked~div.sk-toggleable__content {max-height: 200px;max-width: 100%;overflow: auto;}#sk-container-id-38 input.sk-toggleable__control:checked~label.sk-toggleable__label-arrow:before {content: \"▾\";}#sk-container-id-38 div.sk-estimator input.sk-toggleable__control:checked~label.sk-toggleable__label {background-color: #d4ebff;}#sk-container-id-38 div.sk-label input.sk-toggleable__control:checked~label.sk-toggleable__label {background-color: #d4ebff;}#sk-container-id-38 input.sk-hidden--visually {border: 0;clip: rect(1px 1px 1px 1px);clip: rect(1px, 1px, 1px, 1px);height: 1px;margin: -1px;overflow: hidden;padding: 0;position: absolute;width: 1px;}#sk-container-id-38 div.sk-estimator {font-family: monospace;background-color: #f0f8ff;border: 1px dotted black;border-radius: 0.25em;box-sizing: border-box;margin-bottom: 0.5em;}#sk-container-id-38 div.sk-estimator:hover {background-color: #d4ebff;}#sk-container-id-38 div.sk-parallel-item::after {content: \"\";width: 100%;border-bottom: 1px solid gray;flex-grow: 1;}#sk-container-id-38 div.sk-label:hover label.sk-toggleable__label {background-color: #d4ebff;}#sk-container-id-38 div.sk-serial::before {content: \"\";position: absolute;border-left: 1px solid gray;box-sizing: border-box;top: 0;bottom: 0;left: 50%;z-index: 0;}#sk-container-id-38 div.sk-serial {display: flex;flex-direction: column;align-items: center;background-color: white;padding-right: 0.2em;padding-left: 0.2em;position: relative;}#sk-container-id-38 div.sk-item {position: relative;z-index: 1;}#sk-container-id-38 div.sk-parallel {display: flex;align-items: stretch;justify-content: center;background-color: white;position: relative;}#sk-container-id-38 div.sk-item::before, #sk-container-id-38 div.sk-parallel-item::before {content: \"\";position: absolute;border-left: 1px solid gray;box-sizing: border-box;top: 0;bottom: 0;left: 50%;z-index: -1;}#sk-container-id-38 div.sk-parallel-item {display: flex;flex-direction: column;z-index: 1;position: relative;background-color: white;}#sk-container-id-38 div.sk-parallel-item:first-child::after {align-self: flex-end;width: 50%;}#sk-container-id-38 div.sk-parallel-item:last-child::after {align-self: flex-start;width: 50%;}#sk-container-id-38 div.sk-parallel-item:only-child::after {width: 0;}#sk-container-id-38 div.sk-dashed-wrapped {border: 1px dashed gray;margin: 0 0.4em 0.5em 0.4em;box-sizing: border-box;padding-bottom: 0.4em;background-color: white;}#sk-container-id-38 div.sk-label label {font-family: monospace;font-weight: bold;display: inline-block;line-height: 1.2em;}#sk-container-id-38 div.sk-label-container {text-align: center;}#sk-container-id-38 div.sk-container {/* jupyter's `normalize.less` sets `[hidden] { display: none; }` but bootstrap.min.css set `[hidden] { display: none !important; }` so we also need the `!important` here to be able to override the default hidden behavior on the sphinx rendered scikit-learn.org. See: https://github.com/scikit-learn/scikit-learn/issues/21755 */display: inline-block !important;position: relative;}#sk-container-id-38 div.sk-text-repr-fallback {display: none;}</style><div id=\"sk-container-id-38\" class=\"sk-top-container\"><div class=\"sk-text-repr-fallback\"><pre>KNeighborsClassifier(n_neighbors=1)</pre><b>In a Jupyter environment, please rerun this cell to show the HTML representation or trust the notebook. <br />On GitHub, the HTML representation is unable to render, please try loading this page with nbviewer.org.</b></div><div class=\"sk-container\" hidden><div class=\"sk-item\"><div class=\"sk-estimator sk-toggleable\"><input class=\"sk-toggleable__control sk-hidden--visually\" id=\"sk-estimator-id-46\" type=\"checkbox\" checked><label for=\"sk-estimator-id-46\" class=\"sk-toggleable__label sk-toggleable__label-arrow\">KNeighborsClassifier</label><div class=\"sk-toggleable__content\"><pre>KNeighborsClassifier(n_neighbors=1)</pre></div></div></div></div></div>"
            ]
          },
          "metadata": {},
          "execution_count": 376
        }
      ],
      "source": [
        "# K-Nearest Neighbors Classifier model\n",
        "from sklearn.neighbors import KNeighborsClassifier\n",
        "\n",
        "# instantiate the model\n",
        "knn = KNeighborsClassifier(n_neighbors=1)\n",
        "\n",
        "# fit the model\n",
        "knn.fit(X_train,y_train)"
      ]
    },
    {
      "cell_type": "code",
      "execution_count": null,
      "id": "269c61e7",
      "metadata": {
        "id": "269c61e7"
      },
      "outputs": [],
      "source": [
        "#predicting the target value from the model for the samples\n",
        "y_train_knn = knn.predict(X_train)\n",
        "y_test_knn = knn.predict(X_test)"
      ]
    },
    {
      "cell_type": "code",
      "execution_count": null,
      "id": "77d9c3bf",
      "metadata": {
        "id": "77d9c3bf",
        "colab": {
          "base_uri": "https://localhost:8080/"
        },
        "outputId": "09dc35bb-8c8a-413b-9dd7-ceff6686c8e7"
      },
      "outputs": [
        {
          "output_type": "stream",
          "name": "stdout",
          "text": [
            "K-Nearest Neighbors : Accuracy on training Data: 0.961\n",
            "K-Nearest Neighbors : Accuracy on test Data: 0.938\n",
            "\n",
            "K-Nearest Neighbors : f1_score on training Data: 0.961\n",
            "K-Nearest Neighbors : f1_score on test Data: 0.937\n",
            "\n",
            "K-Nearest Neighborsn : Recall on training Data: 0.961\n",
            "Logistic Regression : Recall on test Data: 0.937\n",
            "\n",
            "K-Nearest Neighbors : precision on training Data: 0.961\n",
            "K-Nearest Neighbors : precision on test Data: 0.938\n"
          ]
        }
      ],
      "source": [
        "#computing the accuracy,f1_score,Recall,precision of the model performance\n",
        "\n",
        "acc_train_knn = metrics.accuracy_score(y_train,y_train_knn)\n",
        "acc_test_knn = metrics.accuracy_score(y_test,y_test_knn)\n",
        "print(\"K-Nearest Neighbors : Accuracy on training Data: {:.3f}\".format(acc_train_knn))\n",
        "print(\"K-Nearest Neighbors : Accuracy on test Data: {:.3f}\".format(acc_test_knn))\n",
        "print()\n",
        "\n",
        "f1_score_train_knn = metrics.f1_score(y_train,y_train_knn,average='macro')\n",
        "f1_score_test_knn = metrics.f1_score(y_test,y_test_knn,average='macro')\n",
        "print(\"K-Nearest Neighbors : f1_score on training Data: {:.3f}\".format(f1_score_train_knn))\n",
        "print(\"K-Nearest Neighbors : f1_score on test Data: {:.3f}\".format(f1_score_test_knn))\n",
        "print()\n",
        "\n",
        "recall_score_train_knn = metrics.recall_score(y_train,y_train_knn,average='macro')\n",
        "recall_score_test_knn = metrics.recall_score(y_test,y_test_knn,average='macro')\n",
        "print(\"K-Nearest Neighborsn : Recall on training Data: {:.3f}\".format(recall_score_train_knn))\n",
        "print(\"Logistic Regression : Recall on test Data: {:.3f}\".format(recall_score_test_knn))\n",
        "print()\n",
        "\n",
        "precision_score_train_knn = metrics.precision_score(y_train,y_train_knn,average='macro')\n",
        "precision_score_test_knn = metrics.precision_score(y_test,y_test_knn,average='macro')\n",
        "print(\"K-Nearest Neighbors : precision on training Data: {:.3f}\".format(precision_score_train_knn))\n",
        "print(\"K-Nearest Neighbors : precision on test Data: {:.3f}\".format(precision_score_test_knn))"
      ]
    },
    {
      "cell_type": "code",
      "execution_count": null,
      "id": "f6a6658f",
      "metadata": {
        "id": "f6a6658f",
        "colab": {
          "base_uri": "https://localhost:8080/"
        },
        "outputId": "a04a31f9-faf5-476f-c19c-8e9562e2ab5d"
      },
      "outputs": [
        {
          "output_type": "stream",
          "name": "stdout",
          "text": [
            "              precision    recall  f1-score   support\n",
            "\n",
            "          -1       0.94      0.92      0.93      1455\n",
            "           1       0.94      0.95      0.95      1862\n",
            "\n",
            "    accuracy                           0.94      3317\n",
            "   macro avg       0.94      0.94      0.94      3317\n",
            "weighted avg       0.94      0.94      0.94      3317\n",
            "\n"
          ]
        }
      ],
      "source": [
        "#computing the classification report of the model\n",
        "\n",
        "print(metrics.classification_report(y_test, y_test_knn))"
      ]
    },
    {
      "cell_type": "code",
      "source": [
        "import time\n",
        "\n",
        "\n",
        "start_time = time.time()\n",
        "knn.fit(X_train, y_train)\n",
        "training_time = time.time() - start_time\n",
        "\n",
        "# Make predictions on the test set and measure the testing time\n",
        "start_time = time.time()\n",
        "y_pred = knn.predict(X_test)\n",
        "testing_time = time.time() - start_time\n",
        "\n",
        "# Print the training and testing time\n",
        "print('Training time: {:.3f} seconds'.format(training_time))\n",
        "print('Testing time: {:.3f} seconds'.format(testing_time))"
      ],
      "metadata": {
        "colab": {
          "base_uri": "https://localhost:8080/"
        },
        "id": "zCgLo6BjyR18",
        "outputId": "ca21c6e7-d7bc-49fc-b137-e08358731ad8"
      },
      "id": "zCgLo6BjyR18",
      "execution_count": null,
      "outputs": [
        {
          "output_type": "stream",
          "name": "stdout",
          "text": [
            "Training time: 0.016 seconds\n",
            "Testing time: 0.218 seconds\n"
          ]
        }
      ]
    },
    {
      "cell_type": "code",
      "execution_count": null,
      "id": "d4dc5c1b",
      "metadata": {
        "id": "d4dc5c1b",
        "colab": {
          "base_uri": "https://localhost:8080/",
          "height": 450
        },
        "outputId": "7d0a6749-50f1-42cc-d5a4-d1106e2f4fba"
      },
      "outputs": [
        {
          "output_type": "display_data",
          "data": {
            "text/plain": [
              "<Figure size 640x480 with 1 Axes>"
            ],
            "image/png": "[encoded data removed]"
          },
          "metadata": {}
        }
      ],
      "source": [
        "training_accuracy = []\n",
        "test_accuracy = []\n",
        "# try max_depth from 1 to 20\n",
        "depth = range(1,20)\n",
        "for n in depth:\n",
        "    knn = KNeighborsClassifier(n_neighbors=n)\n",
        "\n",
        "    knn.fit(X_train, y_train)\n",
        "    # record training set accuracy\n",
        "    training_accuracy.append(knn.score(X_train, y_train))\n",
        "    # record generalization accuracy\n",
        "    test_accuracy.append(knn.score(X_test, y_test))\n",
        "\n",
        "\n",
        "#plotting the training & testing accuracy for n_estimators from 1 to 20\n",
        "plt.plot(depth, training_accuracy, label=\"training accuracy\")\n",
        "plt.plot(depth, test_accuracy, label=\"test accuracy\")\n",
        "plt.ylabel(\"Accuracy\")\n",
        "plt.xlabel(\"n_neighbors\")\n",
        "plt.legend();"
      ]
    },
    {
      "cell_type": "code",
      "execution_count": null,
      "id": "19e5bf0c",
      "metadata": {
        "id": "19e5bf0c"
      },
      "outputs": [],
      "source": [
        "#storing the results. The below mentioned order of parameter passing is important.\n",
        "\n",
        "storeResults('K-Nearest Neighbors',acc_test_knn,f1_score_test_knn,\n",
        "             recall_score_train_knn,precision_score_train_knn)\n"
      ]
    },
    {
      "cell_type": "markdown",
      "id": "b8bc8b53",
      "metadata": {
        "id": "b8bc8b53"
      },
      "source": [
        "## 6.3. Support Vector Machine : Classifier\n",
        "\n",
        "Support Vector Machine or SVM is one of the most popular Supervised Learning algorithms, which is used for Classification as well as Regression problems. The goal of the SVM algorithm is to create the best line or decision boundary that can segregate n-dimensional space into classes so that we can easily put the new data point in the correct category in the future."
      ]
    },
    {
      "cell_type": "code",
      "execution_count": null,
      "id": "be3cb194",
      "metadata": {
        "id": "be3cb194",
        "colab": {
          "base_uri": "https://localhost:8080/",
          "height": 117
        },
        "outputId": "a1140648-5537-42c7-c9e7-1e9c380b54f0"
      },
      "outputs": [
        {
          "output_type": "execute_result",
          "data": {
            "text/plain": [
              "GridSearchCV(estimator=SVC(),\n",
              "             param_grid={'gamma': [0.1], 'kernel': ['rbf', 'linear']})"
            ],
            "text/html": [
              "<style>#sk-container-id-39 {color: black;background-color: white;}#sk-container-id-39 pre{padding: 0;}#sk-container-id-39 div.sk-toggleable {background-color: white;}#sk-container-id-39 label.sk-toggleable__label {cursor: pointer;display: block;width: 100%;margin-bottom: 0;padding: 0.3em;box-sizing: border-box;text-align: center;}#sk-container-id-39 label.sk-toggleable__label-arrow:before {content: \"▸\";float: left;margin-right: 0.25em;color: #696969;}#sk-container-id-39 label.sk-toggleable__label-arrow:hover:before {color: black;}#sk-container-id-39 div.sk-estimator:hover label.sk-toggleable__label-arrow:before {color: black;}#sk-container-id-39 div.sk-toggleable__content {max-height: 0;max-width: 0;overflow: hidden;text-align: left;background-color: #f0f8ff;}#sk-container-id-39 div.sk-toggleable__content pre {margin: 0.2em;color: black;border-radius: 0.25em;background-color: #f0f8ff;}#sk-container-id-39 input.sk-toggleable__control:checked~div.sk-toggleable__content {max-height: 200px;max-width: 100%;overflow: auto;}#sk-container-id-39 input.sk-toggleable__control:checked~label.sk-toggleable__label-arrow:before {content: \"▾\";}#sk-container-id-39 div.sk-estimator input.sk-toggleable__control:checked~label.sk-toggleable__label {background-color: #d4ebff;}#sk-container-id-39 div.sk-label input.sk-toggleable__control:checked~label.sk-toggleable__label {background-color: #d4ebff;}#sk-container-id-39 input.sk-hidden--visually {border: 0;clip: rect(1px 1px 1px 1px);clip: rect(1px, 1px, 1px, 1px);height: 1px;margin: -1px;overflow: hidden;padding: 0;position: absolute;width: 1px;}#sk-container-id-39 div.sk-estimator {font-family: monospace;background-color: #f0f8ff;border: 1px dotted black;border-radius: 0.25em;box-sizing: border-box;margin-bottom: 0.5em;}#sk-container-id-39 div.sk-estimator:hover {background-color: #d4ebff;}#sk-container-id-39 div.sk-parallel-item::after {content: \"\";width: 100%;border-bottom: 1px solid gray;flex-grow: 1;}#sk-container-id-39 div.sk-label:hover label.sk-toggleable__label {background-color: #d4ebff;}#sk-container-id-39 div.sk-serial::before {content: \"\";position: absolute;border-left: 1px solid gray;box-sizing: border-box;top: 0;bottom: 0;left: 50%;z-index: 0;}#sk-container-id-39 div.sk-serial {display: flex;flex-direction: column;align-items: center;background-color: white;padding-right: 0.2em;padding-left: 0.2em;position: relative;}#sk-container-id-39 div.sk-item {position: relative;z-index: 1;}#sk-container-id-39 div.sk-parallel {display: flex;align-items: stretch;justify-content: center;background-color: white;position: relative;}#sk-container-id-39 div.sk-item::before, #sk-container-id-39 div.sk-parallel-item::before {content: \"\";position: absolute;border-left: 1px solid gray;box-sizing: border-box;top: 0;bottom: 0;left: 50%;z-index: -1;}#sk-container-id-39 div.sk-parallel-item {display: flex;flex-direction: column;z-index: 1;position: relative;background-color: white;}#sk-container-id-39 div.sk-parallel-item:first-child::after {align-self: flex-end;width: 50%;}#sk-container-id-39 div.sk-parallel-item:last-child::after {align-self: flex-start;width: 50%;}#sk-container-id-39 div.sk-parallel-item:only-child::after {width: 0;}#sk-container-id-39 div.sk-dashed-wrapped {border: 1px dashed gray;margin: 0 0.4em 0.5em 0.4em;box-sizing: border-box;padding-bottom: 0.4em;background-color: white;}#sk-container-id-39 div.sk-label label {font-family: monospace;font-weight: bold;display: inline-block;line-height: 1.2em;}#sk-container-id-39 div.sk-label-container {text-align: center;}#sk-container-id-39 div.sk-container {/* jupyter's `normalize.less` sets `[hidden] { display: none; }` but bootstrap.min.css set `[hidden] { display: none !important; }` so we also need the `!important` here to be able to override the default hidden behavior on the sphinx rendered scikit-learn.org. See: https://github.com/scikit-learn/scikit-learn/issues/21755 */display: inline-block !important;position: relative;}#sk-container-id-39 div.sk-text-repr-fallback {display: none;}</style><div id=\"sk-container-id-39\" class=\"sk-top-container\"><div class=\"sk-text-repr-fallback\"><pre>GridSearchCV(estimator=SVC(),\n",
              "             param_grid={&#x27;gamma&#x27;: [0.1], &#x27;kernel&#x27;: [&#x27;rbf&#x27;, &#x27;linear&#x27;]})</pre><b>In a Jupyter environment, please rerun this cell to show the HTML representation or trust the notebook. <br />On GitHub, the HTML representation is unable to render, please try loading this page with nbviewer.org.</b></div><div class=\"sk-container\" hidden><div class=\"sk-item sk-dashed-wrapped\"><div class=\"sk-label-container\"><div class=\"sk-label sk-toggleable\"><input class=\"sk-toggleable__control sk-hidden--visually\" id=\"sk-estimator-id-47\" type=\"checkbox\" ><label for=\"sk-estimator-id-47\" class=\"sk-toggleable__label sk-toggleable__label-arrow\">GridSearchCV</label><div class=\"sk-toggleable__content\"><pre>GridSearchCV(estimator=SVC(),\n",
              "             param_grid={&#x27;gamma&#x27;: [0.1], &#x27;kernel&#x27;: [&#x27;rbf&#x27;, &#x27;linear&#x27;]})</pre></div></div></div><div class=\"sk-parallel\"><div class=\"sk-parallel-item\"><div class=\"sk-item\"><div class=\"sk-label-container\"><div class=\"sk-label sk-toggleable\"><input class=\"sk-toggleable__control sk-hidden--visually\" id=\"sk-estimator-id-48\" type=\"checkbox\" ><label for=\"sk-estimator-id-48\" class=\"sk-toggleable__label sk-toggleable__label-arrow\">estimator: SVC</label><div class=\"sk-toggleable__content\"><pre>SVC()</pre></div></div></div><div class=\"sk-serial\"><div class=\"sk-item\"><div class=\"sk-estimator sk-toggleable\"><input class=\"sk-toggleable__control sk-hidden--visually\" id=\"sk-estimator-id-49\" type=\"checkbox\" ><label for=\"sk-estimator-id-49\" class=\"sk-toggleable__label sk-toggleable__label-arrow\">SVC</label><div class=\"sk-toggleable__content\"><pre>SVC()</pre></div></div></div></div></div></div></div></div></div></div>"
            ]
          },
          "metadata": {},
          "execution_count": 383
        }
      ],
      "source": [
        "# Support Vector Classifier model\n",
        "from sklearn.svm import SVC\n",
        "from sklearn.model_selection import GridSearchCV\n",
        "\n",
        "# defining parameter range\n",
        "param_grid = {'gamma': [0.1],'kernel': ['rbf','linear']}\n",
        "\n",
        "svc = GridSearchCV(SVC(), param_grid)\n",
        "\n",
        "# fitting the model for grid search\n",
        "svc.fit(X_train, y_train)\n"
      ]
    },
    {
      "cell_type": "code",
      "execution_count": null,
      "id": "2b25eef4",
      "metadata": {
        "id": "2b25eef4"
      },
      "outputs": [],
      "source": [
        "#predicting the target value from the model for the samples\n",
        "y_train_svc = svc.predict(X_train)\n",
        "y_test_svc = svc.predict(X_test)"
      ]
    },
    {
      "cell_type": "code",
      "execution_count": null,
      "id": "079d4b39",
      "metadata": {
        "id": "079d4b39",
        "colab": {
          "base_uri": "https://localhost:8080/"
        },
        "outputId": "2856c1e7-2b15-42af-9cc7-f7e631711460"
      },
      "outputs": [
        {
          "output_type": "stream",
          "name": "stdout",
          "text": [
            "Support Vector Machine : Accuracy on training Data: 0.945\n",
            "Support Vector Machine : Accuracy on test Data: 0.939\n",
            "\n",
            "Support Vector Machine : f1_score on training Data: 0.944\n",
            "Support Vector Machine : f1_score on test Data: 0.938\n",
            "\n",
            "Support Vector Machine : Recall on training Data: 0.943\n",
            "Support Vector Machine : Recall on test Data: 0.937\n",
            "\n",
            "Support Vector Machine : precision on training Data: 0.946\n",
            "Support Vector Machine : precision on test Data: 0.940\n"
          ]
        }
      ],
      "source": [
        "#computing the accuracy, f1_score, Recall, precision of the model performance\n",
        "\n",
        "acc_train_svc = metrics.accuracy_score(y_train,y_train_svc)\n",
        "acc_test_svc = metrics.accuracy_score(y_test,y_test_svc)\n",
        "print(\"Support Vector Machine : Accuracy on training Data: {:.3f}\".format(acc_train_svc))\n",
        "print(\"Support Vector Machine : Accuracy on test Data: {:.3f}\".format(acc_test_svc))\n",
        "print()\n",
        "\n",
        "f1_score_train_svc = metrics.f1_score(y_train,y_train_svc,average='macro')\n",
        "f1_score_test_svc = metrics.f1_score(y_test,y_test_svc,average='macro')\n",
        "print(\"Support Vector Machine : f1_score on training Data: {:.3f}\".format(f1_score_train_svc))\n",
        "print(\"Support Vector Machine : f1_score on test Data: {:.3f}\".format(f1_score_test_svc))\n",
        "print()\n",
        "\n",
        "recall_score_train_svc = metrics.recall_score(y_train,y_train_svc,average='macro')\n",
        "recall_score_test_svc = metrics.recall_score(y_test,y_test_svc,average='macro')\n",
        "print(\"Support Vector Machine : Recall on training Data: {:.3f}\".format(recall_score_train_svc))\n",
        "print(\"Support Vector Machine : Recall on test Data: {:.3f}\".format(recall_score_test_svc))\n",
        "print()\n",
        "\n",
        "precision_score_train_svc = metrics.precision_score(y_train,y_train_svc,average='macro')\n",
        "precision_score_test_svc = metrics.precision_score(y_test,y_test_svc,average='macro')\n",
        "print(\"Support Vector Machine : precision on training Data: {:.3f}\".format(precision_score_train_svc))\n",
        "print(\"Support Vector Machine : precision on test Data: {:.3f}\".format(precision_score_test_svc))"
      ]
    },
    {
      "cell_type": "code",
      "execution_count": null,
      "id": "b80c577b",
      "metadata": {
        "id": "b80c577b",
        "colab": {
          "base_uri": "https://localhost:8080/"
        },
        "outputId": "4fcfbcf1-f553-489b-eeb2-13421d9f9470"
      },
      "outputs": [
        {
          "output_type": "stream",
          "name": "stdout",
          "text": [
            "              precision    recall  f1-score   support\n",
            "\n",
            "          -1       0.94      0.92      0.93      1455\n",
            "           1       0.94      0.96      0.95      1862\n",
            "\n",
            "    accuracy                           0.94      3317\n",
            "   macro avg       0.94      0.94      0.94      3317\n",
            "weighted avg       0.94      0.94      0.94      3317\n",
            "\n"
          ]
        }
      ],
      "source": [
        "#computing the classification report of the model\n",
        "\n",
        "print(metrics.classification_report(y_test, y_test_svc))"
      ]
    },
    {
      "cell_type": "code",
      "source": [
        "import time\n",
        "\n",
        "\n",
        "start_time = time.time()\n",
        "svc.fit(X_train, y_train)\n",
        "training_time = time.time() - start_time\n",
        "\n",
        "# Make predictions on the test set and measure the testing time\n",
        "start_time = time.time()\n",
        "y_pred = svc.predict(X_test)\n",
        "testing_time = time.time() - start_time\n",
        "\n",
        "# Print the training and testing time\n",
        "print('Training time: {:.3f} seconds'.format(training_time))\n",
        "print('Testing time: {:.3f} seconds'.format(testing_time))"
      ],
      "metadata": {
        "colab": {
          "base_uri": "https://localhost:8080/"
        },
        "id": "teJCMNrUyYuJ",
        "outputId": "82f98b90-2b75-4284-d6d4-f9b7a627af28"
      },
      "id": "teJCMNrUyYuJ",
      "execution_count": null,
      "outputs": [
        {
          "output_type": "stream",
          "name": "stdout",
          "text": [
            "Training time: 7.206 seconds\n",
            "Testing time: 0.294 seconds\n"
          ]
        }
      ]
    },
    {
      "cell_type": "code",
      "execution_count": null,
      "id": "b82e2f70",
      "metadata": {
        "id": "b82e2f70"
      },
      "outputs": [],
      "source": [
        "#storing the results. The below mentioned order of parameter passing is important.\n",
        "\n",
        "storeResults('Support Vector Machine',acc_test_svc,f1_score_test_svc,\n",
        "             recall_score_train_svc,precision_score_train_svc)"
      ]
    },
    {
      "cell_type": "markdown",
      "id": "8ba22f40",
      "metadata": {
        "id": "8ba22f40"
      },
      "source": [
        "## 6.4. Naive Bayes : Classifier\n",
        "\n",
        "Naïve Bayes algorithm is a supervised learning algorithm, which is based on Bayes theorem and used for solving classification problems.It is mainly used in text, image classification that includes a high-dimensional training dataset. Naïve Bayes Classifier is one of the simple and most effective Classification algorithms which helps in building the fast machine learning models that can make quick predictions."
      ]
    },
    {
      "cell_type": "code",
      "execution_count": null,
      "id": "69469f59",
      "metadata": {
        "id": "69469f59",
        "colab": {
          "base_uri": "https://localhost:8080/",
          "height": 74
        },
        "outputId": "47ad003d-4c17-46e6-edea-01e4de0404f4"
      },
      "outputs": [
        {
          "output_type": "execute_result",
          "data": {
            "text/plain": [
              "GaussianNB()"
            ],
            "text/html": [
              "<style>#sk-container-id-40 {color: black;background-color: white;}#sk-container-id-40 pre{padding: 0;}#sk-container-id-40 div.sk-toggleable {background-color: white;}#sk-container-id-40 label.sk-toggleable__label {cursor: pointer;display: block;width: 100%;margin-bottom: 0;padding: 0.3em;box-sizing: border-box;text-align: center;}#sk-container-id-40 label.sk-toggleable__label-arrow:before {content: \"▸\";float: left;margin-right: 0.25em;color: #696969;}#sk-container-id-40 label.sk-toggleable__label-arrow:hover:before {color: black;}#sk-container-id-40 div.sk-estimator:hover label.sk-toggleable__label-arrow:before {color: black;}#sk-container-id-40 div.sk-toggleable__content {max-height: 0;max-width: 0;overflow: hidden;text-align: left;background-color: #f0f8ff;}#sk-container-id-40 div.sk-toggleable__content pre {margin: 0.2em;color: black;border-radius: 0.25em;background-color: #f0f8ff;}#sk-container-id-40 input.sk-toggleable__control:checked~div.sk-toggleable__content {max-height: 200px;max-width: 100%;overflow: auto;}#sk-container-id-40 input.sk-toggleable__control:checked~label.sk-toggleable__label-arrow:before {content: \"▾\";}#sk-container-id-40 div.sk-estimator input.sk-toggleable__control:checked~label.sk-toggleable__label {background-color: #d4ebff;}#sk-container-id-40 div.sk-label input.sk-toggleable__control:checked~label.sk-toggleable__label {background-color: #d4ebff;}#sk-container-id-40 input.sk-hidden--visually {border: 0;clip: rect(1px 1px 1px 1px);clip: rect(1px, 1px, 1px, 1px);height: 1px;margin: -1px;overflow: hidden;padding: 0;position: absolute;width: 1px;}#sk-container-id-40 div.sk-estimator {font-family: monospace;background-color: #f0f8ff;border: 1px dotted black;border-radius: 0.25em;box-sizing: border-box;margin-bottom: 0.5em;}#sk-container-id-40 div.sk-estimator:hover {background-color: #d4ebff;}#sk-container-id-40 div.sk-parallel-item::after {content: \"\";width: 100%;border-bottom: 1px solid gray;flex-grow: 1;}#sk-container-id-40 div.sk-label:hover label.sk-toggleable__label {background-color: #d4ebff;}#sk-container-id-40 div.sk-serial::before {content: \"\";position: absolute;border-left: 1px solid gray;box-sizing: border-box;top: 0;bottom: 0;left: 50%;z-index: 0;}#sk-container-id-40 div.sk-serial {display: flex;flex-direction: column;align-items: center;background-color: white;padding-right: 0.2em;padding-left: 0.2em;position: relative;}#sk-container-id-40 div.sk-item {position: relative;z-index: 1;}#sk-container-id-40 div.sk-parallel {display: flex;align-items: stretch;justify-content: center;background-color: white;position: relative;}#sk-container-id-40 div.sk-item::before, #sk-container-id-40 div.sk-parallel-item::before {content: \"\";position: absolute;border-left: 1px solid gray;box-sizing: border-box;top: 0;bottom: 0;left: 50%;z-index: -1;}#sk-container-id-40 div.sk-parallel-item {display: flex;flex-direction: column;z-index: 1;position: relative;background-color: white;}#sk-container-id-40 div.sk-parallel-item:first-child::after {align-self: flex-end;width: 50%;}#sk-container-id-40 div.sk-parallel-item:last-child::after {align-self: flex-start;width: 50%;}#sk-container-id-40 div.sk-parallel-item:only-child::after {width: 0;}#sk-container-id-40 div.sk-dashed-wrapped {border: 1px dashed gray;margin: 0 0.4em 0.5em 0.4em;box-sizing: border-box;padding-bottom: 0.4em;background-color: white;}#sk-container-id-40 div.sk-label label {font-family: monospace;font-weight: bold;display: inline-block;line-height: 1.2em;}#sk-container-id-40 div.sk-label-container {text-align: center;}#sk-container-id-40 div.sk-container {/* jupyter's `normalize.less` sets `[hidden] { display: none; }` but bootstrap.min.css set `[hidden] { display: none !important; }` so we also need the `!important` here to be able to override the default hidden behavior on the sphinx rendered scikit-learn.org. See: https://github.com/scikit-learn/scikit-learn/issues/21755 */display: inline-block !important;position: relative;}#sk-container-id-40 div.sk-text-repr-fallback {display: none;}</style><div id=\"sk-container-id-40\" class=\"sk-top-container\"><div class=\"sk-text-repr-fallback\"><pre>GaussianNB()</pre><b>In a Jupyter environment, please rerun this cell to show the HTML representation or trust the notebook. <br />On GitHub, the HTML representation is unable to render, please try loading this page with nbviewer.org.</b></div><div class=\"sk-container\" hidden><div class=\"sk-item\"><div class=\"sk-estimator sk-toggleable\"><input class=\"sk-toggleable__control sk-hidden--visually\" id=\"sk-estimator-id-50\" type=\"checkbox\" checked><label for=\"sk-estimator-id-50\" class=\"sk-toggleable__label sk-toggleable__label-arrow\">GaussianNB</label><div class=\"sk-toggleable__content\"><pre>GaussianNB()</pre></div></div></div></div></div>"
            ]
          },
          "metadata": {},
          "execution_count": 389
        }
      ],
      "source": [
        "# Naive Bayes Classifier Model\n",
        "from sklearn.naive_bayes import GaussianNB\n",
        "from sklearn.pipeline import Pipeline\n",
        "\n",
        "# instantiate the model\n",
        "nb=  GaussianNB()\n",
        "\n",
        "# fit the model\n",
        "nb.fit(X_train,y_train)"
      ]
    },
    {
      "cell_type": "code",
      "execution_count": null,
      "id": "d5af1028",
      "metadata": {
        "id": "d5af1028"
      },
      "outputs": [],
      "source": [
        "#predicting the target value from the model for the samples\n",
        "y_train_nb = nb.predict(X_train)\n",
        "y_test_nb = nb.predict(X_test)"
      ]
    },
    {
      "cell_type": "code",
      "execution_count": null,
      "id": "63968c7a",
      "metadata": {
        "id": "63968c7a",
        "colab": {
          "base_uri": "https://localhost:8080/"
        },
        "outputId": "70112c03-401a-4715-8889-0651042d5e90"
      },
      "outputs": [
        {
          "output_type": "stream",
          "name": "stdout",
          "text": [
            "Naive Bayes Classifier : Accuracy on training Data: 0.596\n",
            "Naive Bayes Classifier : Accuracy on test Data: 0.591\n",
            "\n",
            "Naive Bayes Classifier : f1_score on training Data: 0.558\n",
            "Naive Bayes Classifier : f1_score on test Data: 0.555\n",
            "\n",
            "Naive Bayes Classifier : Recall on training Data: 0.636\n",
            "Naive Bayes Classifier : Recall on test Data: 0.636\n",
            "\n",
            "Naive Bayes Classifier : precision on training Data: 0.762\n",
            "Naive Bayes Classifier : precision on test Data: 0.759\n"
          ]
        }
      ],
      "source": [
        "#computing the accuracy, f1_score, Recall, precision of the model performance\n",
        "\n",
        "acc_train_nb = metrics.accuracy_score(y_train,y_train_nb)\n",
        "acc_test_nb = metrics.accuracy_score(y_test,y_test_nb)\n",
        "print(\"Naive Bayes Classifier : Accuracy on training Data: {:.3f}\".format(acc_train_nb))\n",
        "print(\"Naive Bayes Classifier : Accuracy on test Data: {:.3f}\".format(acc_test_nb))\n",
        "print()\n",
        "\n",
        "f1_score_train_nb = metrics.f1_score(y_train,y_train_nb,average='macro')\n",
        "f1_score_test_nb = metrics.f1_score(y_test,y_test_nb,average='macro')\n",
        "print(\"Naive Bayes Classifier : f1_score on training Data: {:.3f}\".format(f1_score_train_nb))\n",
        "print(\"Naive Bayes Classifier : f1_score on test Data: {:.3f}\".format(f1_score_test_nb))\n",
        "print()\n",
        "\n",
        "recall_score_train_nb = metrics.recall_score(y_train,y_train_nb,average='macro')\n",
        "recall_score_test_nb = metrics.recall_score(y_test,y_test_nb,average='macro')\n",
        "print(\"Naive Bayes Classifier : Recall on training Data: {:.3f}\".format(recall_score_train_nb))\n",
        "print(\"Naive Bayes Classifier : Recall on test Data: {:.3f}\".format(recall_score_test_nb))\n",
        "print()\n",
        "\n",
        "precision_score_train_nb = metrics.precision_score(y_train,y_train_nb,average='macro')\n",
        "precision_score_test_nb = metrics.precision_score(y_test,y_test_nb,average='macro')\n",
        "print(\"Naive Bayes Classifier : precision on training Data: {:.3f}\".format(precision_score_train_nb))\n",
        "print(\"Naive Bayes Classifier : precision on test Data: {:.3f}\".format(precision_score_test_nb))"
      ]
    },
    {
      "cell_type": "code",
      "execution_count": null,
      "id": "cb7d8f0b",
      "metadata": {
        "id": "cb7d8f0b",
        "colab": {
          "base_uri": "https://localhost:8080/"
        },
        "outputId": "57131cf5-2ea2-435a-bdf3-956d2b6f137a"
      },
      "outputs": [
        {
          "output_type": "stream",
          "name": "stdout",
          "text": [
            "              precision    recall  f1-score   support\n",
            "\n",
            "          -1       0.94      0.92      0.93      1455\n",
            "           1       0.94      0.96      0.95      1862\n",
            "\n",
            "    accuracy                           0.94      3317\n",
            "   macro avg       0.94      0.94      0.94      3317\n",
            "weighted avg       0.94      0.94      0.94      3317\n",
            "\n"
          ]
        }
      ],
      "source": [
        "#computing the classification report of the model\n",
        "\n",
        "print(metrics.classification_report(y_test, y_test_svc))"
      ]
    },
    {
      "cell_type": "code",
      "source": [
        "import time\n",
        "\n",
        "\n",
        "start_time = time.time()\n",
        "nb.fit(X_train, y_train)\n",
        "training_time = time.time() - start_time\n",
        "\n",
        "# Make predictions on the test set and measure the testing time\n",
        "start_time = time.time()\n",
        "y_pred = nb.predict(X_test)\n",
        "testing_time = time.time() - start_time\n",
        "\n",
        "# Print the training and testing time\n",
        "print('Training time: {:.3f} seconds'.format(training_time))\n",
        "print('Testing time: {:.3f} seconds'.format(testing_time))"
      ],
      "metadata": {
        "colab": {
          "base_uri": "https://localhost:8080/"
        },
        "id": "DdmxOnzBymAr",
        "outputId": "26133235-556c-4e70-c982-d846fbe38897"
      },
      "id": "DdmxOnzBymAr",
      "execution_count": null,
      "outputs": [
        {
          "output_type": "stream",
          "name": "stdout",
          "text": [
            "Training time: 0.008 seconds\n",
            "Testing time: 0.002 seconds\n"
          ]
        }
      ]
    },
    {
      "cell_type": "code",
      "execution_count": null,
      "id": "51080f01",
      "metadata": {
        "id": "51080f01"
      },
      "outputs": [],
      "source": [
        "#storing the results. The below mentioned order of parameter passing is important.\n",
        "\n",
        "storeResults('Naive Bayes Classifier',acc_test_nb,f1_score_test_nb,\n",
        "             recall_score_train_nb,precision_score_train_nb)"
      ]
    },
    {
      "cell_type": "markdown",
      "id": "bffea1bb",
      "metadata": {
        "id": "bffea1bb"
      },
      "source": [
        "## 6.5. Decision Trees : Classifier\n",
        "\n",
        "Decision Tree is a Supervised learning technique that can be used for both classification and Regression problems, but mostly it is preferred for solving Classification problems. It is a tree-structured classifier, where internal nodes represent the features of a dataset, branches represent the decision rules and each leaf node represents the outcome."
      ]
    },
    {
      "cell_type": "code",
      "execution_count": null,
      "id": "31379c27",
      "metadata": {
        "id": "31379c27",
        "colab": {
          "base_uri": "https://localhost:8080/",
          "height": 74
        },
        "outputId": "4a2a4c83-18f8-41c2-9fd3-72a7225c74a3"
      },
      "outputs": [
        {
          "output_type": "execute_result",
          "data": {
            "text/plain": [
              "DecisionTreeClassifier(max_depth=30)"
            ],
            "text/html": [
              "<style>#sk-container-id-41 {color: black;background-color: white;}#sk-container-id-41 pre{padding: 0;}#sk-container-id-41 div.sk-toggleable {background-color: white;}#sk-container-id-41 label.sk-toggleable__label {cursor: pointer;display: block;width: 100%;margin-bottom: 0;padding: 0.3em;box-sizing: border-box;text-align: center;}#sk-container-id-41 label.sk-toggleable__label-arrow:before {content: \"▸\";float: left;margin-right: 0.25em;color: #696969;}#sk-container-id-41 label.sk-toggleable__label-arrow:hover:before {color: black;}#sk-container-id-41 div.sk-estimator:hover label.sk-toggleable__label-arrow:before {color: black;}#sk-container-id-41 div.sk-toggleable__content {max-height: 0;max-width: 0;overflow: hidden;text-align: left;background-color: #f0f8ff;}#sk-container-id-41 div.sk-toggleable__content pre {margin: 0.2em;color: black;border-radius: 0.25em;background-color: #f0f8ff;}#sk-container-id-41 input.sk-toggleable__control:checked~div.sk-toggleable__content {max-height: 200px;max-width: 100%;overflow: auto;}#sk-container-id-41 input.sk-toggleable__control:checked~label.sk-toggleable__label-arrow:before {content: \"▾\";}#sk-container-id-41 div.sk-estimator input.sk-toggleable__control:checked~label.sk-toggleable__label {background-color: #d4ebff;}#sk-container-id-41 div.sk-label input.sk-toggleable__control:checked~label.sk-toggleable__label {background-color: #d4ebff;}#sk-container-id-41 input.sk-hidden--visually {border: 0;clip: rect(1px 1px 1px 1px);clip: rect(1px, 1px, 1px, 1px);height: 1px;margin: -1px;overflow: hidden;padding: 0;position: absolute;width: 1px;}#sk-container-id-41 div.sk-estimator {font-family: monospace;background-color: #f0f8ff;border: 1px dotted black;border-radius: 0.25em;box-sizing: border-box;margin-bottom: 0.5em;}#sk-container-id-41 div.sk-estimator:hover {background-color: #d4ebff;}#sk-container-id-41 div.sk-parallel-item::after {content: \"\";width: 100%;border-bottom: 1px solid gray;flex-grow: 1;}#sk-container-id-41 div.sk-label:hover label.sk-toggleable__label {background-color: #d4ebff;}#sk-container-id-41 div.sk-serial::before {content: \"\";position: absolute;border-left: 1px solid gray;box-sizing: border-box;top: 0;bottom: 0;left: 50%;z-index: 0;}#sk-container-id-41 div.sk-serial {display: flex;flex-direction: column;align-items: center;background-color: white;padding-right: 0.2em;padding-left: 0.2em;position: relative;}#sk-container-id-41 div.sk-item {position: relative;z-index: 1;}#sk-container-id-41 div.sk-parallel {display: flex;align-items: stretch;justify-content: center;background-color: white;position: relative;}#sk-container-id-41 div.sk-item::before, #sk-container-id-41 div.sk-parallel-item::before {content: \"\";position: absolute;border-left: 1px solid gray;box-sizing: border-box;top: 0;bottom: 0;left: 50%;z-index: -1;}#sk-container-id-41 div.sk-parallel-item {display: flex;flex-direction: column;z-index: 1;position: relative;background-color: white;}#sk-container-id-41 div.sk-parallel-item:first-child::after {align-self: flex-end;width: 50%;}#sk-container-id-41 div.sk-parallel-item:last-child::after {align-self: flex-start;width: 50%;}#sk-container-id-41 div.sk-parallel-item:only-child::after {width: 0;}#sk-container-id-41 div.sk-dashed-wrapped {border: 1px dashed gray;margin: 0 0.4em 0.5em 0.4em;box-sizing: border-box;padding-bottom: 0.4em;background-color: white;}#sk-container-id-41 div.sk-label label {font-family: monospace;font-weight: bold;display: inline-block;line-height: 1.2em;}#sk-container-id-41 div.sk-label-container {text-align: center;}#sk-container-id-41 div.sk-container {/* jupyter's `normalize.less` sets `[hidden] { display: none; }` but bootstrap.min.css set `[hidden] { display: none !important; }` so we also need the `!important` here to be able to override the default hidden behavior on the sphinx rendered scikit-learn.org. See: https://github.com/scikit-learn/scikit-learn/issues/21755 */display: inline-block !important;position: relative;}#sk-container-id-41 div.sk-text-repr-fallback {display: none;}</style><div id=\"sk-container-id-41\" class=\"sk-top-container\"><div class=\"sk-text-repr-fallback\"><pre>DecisionTreeClassifier(max_depth=30)</pre><b>In a Jupyter environment, please rerun this cell to show the HTML representation or trust the notebook. <br />On GitHub, the HTML representation is unable to render, please try loading this page with nbviewer.org.</b></div><div class=\"sk-container\" hidden><div class=\"sk-item\"><div class=\"sk-estimator sk-toggleable\"><input class=\"sk-toggleable__control sk-hidden--visually\" id=\"sk-estimator-id-51\" type=\"checkbox\" checked><label for=\"sk-estimator-id-51\" class=\"sk-toggleable__label sk-toggleable__label-arrow\">DecisionTreeClassifier</label><div class=\"sk-toggleable__content\"><pre>DecisionTreeClassifier(max_depth=30)</pre></div></div></div></div></div>"
            ]
          },
          "metadata": {},
          "execution_count": 395
        }
      ],
      "source": [
        "# Decision Tree Classifier model\n",
        "from sklearn.tree import DecisionTreeClassifier\n",
        "\n",
        "# instantiate the model\n",
        "tree = DecisionTreeClassifier(max_depth=30)\n",
        "\n",
        "# fit the model\n",
        "tree.fit(X_train, y_train)"
      ]
    },
    {
      "cell_type": "code",
      "execution_count": null,
      "id": "6c19c3ec",
      "metadata": {
        "id": "6c19c3ec"
      },
      "outputs": [],
      "source": [
        "#predicting the target value from the model for the samples\n",
        "\n",
        "y_train_tree = tree.predict(X_train)\n",
        "y_test_tree = tree.predict(X_test)"
      ]
    },
    {
      "cell_type": "code",
      "execution_count": null,
      "id": "b577d598",
      "metadata": {
        "id": "b577d598",
        "colab": {
          "base_uri": "https://localhost:8080/"
        },
        "outputId": "e7a2ee82-e82a-4611-bd39-d80b06d9b100"
      },
      "outputs": [
        {
          "output_type": "stream",
          "name": "stdout",
          "text": [
            "Decision Tree : Accuracy on training Data: 0.969\n",
            "Decision Tree : Accuracy on test Data: 0.944\n",
            "\n",
            "Decision Tree : f1_score on training Data: 0.969\n",
            "Decision Tree : f1_score on test Data: 0.943\n",
            "\n",
            "Decision Tree : Recall on training Data: 0.969\n",
            "Decision Tree : Recall on test Data: 0.942\n",
            "\n",
            "Decision Tree : precision on training Data: 0.970\n",
            "Decision Tree : precision on test Data: 0.943\n"
          ]
        }
      ],
      "source": [
        "#computing the accuracy, f1_score, Recall, precision of the model performance\n",
        "\n",
        "acc_train_tree = metrics.accuracy_score(y_train,y_train_tree)\n",
        "acc_test_tree = metrics.accuracy_score(y_test,y_test_tree)\n",
        "print(\"Decision Tree : Accuracy on training Data: {:.3f}\".format(acc_train_tree))\n",
        "print(\"Decision Tree : Accuracy on test Data: {:.3f}\".format(acc_test_tree))\n",
        "print()\n",
        "\n",
        "f1_score_train_tree = metrics.f1_score(y_train,y_train_tree,average='macro')\n",
        "f1_score_test_tree = metrics.f1_score(y_test,y_test_tree,average='macro')\n",
        "print(\"Decision Tree : f1_score on training Data: {:.3f}\".format(f1_score_train_tree))\n",
        "print(\"Decision Tree : f1_score on test Data: {:.3f}\".format(f1_score_test_tree))\n",
        "print()\n",
        "\n",
        "recall_score_train_tree = metrics.recall_score(y_train,y_train_tree,average='macro')\n",
        "recall_score_test_tree = metrics.recall_score(y_test,y_test_tree,average='macro')\n",
        "print(\"Decision Tree : Recall on training Data: {:.3f}\".format(recall_score_train_tree))\n",
        "print(\"Decision Tree : Recall on test Data: {:.3f}\".format(recall_score_test_tree))\n",
        "print()\n",
        "\n",
        "precision_score_train_tree = metrics.precision_score(y_train,y_train_tree,average='macro')\n",
        "precision_score_test_tree = metrics.precision_score(y_test,y_test_tree,average='macro')\n",
        "print(\"Decision Tree : precision on training Data: {:.3f}\".format(precision_score_train_tree))\n",
        "print(\"Decision Tree : precision on test Data: {:.3f}\".format(precision_score_test_tree))"
      ]
    },
    {
      "cell_type": "code",
      "execution_count": null,
      "id": "87bcb8b6",
      "metadata": {
        "id": "87bcb8b6",
        "colab": {
          "base_uri": "https://localhost:8080/"
        },
        "outputId": "bd4bc094-8ab9-45a9-f544-9dc3ac92cfc4"
      },
      "outputs": [
        {
          "output_type": "stream",
          "name": "stdout",
          "text": [
            "              precision    recall  f1-score   support\n",
            "\n",
            "          -1       0.94      0.93      0.94      1455\n",
            "           1       0.95      0.95      0.95      1862\n",
            "\n",
            "    accuracy                           0.94      3317\n",
            "   macro avg       0.94      0.94      0.94      3317\n",
            "weighted avg       0.94      0.94      0.94      3317\n",
            "\n"
          ]
        }
      ],
      "source": [
        "#computing the classification report of the model\n",
        "\n",
        "print(metrics.classification_report(y_test, y_test_tree))"
      ]
    },
    {
      "cell_type": "code",
      "source": [
        "import time\n",
        "\n",
        "\n",
        "start_time = time.time()\n",
        "tree.fit(X_train, y_train)\n",
        "training_time = time.time() - start_time\n",
        "\n",
        "# Make predictions on the test set and measure the testing time\n",
        "start_time = time.time()\n",
        "y_pred = tree.predict(X_test)\n",
        "testing_time = time.time() - start_time\n",
        "\n",
        "# Print the training and testing time\n",
        "print('Training time: {:.3f} seconds'.format(training_time))\n",
        "print('Testing time: {:.3f} seconds'.format(testing_time))"
      ],
      "metadata": {
        "colab": {
          "base_uri": "https://localhost:8080/"
        },
        "id": "aB13lUHpysBy",
        "outputId": "0a146272-1559-4b03-d2cb-3a2dadfc78e7"
      },
      "id": "aB13lUHpysBy",
      "execution_count": null,
      "outputs": [
        {
          "output_type": "stream",
          "name": "stdout",
          "text": [
            "Training time: 0.013 seconds\n",
            "Testing time: 0.002 seconds\n"
          ]
        }
      ]
    },
    {
      "cell_type": "code",
      "execution_count": null,
      "id": "b0fdcdd9",
      "metadata": {
        "id": "b0fdcdd9",
        "colab": {
          "base_uri": "https://localhost:8080/",
          "height": 450
        },
        "outputId": "cb08b518-5819-415e-9937-05f08f2d7cec"
      },
      "outputs": [
        {
          "output_type": "display_data",
          "data": {
            "text/plain": [
              "<Figure size 640x480 with 1 Axes>"
            ],
            "image/png": "[encoded data removed]"
          },
          "metadata": {}
        }
      ],
      "source": [
        "training_accuracy = []\n",
        "test_accuracy = []\n",
        "# try max_depth from 1 to 30\n",
        "depth = range(1,30)\n",
        "for n in depth:\n",
        "    tree_test = DecisionTreeClassifier(max_depth=n)\n",
        "\n",
        "    tree_test.fit(X_train, y_train)\n",
        "    # record training set accuracy\n",
        "    training_accuracy.append(tree_test.score(X_train, y_train))\n",
        "    # record generalization accuracy\n",
        "    test_accuracy.append(tree_test.score(X_test, y_test))\n",
        "\n",
        "\n",
        "#plotting the training & testing accuracy for max_depth from 1 to 30\n",
        "plt.plot(depth, training_accuracy, label=\"training accuracy\")\n",
        "plt.plot(depth, test_accuracy, label=\"test accuracy\")\n",
        "plt.ylabel(\"Accuracy\")\n",
        "plt.xlabel(\"max_depth\")\n",
        "plt.legend();"
      ]
    },
    {
      "cell_type": "code",
      "execution_count": null,
      "id": "0f3b12b8",
      "metadata": {
        "id": "0f3b12b8"
      },
      "outputs": [],
      "source": [
        "#storing the results. The below mentioned order of parameter passing is important.\n",
        "\n",
        "storeResults('Decision Tree',acc_test_tree,f1_score_test_tree,\n",
        "             recall_score_train_tree,precision_score_train_tree)"
      ]
    },
    {
      "cell_type": "markdown",
      "id": "02637ba8",
      "metadata": {
        "id": "02637ba8"
      },
      "source": [
        "## 6.6. Random Forest : Classifier\n",
        "\n",
        "Random Forest is a popular machine learning algorithm that belongs to the supervised learning technique. It can be used for both Classification and Regression problems in ML. It is based on the concept of ensemble learning, which is a process of combining multiple classifiers to solve a complex problem and to improve the performance of the model."
      ]
    },
    {
      "cell_type": "code",
      "execution_count": null,
      "id": "49272c25",
      "metadata": {
        "id": "49272c25",
        "colab": {
          "base_uri": "https://localhost:8080/",
          "height": 74
        },
        "outputId": "0e6e6441-7a9a-4a25-c96d-9d1a97cebc83"
      },
      "outputs": [
        {
          "output_type": "execute_result",
          "data": {
            "text/plain": [
              "RandomForestClassifier(n_estimators=10)"
            ],
            "text/html": [
              "<style>#sk-container-id-42 {color: black;background-color: white;}#sk-container-id-42 pre{padding: 0;}#sk-container-id-42 div.sk-toggleable {background-color: white;}#sk-container-id-42 label.sk-toggleable__label {cursor: pointer;display: block;width: 100%;margin-bottom: 0;padding: 0.3em;box-sizing: border-box;text-align: center;}#sk-container-id-42 label.sk-toggleable__label-arrow:before {content: \"▸\";float: left;margin-right: 0.25em;color: #696969;}#sk-container-id-42 label.sk-toggleable__label-arrow:hover:before {color: black;}#sk-container-id-42 div.sk-estimator:hover label.sk-toggleable__label-arrow:before {color: black;}#sk-container-id-42 div.sk-toggleable__content {max-height: 0;max-width: 0;overflow: hidden;text-align: left;background-color: #f0f8ff;}#sk-container-id-42 div.sk-toggleable__content pre {margin: 0.2em;color: black;border-radius: 0.25em;background-color: #f0f8ff;}#sk-container-id-42 input.sk-toggleable__control:checked~div.sk-toggleable__content {max-height: 200px;max-width: 100%;overflow: auto;}#sk-container-id-42 input.sk-toggleable__control:checked~label.sk-toggleable__label-arrow:before {content: \"▾\";}#sk-container-id-42 div.sk-estimator input.sk-toggleable__control:checked~label.sk-toggleable__label {background-color: #d4ebff;}#sk-container-id-42 div.sk-label input.sk-toggleable__control:checked~label.sk-toggleable__label {background-color: #d4ebff;}#sk-container-id-42 input.sk-hidden--visually {border: 0;clip: rect(1px 1px 1px 1px);clip: rect(1px, 1px, 1px, 1px);height: 1px;margin: -1px;overflow: hidden;padding: 0;position: absolute;width: 1px;}#sk-container-id-42 div.sk-estimator {font-family: monospace;background-color: #f0f8ff;border: 1px dotted black;border-radius: 0.25em;box-sizing: border-box;margin-bottom: 0.5em;}#sk-container-id-42 div.sk-estimator:hover {background-color: #d4ebff;}#sk-container-id-42 div.sk-parallel-item::after {content: \"\";width: 100%;border-bottom: 1px solid gray;flex-grow: 1;}#sk-container-id-42 div.sk-label:hover label.sk-toggleable__label {background-color: #d4ebff;}#sk-container-id-42 div.sk-serial::before {content: \"\";position: absolute;border-left: 1px solid gray;box-sizing: border-box;top: 0;bottom: 0;left: 50%;z-index: 0;}#sk-container-id-42 div.sk-serial {display: flex;flex-direction: column;align-items: center;background-color: white;padding-right: 0.2em;padding-left: 0.2em;position: relative;}#sk-container-id-42 div.sk-item {position: relative;z-index: 1;}#sk-container-id-42 div.sk-parallel {display: flex;align-items: stretch;justify-content: center;background-color: white;position: relative;}#sk-container-id-42 div.sk-item::before, #sk-container-id-42 div.sk-parallel-item::before {content: \"\";position: absolute;border-left: 1px solid gray;box-sizing: border-box;top: 0;bottom: 0;left: 50%;z-index: -1;}#sk-container-id-42 div.sk-parallel-item {display: flex;flex-direction: column;z-index: 1;position: relative;background-color: white;}#sk-container-id-42 div.sk-parallel-item:first-child::after {align-self: flex-end;width: 50%;}#sk-container-id-42 div.sk-parallel-item:last-child::after {align-self: flex-start;width: 50%;}#sk-container-id-42 div.sk-parallel-item:only-child::after {width: 0;}#sk-container-id-42 div.sk-dashed-wrapped {border: 1px dashed gray;margin: 0 0.4em 0.5em 0.4em;box-sizing: border-box;padding-bottom: 0.4em;background-color: white;}#sk-container-id-42 div.sk-label label {font-family: monospace;font-weight: bold;display: inline-block;line-height: 1.2em;}#sk-container-id-42 div.sk-label-container {text-align: center;}#sk-container-id-42 div.sk-container {/* jupyter's `normalize.less` sets `[hidden] { display: none; }` but bootstrap.min.css set `[hidden] { display: none !important; }` so we also need the `!important` here to be able to override the default hidden behavior on the sphinx rendered scikit-learn.org. See: https://github.com/scikit-learn/scikit-learn/issues/21755 */display: inline-block !important;position: relative;}#sk-container-id-42 div.sk-text-repr-fallback {display: none;}</style><div id=\"sk-container-id-42\" class=\"sk-top-container\"><div class=\"sk-text-repr-fallback\"><pre>RandomForestClassifier(n_estimators=10)</pre><b>In a Jupyter environment, please rerun this cell to show the HTML representation or trust the notebook. <br />On GitHub, the HTML representation is unable to render, please try loading this page with nbviewer.org.</b></div><div class=\"sk-container\" hidden><div class=\"sk-item\"><div class=\"sk-estimator sk-toggleable\"><input class=\"sk-toggleable__control sk-hidden--visually\" id=\"sk-estimator-id-52\" type=\"checkbox\" checked><label for=\"sk-estimator-id-52\" class=\"sk-toggleable__label sk-toggleable__label-arrow\">RandomForestClassifier</label><div class=\"sk-toggleable__content\"><pre>RandomForestClassifier(n_estimators=10)</pre></div></div></div></div></div>"
            ]
          },
          "metadata": {},
          "execution_count": 402
        }
      ],
      "source": [
        "# Random Forest Classifier Model\n",
        "from sklearn.ensemble import RandomForestClassifier\n",
        "\n",
        "# instantiate the model\n",
        "forest = RandomForestClassifier(n_estimators=10)\n",
        "\n",
        "# fit the model\n",
        "forest.fit(X_train,y_train)"
      ]
    },
    {
      "cell_type": "code",
      "execution_count": null,
      "id": "82c1f8b7",
      "metadata": {
        "id": "82c1f8b7"
      },
      "outputs": [],
      "source": [
        "#predicting the target value from the model for the samples\n",
        "y_train_forest = forest.predict(X_train)\n",
        "y_test_forest = forest.predict(X_test)"
      ]
    },
    {
      "cell_type": "code",
      "execution_count": null,
      "id": "a41bd7f0",
      "metadata": {
        "id": "a41bd7f0",
        "colab": {
          "base_uri": "https://localhost:8080/"
        },
        "outputId": "5ab7fed7-6350-47a5-bb3e-b8176f8c39ab"
      },
      "outputs": [
        {
          "output_type": "stream",
          "name": "stdout",
          "text": [
            "Random Forest : Accuracy on training Data: 0.969\n",
            "Random Forest : Accuracy on test Data: 0.947\n",
            "\n",
            "Random Forest : f1_score on training Data: 0.969\n",
            "Random Forest : f1_score on test Data: 0.946\n",
            "\n",
            "Random Forest : Recall on training Data: 0.968\n",
            "Random Forest : Recall on test Data: 0.945\n",
            "\n",
            "Random Forest : precision on training Data: 0.969\n",
            "Random Forest : precision on test Data: 0.943\n"
          ]
        }
      ],
      "source": [
        "#computing the accuracy, f1_score, Recall, precision of the model performance\n",
        "\n",
        "acc_train_forest = metrics.accuracy_score(y_train,y_train_forest)\n",
        "acc_test_forest = metrics.accuracy_score(y_test,y_test_forest)\n",
        "print(\"Random Forest : Accuracy on training Data: {:.3f}\".format(acc_train_forest))\n",
        "print(\"Random Forest : Accuracy on test Data: {:.3f}\".format(acc_test_forest))\n",
        "print()\n",
        "\n",
        "f1_score_train_forest = metrics.f1_score(y_train,y_train_forest,average='macro')\n",
        "f1_score_test_forest = metrics.f1_score(y_test,y_test_forest,average='macro')\n",
        "print(\"Random Forest : f1_score on training Data: {:.3f}\".format(f1_score_train_forest))\n",
        "print(\"Random Forest : f1_score on test Data: {:.3f}\".format(f1_score_test_forest))\n",
        "print()\n",
        "\n",
        "recall_score_train_forest = metrics.recall_score(y_train,y_train_forest,average='macro')\n",
        "recall_score_test_forest = metrics.recall_score(y_test,y_test_forest,average='macro')\n",
        "print(\"Random Forest : Recall on training Data: {:.3f}\".format(recall_score_train_forest))\n",
        "print(\"Random Forest : Recall on test Data: {:.3f}\".format(recall_score_test_forest))\n",
        "print()\n",
        "\n",
        "precision_score_train_forest = metrics.precision_score(y_train,y_train_forest,average='macro')\n",
        "precision_score_test_forest = metrics.precision_score(y_test,y_test_tree,average='macro')\n",
        "print(\"Random Forest : precision on training Data: {:.3f}\".format(precision_score_train_forest))\n",
        "print(\"Random Forest : precision on test Data: {:.3f}\".format(precision_score_test_forest))"
      ]
    },
    {
      "cell_type": "code",
      "execution_count": null,
      "id": "fb33464b",
      "metadata": {
        "id": "fb33464b",
        "colab": {
          "base_uri": "https://localhost:8080/"
        },
        "outputId": "73e31142-cbc7-441a-9dc0-2386c55430c3"
      },
      "outputs": [
        {
          "output_type": "stream",
          "name": "stdout",
          "text": [
            "              precision    recall  f1-score   support\n",
            "\n",
            "          -1       0.95      0.93      0.94      1455\n",
            "           1       0.95      0.96      0.95      1862\n",
            "\n",
            "    accuracy                           0.95      3317\n",
            "   macro avg       0.95      0.95      0.95      3317\n",
            "weighted avg       0.95      0.95      0.95      3317\n",
            "\n"
          ]
        }
      ],
      "source": [
        "#computing the classification report of the model\n",
        "\n",
        "print(metrics.classification_report(y_test, y_test_forest))"
      ]
    },
    {
      "cell_type": "code",
      "source": [
        "import time\n",
        "\n",
        "\n",
        "start_time = time.time()\n",
        "forest.fit(X_train, y_train)\n",
        "training_time = time.time() - start_time\n",
        "\n",
        "# Make predictions on the test set and measure the testing time\n",
        "start_time = time.time()\n",
        "y_pred = forest.predict(X_test)\n",
        "testing_time = time.time() - start_time\n",
        "\n",
        "# Print the training and testing time\n",
        "print('Training time: {:.3f} seconds'.format(training_time))\n",
        "print('Testing time: {:.3f} seconds'.format(testing_time))"
      ],
      "metadata": {
        "colab": {
          "base_uri": "https://localhost:8080/"
        },
        "id": "soSjHABMy1HN",
        "outputId": "e06edcc4-8170-422f-9f48-8371fbf846fb"
      },
      "id": "soSjHABMy1HN",
      "execution_count": null,
      "outputs": [
        {
          "output_type": "stream",
          "name": "stdout",
          "text": [
            "Training time: 0.052 seconds\n",
            "Testing time: 0.008 seconds\n"
          ]
        }
      ]
    },
    {
      "cell_type": "code",
      "execution_count": null,
      "id": "4f10c481",
      "metadata": {
        "id": "4f10c481",
        "colab": {
          "base_uri": "https://localhost:8080/",
          "height": 450
        },
        "outputId": "c7a081b9-af8e-4bc5-e1fa-a84e359100c6"
      },
      "outputs": [
        {
          "output_type": "display_data",
          "data": {
            "text/plain": [
              "<Figure size 640x480 with 1 Axes>"
            ],
            "image/png": "[encoded data removed]"
          },
          "metadata": {}
        }
      ],
      "source": [
        "training_accuracy = []\n",
        "test_accuracy = []\n",
        "# try max_depth from 1 to 20\n",
        "depth = range(1,20)\n",
        "for n in depth:\n",
        "    forest_test =  RandomForestClassifier(n_estimators=n)\n",
        "\n",
        "    forest_test.fit(X_train, y_train)\n",
        "    # record training set accuracy\n",
        "    training_accuracy.append(forest_test.score(X_train, y_train))\n",
        "    # record generalization accuracy\n",
        "    test_accuracy.append(forest_test.score(X_test, y_test))\n",
        "\n",
        "\n",
        "#plotting the training & testing accuracy for n_estimators from 1 to 20\n",
        "plt.figure(figsize=None)\n",
        "plt.plot(depth, training_accuracy, label=\"training accuracy\")\n",
        "plt.plot(depth, test_accuracy, label=\"test accuracy\")\n",
        "plt.ylabel(\"Accuracy\")\n",
        "plt.xlabel(\"n_estimators\")\n",
        "plt.legend();"
      ]
    },
    {
      "cell_type": "code",
      "execution_count": null,
      "id": "310a4d15",
      "metadata": {
        "id": "310a4d15"
      },
      "outputs": [],
      "source": [
        "#storing the results. The below mentioned order of parameter passing is important.\n",
        "\n",
        "storeResults('Random Forest',acc_test_forest,f1_score_test_forest,\n",
        "             recall_score_train_forest,precision_score_train_forest)"
      ]
    },
    {
      "cell_type": "markdown",
      "id": "08ba9a1a",
      "metadata": {
        "id": "08ba9a1a"
      },
      "source": [
        "## 6.7.Gradient Boosting Classifier\n",
        "Gradient boosting classifiers are a group of machine learning algorithms that combine many weak learning models together to create a strong predictive model. Decision trees are usually used when doing gradient boosting. Boosting algorithms play a crucial role in dealing with bias variance trade-off.  Unlike bagging algorithms, which only controls for high variance in a model, boosting controls both the aspects (bias & variance), and is considered to be more effective."
      ]
    },
    {
      "cell_type": "code",
      "execution_count": null,
      "id": "46672600",
      "metadata": {
        "id": "46672600",
        "colab": {
          "base_uri": "https://localhost:8080/",
          "height": 74
        },
        "outputId": "70733596-f20b-4f50-84bb-e2a4f93ce01b"
      },
      "outputs": [
        {
          "output_type": "execute_result",
          "data": {
            "text/plain": [
              "GradientBoostingClassifier(learning_rate=0.7, max_depth=4)"
            ],
            "text/html": [
              "<style>#sk-container-id-43 {color: black;background-color: white;}#sk-container-id-43 pre{padding: 0;}#sk-container-id-43 div.sk-toggleable {background-color: white;}#sk-container-id-43 label.sk-toggleable__label {cursor: pointer;display: block;width: 100%;margin-bottom: 0;padding: 0.3em;box-sizing: border-box;text-align: center;}#sk-container-id-43 label.sk-toggleable__label-arrow:before {content: \"▸\";float: left;margin-right: 0.25em;color: #696969;}#sk-container-id-43 label.sk-toggleable__label-arrow:hover:before {color: black;}#sk-container-id-43 div.sk-estimator:hover label.sk-toggleable__label-arrow:before {color: black;}#sk-container-id-43 div.sk-toggleable__content {max-height: 0;max-width: 0;overflow: hidden;text-align: left;background-color: #f0f8ff;}#sk-container-id-43 div.sk-toggleable__content pre {margin: 0.2em;color: black;border-radius: 0.25em;background-color: #f0f8ff;}#sk-container-id-43 input.sk-toggleable__control:checked~div.sk-toggleable__content {max-height: 200px;max-width: 100%;overflow: auto;}#sk-container-id-43 input.sk-toggleable__control:checked~label.sk-toggleable__label-arrow:before {content: \"▾\";}#sk-container-id-43 div.sk-estimator input.sk-toggleable__control:checked~label.sk-toggleable__label {background-color: #d4ebff;}#sk-container-id-43 div.sk-label input.sk-toggleable__control:checked~label.sk-toggleable__label {background-color: #d4ebff;}#sk-container-id-43 input.sk-hidden--visually {border: 0;clip: rect(1px 1px 1px 1px);clip: rect(1px, 1px, 1px, 1px);height: 1px;margin: -1px;overflow: hidden;padding: 0;position: absolute;width: 1px;}#sk-container-id-43 div.sk-estimator {font-family: monospace;background-color: #f0f8ff;border: 1px dotted black;border-radius: 0.25em;box-sizing: border-box;margin-bottom: 0.5em;}#sk-container-id-43 div.sk-estimator:hover {background-color: #d4ebff;}#sk-container-id-43 div.sk-parallel-item::after {content: \"\";width: 100%;border-bottom: 1px solid gray;flex-grow: 1;}#sk-container-id-43 div.sk-label:hover label.sk-toggleable__label {background-color: #d4ebff;}#sk-container-id-43 div.sk-serial::before {content: \"\";position: absolute;border-left: 1px solid gray;box-sizing: border-box;top: 0;bottom: 0;left: 50%;z-index: 0;}#sk-container-id-43 div.sk-serial {display: flex;flex-direction: column;align-items: center;background-color: white;padding-right: 0.2em;padding-left: 0.2em;position: relative;}#sk-container-id-43 div.sk-item {position: relative;z-index: 1;}#sk-container-id-43 div.sk-parallel {display: flex;align-items: stretch;justify-content: center;background-color: white;position: relative;}#sk-container-id-43 div.sk-item::before, #sk-container-id-43 div.sk-parallel-item::before {content: \"\";position: absolute;border-left: 1px solid gray;box-sizing: border-box;top: 0;bottom: 0;left: 50%;z-index: -1;}#sk-container-id-43 div.sk-parallel-item {display: flex;flex-direction: column;z-index: 1;position: relative;background-color: white;}#sk-container-id-43 div.sk-parallel-item:first-child::after {align-self: flex-end;width: 50%;}#sk-container-id-43 div.sk-parallel-item:last-child::after {align-self: flex-start;width: 50%;}#sk-container-id-43 div.sk-parallel-item:only-child::after {width: 0;}#sk-container-id-43 div.sk-dashed-wrapped {border: 1px dashed gray;margin: 0 0.4em 0.5em 0.4em;box-sizing: border-box;padding-bottom: 0.4em;background-color: white;}#sk-container-id-43 div.sk-label label {font-family: monospace;font-weight: bold;display: inline-block;line-height: 1.2em;}#sk-container-id-43 div.sk-label-container {text-align: center;}#sk-container-id-43 div.sk-container {/* jupyter's `normalize.less` sets `[hidden] { display: none; }` but bootstrap.min.css set `[hidden] { display: none !important; }` so we also need the `!important` here to be able to override the default hidden behavior on the sphinx rendered scikit-learn.org. See: https://github.com/scikit-learn/scikit-learn/issues/21755 */display: inline-block !important;position: relative;}#sk-container-id-43 div.sk-text-repr-fallback {display: none;}</style><div id=\"sk-container-id-43\" class=\"sk-top-container\"><div class=\"sk-text-repr-fallback\"><pre>GradientBoostingClassifier(learning_rate=0.7, max_depth=4)</pre><b>In a Jupyter environment, please rerun this cell to show the HTML representation or trust the notebook. <br />On GitHub, the HTML representation is unable to render, please try loading this page with nbviewer.org.</b></div><div class=\"sk-container\" hidden><div class=\"sk-item\"><div class=\"sk-estimator sk-toggleable\"><input class=\"sk-toggleable__control sk-hidden--visually\" id=\"sk-estimator-id-53\" type=\"checkbox\" checked><label for=\"sk-estimator-id-53\" class=\"sk-toggleable__label sk-toggleable__label-arrow\">GradientBoostingClassifier</label><div class=\"sk-toggleable__content\"><pre>GradientBoostingClassifier(learning_rate=0.7, max_depth=4)</pre></div></div></div></div></div>"
            ]
          },
          "metadata": {},
          "execution_count": 409
        }
      ],
      "source": [
        "# Gradient Boosting Classifier Model\n",
        "from sklearn.ensemble import GradientBoostingClassifier\n",
        "\n",
        "# instantiate the model\n",
        "gbc = GradientBoostingClassifier(max_depth=4,learning_rate=0.7)\n",
        "\n",
        "# fit the model\n",
        "gbc.fit(X_train,y_train)"
      ]
    },
    {
      "cell_type": "code",
      "execution_count": null,
      "id": "1abd4a9e",
      "metadata": {
        "id": "1abd4a9e"
      },
      "outputs": [],
      "source": [
        "#predicting the target value from the model for the samples\n",
        "y_train_gbc = gbc.predict(X_train)\n",
        "y_test_gbc = gbc.predict(X_test)"
      ]
    },
    {
      "cell_type": "code",
      "execution_count": null,
      "id": "4c8ea93d",
      "metadata": {
        "id": "4c8ea93d",
        "colab": {
          "base_uri": "https://localhost:8080/"
        },
        "outputId": "379f1b60-4322-4a8b-8251-6b668b4c5490"
      },
      "outputs": [
        {
          "output_type": "stream",
          "name": "stdout",
          "text": [
            "Gradient Boosting Classifier : Accuracy on training Data: 0.966\n",
            "Gradient Boosting Classifier : Accuracy on test Data: 0.952\n",
            "\n",
            "Gradient Boosting Classifier : f1_score on training Data: 0.966\n",
            "Gradient Boosting Classifier : f1_score on test Data: 0.951\n",
            "\n",
            "Gradient Boosting Classifier : Recall on training Data: 0.965\n",
            "Gradient Boosting Classifier : Recall on test Data: 0.950\n",
            "\n",
            "Gradient Boosting Classifier : precision on training Data: 0.967\n",
            "Gradient Boosting Classifier : precision on test Data: 0.952\n"
          ]
        }
      ],
      "source": [
        "#computing the accuracy, f1_score, Recall, precision of the model performance\n",
        "\n",
        "acc_train_gbc = metrics.accuracy_score(y_train,y_train_gbc)\n",
        "acc_test_gbc = metrics.accuracy_score(y_test,y_test_gbc)\n",
        "print(\"Gradient Boosting Classifier : Accuracy on training Data: {:.3f}\".format(acc_train_gbc))\n",
        "print(\"Gradient Boosting Classifier : Accuracy on test Data: {:.3f}\".format(acc_test_gbc))\n",
        "print()\n",
        "\n",
        "f1_score_train_gbc = metrics.f1_score(y_train,y_train_gbc,average='macro')\n",
        "f1_score_test_gbc = metrics.f1_score(y_test,y_test_gbc,average='macro')\n",
        "print(\"Gradient Boosting Classifier : f1_score on training Data: {:.3f}\".format(f1_score_train_gbc))\n",
        "print(\"Gradient Boosting Classifier : f1_score on test Data: {:.3f}\".format(f1_score_test_gbc))\n",
        "print()\n",
        "\n",
        "recall_score_train_gbc = metrics.recall_score(y_train,y_train_gbc,average='macro')\n",
        "recall_score_test_gbc =  metrics.recall_score(y_test,y_test_gbc,average='macro')\n",
        "print(\"Gradient Boosting Classifier : Recall on training Data: {:.3f}\".format(recall_score_train_gbc))\n",
        "print(\"Gradient Boosting Classifier : Recall on test Data: {:.3f}\".format(recall_score_test_gbc))\n",
        "print()\n",
        "\n",
        "precision_score_train_gbc = metrics.precision_score(y_train,y_train_gbc,average='macro')\n",
        "precision_score_test_gbc = metrics.precision_score(y_test,y_test_gbc,average='macro')\n",
        "print(\"Gradient Boosting Classifier : precision on training Data: {:.3f}\".format(precision_score_train_gbc))\n",
        "print(\"Gradient Boosting Classifier : precision on test Data: {:.3f}\".format(precision_score_test_gbc))"
      ]
    },
    {
      "cell_type": "code",
      "execution_count": null,
      "id": "1f7959d8",
      "metadata": {
        "id": "1f7959d8",
        "colab": {
          "base_uri": "https://localhost:8080/"
        },
        "outputId": "e968b334-e7c4-493f-cc8c-50252dbcf985"
      },
      "outputs": [
        {
          "output_type": "stream",
          "name": "stdout",
          "text": [
            "              precision    recall  f1-score   support\n",
            "\n",
            "          -1       0.96      0.93      0.94      1455\n",
            "           1       0.95      0.97      0.96      1862\n",
            "\n",
            "    accuracy                           0.95      3317\n",
            "   macro avg       0.95      0.95      0.95      3317\n",
            "weighted avg       0.95      0.95      0.95      3317\n",
            "\n"
          ]
        }
      ],
      "source": [
        "#computing the classification report of the model\n",
        "\n",
        "print(metrics.classification_report(y_test, y_test_gbc))"
      ]
    },
    {
      "cell_type": "code",
      "source": [
        "import time\n",
        "\n",
        "\n",
        "start_time = time.time()\n",
        "gbc.fit(X_train, y_train)\n",
        "training_time = time.time() - start_time\n",
        "\n",
        "# Make predictions on the test set and measure the testing time\n",
        "start_time = time.time()\n",
        "y_pred = gbc.predict(X_test)\n",
        "testing_time = time.time() - start_time\n",
        "\n",
        "# Print the training and testing time\n",
        "print('Training time: {:.3f} seconds'.format(training_time))\n",
        "print('Testing time: {:.3f} seconds'.format(testing_time))"
      ],
      "metadata": {
        "colab": {
          "base_uri": "https://localhost:8080/"
        },
        "id": "brBgzJWqy7yw",
        "outputId": "d8234959-6370-4482-ba41-b2b9c2f7606c"
      },
      "id": "brBgzJWqy7yw",
      "execution_count": null,
      "outputs": [
        {
          "output_type": "stream",
          "name": "stdout",
          "text": [
            "Training time: 0.694 seconds\n",
            "Testing time: 0.012 seconds\n"
          ]
        }
      ]
    },
    {
      "cell_type": "code",
      "execution_count": null,
      "id": "7e310444",
      "metadata": {
        "id": "7e310444",
        "colab": {
          "base_uri": "https://localhost:8080/",
          "height": 450
        },
        "outputId": "d54352cf-59d5-4687-ccef-454a4bc5cbc3"
      },
      "outputs": [
        {
          "output_type": "display_data",
          "data": {
            "text/plain": [
              "<Figure size 640x480 with 1 Axes>"
            ],
            "image/png": "[encoded data removed]"
          },
          "metadata": {}
        }
      ],
      "source": [
        "training_accuracy = []\n",
        "test_accuracy = []\n",
        "# try learning_rate from 0.1 to 0.9\n",
        "depth = range(1,10)\n",
        "for n in depth:\n",
        "    forest_test =  GradientBoostingClassifier(learning_rate = n*0.1)\n",
        "\n",
        "    forest_test.fit(X_train, y_train)\n",
        "    # record training set accuracy\n",
        "    training_accuracy.append(forest_test.score(X_train, y_train))\n",
        "    # record generalization accuracy\n",
        "    test_accuracy.append(forest_test.score(X_test, y_test))\n",
        "\n",
        "\n",
        "#plotting the training & testing accuracy for n_estimators from 1 to 50\n",
        "plt.figure(figsize=None)\n",
        "plt.plot(depth, training_accuracy, label=\"training accuracy\")\n",
        "plt.plot(depth, test_accuracy, label=\"test accuracy\")\n",
        "plt.ylabel(\"Accuracy\")\n",
        "plt.xlabel(\"learning_rate\")\n",
        "plt.legend();"
      ]
    },
    {
      "cell_type": "code",
      "execution_count": null,
      "id": "660fe8b1",
      "metadata": {
        "id": "660fe8b1"
      },
      "outputs": [],
      "source": [
        "#storing the results. The below mentioned order of parameter passing is important.\n",
        "\n",
        "storeResults('Gradient Boosting Classifier',acc_test_gbc,f1_score_test_gbc,\n",
        "             recall_score_train_gbc,precision_score_train_gbc)"
      ]
    },
    {
      "cell_type": "markdown",
      "id": "85e3d3e0",
      "metadata": {
        "id": "85e3d3e0"
      },
      "source": [
        "## 6.9. XGBoost Classifier\n",
        "\n",
        "XGBoost is an implementation of gradient boosted decision trees designed for speed and performance that is dominative competitive machine learning. In this post you will discover how you can install and create your first XGBoost model in Python"
      ]
    },
    {
      "cell_type": "code",
      "execution_count": null,
      "id": "b340bc9b",
      "metadata": {
        "id": "b340bc9b",
        "colab": {
          "base_uri": "https://localhost:8080/",
          "height": 248
        },
        "outputId": "147c8b6e-679c-4e93-9670-b4cdeaa0b39a"
      },
      "outputs": [
        {
          "output_type": "execute_result",
          "data": {
            "text/plain": [
              "XGBClassifier(base_score=None, booster=None, callbacks=None,\n",
              "              colsample_bylevel=None, colsample_bynode=None,\n",
              "              colsample_bytree=None, early_stopping_rounds=None,\n",
              "              enable_categorical=False, eval_metric=None, feature_types=None,\n",
              "              gamma=None, gpu_id=None, grow_policy=None, importance_type=None,\n",
              "              interaction_constraints=None, learning_rate=None, max_bin=None,\n",
              "              max_cat_threshold=None, max_cat_to_onehot=None,\n",
              "              max_delta_step=None, max_depth=None, max_leaves=None,\n",
              "              min_child_weight=None, missing=nan, monotone_constraints=None,\n",
              "              n_estimators=100, n_jobs=None, num_parallel_tree=None,\n",
              "              predictor=None, random_state=None, ...)"
            ],
            "text/html": [
              "<style>#sk-container-id-44 {color: black;background-color: white;}#sk-container-id-44 pre{padding: 0;}#sk-container-id-44 div.sk-toggleable {background-color: white;}#sk-container-id-44 label.sk-toggleable__label {cursor: pointer;display: block;width: 100%;margin-bottom: 0;padding: 0.3em;box-sizing: border-box;text-align: center;}#sk-container-id-44 label.sk-toggleable__label-arrow:before {content: \"▸\";float: left;margin-right: 0.25em;color: #696969;}#sk-container-id-44 label.sk-toggleable__label-arrow:hover:before {color: black;}#sk-container-id-44 div.sk-estimator:hover label.sk-toggleable__label-arrow:before {color: black;}#sk-container-id-44 div.sk-toggleable__content {max-height: 0;max-width: 0;overflow: hidden;text-align: left;background-color: #f0f8ff;}#sk-container-id-44 div.sk-toggleable__content pre {margin: 0.2em;color: black;border-radius: 0.25em;background-color: #f0f8ff;}#sk-container-id-44 input.sk-toggleable__control:checked~div.sk-toggleable__content {max-height: 200px;max-width: 100%;overflow: auto;}#sk-container-id-44 input.sk-toggleable__control:checked~label.sk-toggleable__label-arrow:before {content: \"▾\";}#sk-container-id-44 div.sk-estimator input.sk-toggleable__control:checked~label.sk-toggleable__label {background-color: #d4ebff;}#sk-container-id-44 div.sk-label input.sk-toggleable__control:checked~label.sk-toggleable__label {background-color: #d4ebff;}#sk-container-id-44 input.sk-hidden--visually {border: 0;clip: rect(1px 1px 1px 1px);clip: rect(1px, 1px, 1px, 1px);height: 1px;margin: -1px;overflow: hidden;padding: 0;position: absolute;width: 1px;}#sk-container-id-44 div.sk-estimator {font-family: monospace;background-color: #f0f8ff;border: 1px dotted black;border-radius: 0.25em;box-sizing: border-box;margin-bottom: 0.5em;}#sk-container-id-44 div.sk-estimator:hover {background-color: #d4ebff;}#sk-container-id-44 div.sk-parallel-item::after {content: \"\";width: 100%;border-bottom: 1px solid gray;flex-grow: 1;}#sk-container-id-44 div.sk-label:hover label.sk-toggleable__label {background-color: #d4ebff;}#sk-container-id-44 div.sk-serial::before {content: \"\";position: absolute;border-left: 1px solid gray;box-sizing: border-box;top: 0;bottom: 0;left: 50%;z-index: 0;}#sk-container-id-44 div.sk-serial {display: flex;flex-direction: column;align-items: center;background-color: white;padding-right: 0.2em;padding-left: 0.2em;position: relative;}#sk-container-id-44 div.sk-item {position: relative;z-index: 1;}#sk-container-id-44 div.sk-parallel {display: flex;align-items: stretch;justify-content: center;background-color: white;position: relative;}#sk-container-id-44 div.sk-item::before, #sk-container-id-44 div.sk-parallel-item::before {content: \"\";position: absolute;border-left: 1px solid gray;box-sizing: border-box;top: 0;bottom: 0;left: 50%;z-index: -1;}#sk-container-id-44 div.sk-parallel-item {display: flex;flex-direction: column;z-index: 1;position: relative;background-color: white;}#sk-container-id-44 div.sk-parallel-item:first-child::after {align-self: flex-end;width: 50%;}#sk-container-id-44 div.sk-parallel-item:last-child::after {align-self: flex-start;width: 50%;}#sk-container-id-44 div.sk-parallel-item:only-child::after {width: 0;}#sk-container-id-44 div.sk-dashed-wrapped {border: 1px dashed gray;margin: 0 0.4em 0.5em 0.4em;box-sizing: border-box;padding-bottom: 0.4em;background-color: white;}#sk-container-id-44 div.sk-label label {font-family: monospace;font-weight: bold;display: inline-block;line-height: 1.2em;}#sk-container-id-44 div.sk-label-container {text-align: center;}#sk-container-id-44 div.sk-container {/* jupyter's `normalize.less` sets `[hidden] { display: none; }` but bootstrap.min.css set `[hidden] { display: none !important; }` so we also need the `!important` here to be able to override the default hidden behavior on the sphinx rendered scikit-learn.org. See: https://github.com/scikit-learn/scikit-learn/issues/21755 */display: inline-block !important;position: relative;}#sk-container-id-44 div.sk-text-repr-fallback {display: none;}</style><div id=\"sk-container-id-44\" class=\"sk-top-container\"><div class=\"sk-text-repr-fallback\"><pre>XGBClassifier(base_score=None, booster=None, callbacks=None,\n",
              "              colsample_bylevel=None, colsample_bynode=None,\n",
              "              colsample_bytree=None, early_stopping_rounds=None,\n",
              "              enable_categorical=False, eval_metric=None, feature_types=None,\n",
              "              gamma=None, gpu_id=None, grow_policy=None, importance_type=None,\n",
              "              interaction_constraints=None, learning_rate=None, max_bin=None,\n",
              "              max_cat_threshold=None, max_cat_to_onehot=None,\n",
              "              max_delta_step=None, max_depth=None, max_leaves=None,\n",
              "              min_child_weight=None, missing=nan, monotone_constraints=None,\n",
              "              n_estimators=100, n_jobs=None, num_parallel_tree=None,\n",
              "              predictor=None, random_state=None, ...)</pre><b>In a Jupyter environment, please rerun this cell to show the HTML representation or trust the notebook. <br />On GitHub, the HTML representation is unable to render, please try loading this page with nbviewer.org.</b></div><div class=\"sk-container\" hidden><div class=\"sk-item\"><div class=\"sk-estimator sk-toggleable\"><input class=\"sk-toggleable__control sk-hidden--visually\" id=\"sk-estimator-id-54\" type=\"checkbox\" checked><label for=\"sk-estimator-id-54\" class=\"sk-toggleable__label sk-toggleable__label-arrow\">XGBClassifier</label><div class=\"sk-toggleable__content\"><pre>XGBClassifier(base_score=None, booster=None, callbacks=None,\n",
              "              colsample_bylevel=None, colsample_bynode=None,\n",
              "              colsample_bytree=None, early_stopping_rounds=None,\n",
              "              enable_categorical=False, eval_metric=None, feature_types=None,\n",
              "              gamma=None, gpu_id=None, grow_policy=None, importance_type=None,\n",
              "              interaction_constraints=None, learning_rate=None, max_bin=None,\n",
              "              max_cat_threshold=None, max_cat_to_onehot=None,\n",
              "              max_delta_step=None, max_depth=None, max_leaves=None,\n",
              "              min_child_weight=None, missing=nan, monotone_constraints=None,\n",
              "              n_estimators=100, n_jobs=None, num_parallel_tree=None,\n",
              "              predictor=None, random_state=None, ...)</pre></div></div></div></div></div>"
            ]
          },
          "metadata": {},
          "execution_count": 416
        }
      ],
      "source": [
        "import pandas as pd\n",
        "import numpy as np\n",
        "from sklearn.model_selection import train_test_split\n",
        "from sklearn.feature_selection import SelectKBest\n",
        "from sklearn.feature_selection import mutual_info_classif\n",
        "from xgboost import XGBClassifier\n",
        "\n",
        "\n",
        "\n",
        "# map -1 to 0 and 1 to 1 in the target variable\n",
        "y = np.where(y == -1, 0, 1)\n",
        "\n",
        "# select the top 12 features using mutual information gain\n",
        "selector = SelectKBest(mutual_info_classif, k=12)\n",
        "selector.fit(X, y)\n",
        "X_new = selector.transform(X)\n",
        "\n",
        "# split the data into training and testing sets\n",
        "X_train, X_test, y_train, y_test = train_test_split(X_new, y, test_size=0.3, random_state=42)\n",
        "\n",
        "# instantiate the model\n",
        "xgb = XGBClassifier()\n",
        "\n",
        "# fit the model\n",
        "xgb.fit(X_train, y_train)\n"
      ]
    },
    {
      "cell_type": "code",
      "execution_count": null,
      "id": "145048a1",
      "metadata": {
        "id": "145048a1"
      },
      "outputs": [],
      "source": [
        "#predicting the target value from the model for the samples\n",
        "y_train_xgb = xgb.predict(X_train)\n",
        "y_test_xgb = xgb.predict(X_test)"
      ]
    },
    {
      "cell_type": "code",
      "execution_count": null,
      "id": "dbb29de7",
      "metadata": {
        "id": "dbb29de7",
        "colab": {
          "base_uri": "https://localhost:8080/"
        },
        "outputId": "fc59696d-3438-4447-fe63-e6bd74e5d319"
      },
      "outputs": [
        {
          "output_type": "stream",
          "name": "stdout",
          "text": [
            "XGBoost Classifier : Accuracy on training Data: 0.961\n",
            "XGBoost Classifier : Accuracy on test Data: 0.947\n",
            "\n",
            "XGBoost Classifier : f1_score on training Data: 0.965\n",
            "XGBoost Classifier : f1_score on test Data: 0.946\n",
            "\n",
            "XGBoost Classifier : Recall on training Data: 0.968\n",
            "XGBoost Classifier : Recall on test Data: 0.968\n",
            "\n",
            "XGBoost Classifier : precision on training Data: 0.962\n",
            "XGBoost Classifier : precision on test Data: 0.962\n"
          ]
        }
      ],
      "source": [
        "#computing the accuracy, f1_score, Recall, precision of the model performance\n",
        "\n",
        "acc_train_xgb = metrics.accuracy_score(y_train,y_train_xgb)\n",
        "acc_test_xgb = metrics.accuracy_score(y_test,y_test_xgb)\n",
        "print(\"XGBoost Classifier : Accuracy on training Data: {:.3f}\".format(acc_train_xgb))\n",
        "print(\"XGBoost Classifier : Accuracy on test Data: {:.3f}\".format(acc_test_xgb))\n",
        "print()\n",
        "\n",
        "f1_score_train_xgb = metrics.f1_score(y_train,y_train_xgb)\n",
        "f1_score_test_xgb = metrics.f1_score(y_test,y_test_xgb, average='macro')\n",
        "print(\"XGBoost Classifier : f1_score on training Data: {:.3f}\".format(f1_score_train_xgb))\n",
        "print(\"XGBoost Classifier : f1_score on test Data: {:.3f}\".format(f1_score_test_xgb))\n",
        "print()\n",
        "\n",
        "recall_score_train_xgb = metrics.recall_score(y_train,y_train_xgb)\n",
        "recall_score_test_xgb = metrics.recall_score(y_test,y_test_xgb, average='macro')\n",
        "print(\"XGBoost Classifier : Recall on training Data: {:.3f}\".format(recall_score_train_xgb))\n",
        "print(\"XGBoost Classifier : Recall on test Data: {:.3f}\".format(recall_score_train_xgb))\n",
        "print()\n",
        "\n",
        "precision_score_train_xgb = metrics.precision_score(y_train,y_train_xgb)\n",
        "precision_score_test_xgb = metrics.precision_score(y_test,y_test_xgb, average='macro')\n",
        "print(\"XGBoost Classifier : precision on training Data: {:.3f}\".format(precision_score_train_xgb))\n",
        "print(\"XGBoost Classifier : precision on test Data: {:.3f}\".format(precision_score_train_xgb))"
      ]
    },
    {
      "cell_type": "code",
      "source": [
        "import time\n",
        "\n",
        "\n",
        "start_time = time.time()\n",
        "xgb.fit(X_train, y_train)\n",
        "training_time = time.time() - start_time\n",
        "\n",
        "# Make predictions on the test set and measure the testing time\n",
        "start_time = time.time()\n",
        "y_pred = xgb.predict(X_test)\n",
        "testing_time = time.time() - start_time\n",
        "\n",
        "# Print the training and testing time\n",
        "print('Training time: {:.3f} seconds'.format(training_time))\n",
        "print('Testing time: {:.3f} seconds'.format(testing_time))"
      ],
      "metadata": {
        "colab": {
          "base_uri": "https://localhost:8080/"
        },
        "id": "W2ergpO9zCjr",
        "outputId": "6d47e881-4863-4e43-92b8-05c5831a432e"
      },
      "id": "W2ergpO9zCjr",
      "execution_count": null,
      "outputs": [
        {
          "output_type": "stream",
          "name": "stdout",
          "text": [
            "Training time: 0.664 seconds\n",
            "Testing time: 0.009 seconds\n"
          ]
        }
      ]
    },
    {
      "cell_type": "code",
      "source": [
        "training_accuracy = []\n",
        "test_accuracy = []\n",
        "# try learning_rate from 0.1 to 0.9\n",
        "depth = range(1,10)\n",
        "for n in depth:\n",
        "    xgb =  XGBClassifier(learning_rate = n*0.1)\n",
        "\n",
        "    xgb.fit(X_train, y_train)\n",
        "    # record training set accuracy\n",
        "    training_accuracy.append(xgb.score(X_train, y_train))\n",
        "    # record generalization accuracy\n",
        "    test_accuracy.append(xgb.score(X_test, y_test))\n",
        "\n",
        "\n",
        "#plotting the training & testing accuracy for n_estimators from 1 to 50\n",
        "plt.figure(figsize=None)\n",
        "plt.plot(depth, training_accuracy, label=\"training accuracy\")\n",
        "plt.plot(depth, test_accuracy, label=\"test accuracy\")\n",
        "plt.ylabel(\"Accuracy\")\n",
        "plt.xlabel(\"learning_rate\")\n",
        "plt.legend();\n",
        "# Train the XGBoost model\n",
        "# import matplotlib.pyplot as plt\n",
        "# import xgboost as xgb\n",
        "\n",
        "# # Load the data and split it into training and testing sets\n",
        "# data = xgb.DMatrix(X, label=y)\n",
        "# X_train, X_test, y_train, y_test = train_test_split(X, y, test_size=0.2, random_state=42)\n",
        "\n",
        "# # Train the XGBoost model\n",
        "# params = {'max_depth': 3, 'eta': 0.1, 'objective': 'binary:logistic'}\n",
        "# num_round = 100\n",
        "# model = xgb.train(params, data, num_round)\n",
        "\n",
        "# # Plot the training and testing curves\n",
        "# plt.figure(figsize=(10, 6))\n",
        "# train = plt.plot(model.eval(data, 'train')['logloss'], label='Training')\n",
        "# test = plt.plot(model.eval(xgb.DMatrix(X_test, label=y_test), 'test')['logloss'], label='Testing')\n",
        "# plt.xlabel('Number of iterations')\n",
        "# plt.ylabel('Log Loss')\n",
        "# plt.title('Training and Testing Curves for XGBoost')\n",
        "# plt.legend()\n",
        "# plt.show()\n"
      ],
      "metadata": {
        "colab": {
          "base_uri": "https://localhost:8080/",
          "height": 450
        },
        "id": "t0fsOiyEUXWU",
        "outputId": "d219d88e-ab6a-48d2-86cc-162c7b1d287d"
      },
      "id": "t0fsOiyEUXWU",
      "execution_count": null,
      "outputs": [
        {
          "output_type": "display_data",
          "data": {
            "text/plain": [
              "<Figure size 640x480 with 1 Axes>"
            ],
            "image/png": "[encoded data removed]"
          },
          "metadata": {}
        }
      ]
    },
    {
      "cell_type": "code",
      "execution_count": null,
      "id": "4b43d60b",
      "metadata": {
        "id": "4b43d60b"
      },
      "outputs": [],
      "source": [
        "#storing the results. The below mentioned order of parameter passing is important.\n",
        "\n",
        "storeResults('XGBoost Classifier',acc_test_xgb,f1_score_test_xgb,\n",
        "             recall_score_train_xgb,precision_score_train_xgb)"
      ]
    },
    {
      "cell_type": "markdown",
      "id": "c87f8a55",
      "metadata": {
        "id": "c87f8a55"
      },
      "source": [
        "## 6.10. Multi-layer Perceptron classifier\n",
        "\n",
        "MLPClassifier stands for Multi-layer Perceptron classifier which in the name itself connects to a Neural Network. Unlike other classification algorithms such as Support Vectors or Naive Bayes Classifier, MLPClassifier relies on an underlying Neural Network to perform the task of classification.\n"
      ]
    },
    {
      "cell_type": "code",
      "execution_count": null,
      "id": "5bfc3ea7",
      "metadata": {
        "id": "5bfc3ea7",
        "colab": {
          "base_uri": "https://localhost:8080/",
          "height": 74
        },
        "outputId": "f5dd6ce2-83a1-4aff-a69d-916f4ac7a00d"
      },
      "outputs": [
        {
          "output_type": "execute_result",
          "data": {
            "text/plain": [
              "MLPClassifier()"
            ],
            "text/html": [
              "<style>#sk-container-id-45 {color: black;background-color: white;}#sk-container-id-45 pre{padding: 0;}#sk-container-id-45 div.sk-toggleable {background-color: white;}#sk-container-id-45 label.sk-toggleable__label {cursor: pointer;display: block;width: 100%;margin-bottom: 0;padding: 0.3em;box-sizing: border-box;text-align: center;}#sk-container-id-45 label.sk-toggleable__label-arrow:before {content: \"▸\";float: left;margin-right: 0.25em;color: #696969;}#sk-container-id-45 label.sk-toggleable__label-arrow:hover:before {color: black;}#sk-container-id-45 div.sk-estimator:hover label.sk-toggleable__label-arrow:before {color: black;}#sk-container-id-45 div.sk-toggleable__content {max-height: 0;max-width: 0;overflow: hidden;text-align: left;background-color: #f0f8ff;}#sk-container-id-45 div.sk-toggleable__content pre {margin: 0.2em;color: black;border-radius: 0.25em;background-color: #f0f8ff;}#sk-container-id-45 input.sk-toggleable__control:checked~div.sk-toggleable__content {max-height: 200px;max-width: 100%;overflow: auto;}#sk-container-id-45 input.sk-toggleable__control:checked~label.sk-toggleable__label-arrow:before {content: \"▾\";}#sk-container-id-45 div.sk-estimator input.sk-toggleable__control:checked~label.sk-toggleable__label {background-color: #d4ebff;}#sk-container-id-45 div.sk-label input.sk-toggleable__control:checked~label.sk-toggleable__label {background-color: #d4ebff;}#sk-container-id-45 input.sk-hidden--visually {border: 0;clip: rect(1px 1px 1px 1px);clip: rect(1px, 1px, 1px, 1px);height: 1px;margin: -1px;overflow: hidden;padding: 0;position: absolute;width: 1px;}#sk-container-id-45 div.sk-estimator {font-family: monospace;background-color: #f0f8ff;border: 1px dotted black;border-radius: 0.25em;box-sizing: border-box;margin-bottom: 0.5em;}#sk-container-id-45 div.sk-estimator:hover {background-color: #d4ebff;}#sk-container-id-45 div.sk-parallel-item::after {content: \"\";width: 100%;border-bottom: 1px solid gray;flex-grow: 1;}#sk-container-id-45 div.sk-label:hover label.sk-toggleable__label {background-color: #d4ebff;}#sk-container-id-45 div.sk-serial::before {content: \"\";position: absolute;border-left: 1px solid gray;box-sizing: border-box;top: 0;bottom: 0;left: 50%;z-index: 0;}#sk-container-id-45 div.sk-serial {display: flex;flex-direction: column;align-items: center;background-color: white;padding-right: 0.2em;padding-left: 0.2em;position: relative;}#sk-container-id-45 div.sk-item {position: relative;z-index: 1;}#sk-container-id-45 div.sk-parallel {display: flex;align-items: stretch;justify-content: center;background-color: white;position: relative;}#sk-container-id-45 div.sk-item::before, #sk-container-id-45 div.sk-parallel-item::before {content: \"\";position: absolute;border-left: 1px solid gray;box-sizing: border-box;top: 0;bottom: 0;left: 50%;z-index: -1;}#sk-container-id-45 div.sk-parallel-item {display: flex;flex-direction: column;z-index: 1;position: relative;background-color: white;}#sk-container-id-45 div.sk-parallel-item:first-child::after {align-self: flex-end;width: 50%;}#sk-container-id-45 div.sk-parallel-item:last-child::after {align-self: flex-start;width: 50%;}#sk-container-id-45 div.sk-parallel-item:only-child::after {width: 0;}#sk-container-id-45 div.sk-dashed-wrapped {border: 1px dashed gray;margin: 0 0.4em 0.5em 0.4em;box-sizing: border-box;padding-bottom: 0.4em;background-color: white;}#sk-container-id-45 div.sk-label label {font-family: monospace;font-weight: bold;display: inline-block;line-height: 1.2em;}#sk-container-id-45 div.sk-label-container {text-align: center;}#sk-container-id-45 div.sk-container {/* jupyter's `normalize.less` sets `[hidden] { display: none; }` but bootstrap.min.css set `[hidden] { display: none !important; }` so we also need the `!important` here to be able to override the default hidden behavior on the sphinx rendered scikit-learn.org. See: https://github.com/scikit-learn/scikit-learn/issues/21755 */display: inline-block !important;position: relative;}#sk-container-id-45 div.sk-text-repr-fallback {display: none;}</style><div id=\"sk-container-id-45\" class=\"sk-top-container\"><div class=\"sk-text-repr-fallback\"><pre>MLPClassifier()</pre><b>In a Jupyter environment, please rerun this cell to show the HTML representation or trust the notebook. <br />On GitHub, the HTML representation is unable to render, please try loading this page with nbviewer.org.</b></div><div class=\"sk-container\" hidden><div class=\"sk-item\"><div class=\"sk-estimator sk-toggleable\"><input class=\"sk-toggleable__control sk-hidden--visually\" id=\"sk-estimator-id-55\" type=\"checkbox\" checked><label for=\"sk-estimator-id-55\" class=\"sk-toggleable__label sk-toggleable__label-arrow\">MLPClassifier</label><div class=\"sk-toggleable__content\"><pre>MLPClassifier()</pre></div></div></div></div></div>"
            ]
          },
          "metadata": {},
          "execution_count": 422
        }
      ],
      "source": [
        "# Multi-layer Perceptron Classifier Model\n",
        "from sklearn.neural_network import MLPClassifier\n",
        "\n",
        "# instantiate the model\n",
        "mlp = MLPClassifier()\n",
        "#mlp = GridSearchCV(mlpc, parameter_space)\n",
        "\n",
        "# fit the model\n",
        "mlp.fit(X_train,y_train)"
      ]
    },
    {
      "cell_type": "code",
      "execution_count": null,
      "id": "2cf7f1af",
      "metadata": {
        "id": "2cf7f1af"
      },
      "outputs": [],
      "source": [
        "#predicting the target value from the model for the samples\n",
        "y_train_mlp = mlp.predict(X_train)\n",
        "y_test_mlp = mlp.predict(X_test)"
      ]
    },
    {
      "cell_type": "code",
      "execution_count": null,
      "id": "d68aa680",
      "metadata": {
        "id": "d68aa680",
        "colab": {
          "base_uri": "https://localhost:8080/"
        },
        "outputId": "d28b5148-370f-4088-cb79-a7444ce88fcb"
      },
      "outputs": [
        {
          "output_type": "stream",
          "name": "stdout",
          "text": [
            "Multi-layer Perceptron : Accuracy on training Data: 0.955\n",
            "Multi-layer Perceptron : Accuracy on test Data: 0.940\n",
            "\n",
            "Multi-layer Perceptron : f1_score on training Data: 0.954\n",
            "Multi-layer Perceptron : f1_score on test Data: 0.954\n",
            "\n",
            "Multi-layer Perceptron : Recall on training Data: 0.954\n",
            "Multi-layer Perceptron : Recall on test Data: 0.939\n",
            "\n",
            "Multi-layer Perceptron : precision on training Data: 0.954\n",
            "Multi-layer Perceptron : precision on test Data: 0.940\n"
          ]
        }
      ],
      "source": [
        "#computing the accuracy, f1_score, Recall, precision of the model performance\n",
        "\n",
        "acc_train_mlp  = metrics.accuracy_score(y_train,y_train_mlp)\n",
        "acc_test_mlp = metrics.accuracy_score(y_test,y_test_mlp)\n",
        "print(\"Multi-layer Perceptron : Accuracy on training Data: {:.3f}\".format(acc_train_mlp))\n",
        "print(\"Multi-layer Perceptron : Accuracy on test Data: {:.3f}\".format(acc_test_mlp))\n",
        "print()\n",
        "\n",
        "f1_score_train_mlp = metrics.f1_score(y_train,y_train_mlp,average='macro')\n",
        "f1_score_test_mlp = metrics.f1_score(y_test,y_test_mlp, average='macro')\n",
        "print(\"Multi-layer Perceptron : f1_score on training Data: {:.3f}\".format(f1_score_train_mlp))\n",
        "print(\"Multi-layer Perceptron : f1_score on test Data: {:.3f}\".format(f1_score_train_mlp))\n",
        "print()\n",
        "\n",
        "recall_score_train_mlp = metrics.recall_score(y_train,y_train_mlp,average='macro')\n",
        "recall_score_test_mlp = metrics.recall_score(y_test,y_test_mlp, average='macro')\n",
        "print(\"Multi-layer Perceptron : Recall on training Data: {:.3f}\".format(recall_score_train_mlp))\n",
        "print(\"Multi-layer Perceptron : Recall on test Data: {:.3f}\".format(recall_score_test_mlp))\n",
        "print()\n",
        "\n",
        "precision_score_train_mlp = metrics.precision_score(y_train,y_train_mlp,average='macro')\n",
        "precision_score_test_mlp = metrics.precision_score(y_test,y_test_mlp, average='macro')\n",
        "print(\"Multi-layer Perceptron : precision on training Data: {:.3f}\".format(precision_score_train_mlp))\n",
        "print(\"Multi-layer Perceptron : precision on test Data: {:.3f}\".format(precision_score_test_mlp))"
      ]
    },
    {
      "cell_type": "code",
      "source": [
        "import time\n",
        "\n",
        "\n",
        "start_time = time.time()\n",
        "mlp.fit(X_train, y_train)\n",
        "training_time = time.time() - start_time\n",
        "\n",
        "# Make predictions on the test set and measure the testing time\n",
        "start_time = time.time()\n",
        "y_pred = mlp.predict(X_test)\n",
        "testing_time = time.time() - start_time\n",
        "\n",
        "# Print the training and testing time\n",
        "print('Training time: {:.3f} seconds'.format(training_time))\n",
        "print('Testing time: {:.3f} seconds'.format(testing_time))"
      ],
      "metadata": {
        "colab": {
          "base_uri": "https://localhost:8080/"
        },
        "id": "Fxi9rqK31qp6",
        "outputId": "f0c0aea5-b71c-4820-ac57-0fb583d84c28"
      },
      "id": "Fxi9rqK31qp6",
      "execution_count": null,
      "outputs": [
        {
          "output_type": "stream",
          "name": "stdout",
          "text": [
            "Training time: 12.372 seconds\n",
            "Testing time: 0.004 seconds\n"
          ]
        }
      ]
    },
    {
      "cell_type": "code",
      "execution_count": null,
      "id": "8983b248",
      "metadata": {
        "id": "8983b248"
      },
      "outputs": [],
      "source": [
        "#storing the results. The below mentioned order of parameter passing is important.\n",
        "\n",
        "storeResults('Multi-layer Perceptron',acc_test_mlp,f1_score_test_mlp,\n",
        "             recall_score_train_mlp,precision_score_train_mlp)"
      ]
    },
    {
      "cell_type": "markdown",
      "id": "2cef57ca",
      "metadata": {
        "id": "2cef57ca"
      },
      "source": [
        "## 7. Comparision of Models\n",
        "To compare the models performance, a dataframe is created. The columns of this dataframe are the lists created to store the results of the model."
      ]
    },
    {
      "cell_type": "code",
      "execution_count": null,
      "id": "bcddf7ae",
      "metadata": {
        "id": "bcddf7ae"
      },
      "outputs": [],
      "source": [
        "#creating dataframe\n",
        "result = pd.DataFrame({ 'ML Model' : ML_Model,\n",
        "                        'Accuracy' : accuracy,\n",
        "                        'f1_score' : f1_score,\n",
        "                        'Recall'   : recall,\n",
        "                        'Precision': precision,\n",
        "                        # 'Training Time':training_time,\n",
        "                        # 'Testing Time':testing_time,\n",
        "                      })\n"
      ]
    },
    {
      "cell_type": "code",
      "execution_count": null,
      "id": "6851e518",
      "metadata": {
        "id": "6851e518",
        "colab": {
          "base_uri": "https://localhost:8080/",
          "height": 331
        },
        "outputId": "5fc24ae3-d012-40bb-ba2f-cdd1ff35e171"
      },
      "outputs": [
        {
          "output_type": "execute_result",
          "data": {
            "text/plain": [
              "                       ML Model  Accuracy  f1_score  Recall  Precision\n",
              "0           Logistic Regression     0.918     0.916   0.920      0.923\n",
              "1           K-Nearest Neighbors     0.938     0.937   0.961      0.961\n",
              "2        Support Vector Machine     0.939     0.938   0.943      0.946\n",
              "3        Naive Bayes Classifier     0.591     0.555   0.636      0.762\n",
              "4                 Decision Tree     0.944     0.943   0.969      0.970\n",
              "5                 Random Forest     0.947     0.946   0.968      0.969\n",
              "6  Gradient Boosting Classifier     0.952     0.951   0.965      0.967\n",
              "7            XGBoost Classifier     0.947     0.946   0.968      0.962\n",
              "8        Multi-layer Perceptron     0.940     0.939   0.954      0.954"
            ],
            "text/html": [
              "\n",
              "  <div id=\"df-acf9cab5-d08a-4a2a-88b1-1c219869e9d2\">\n",
              "    <div class=\"colab-df-container\">\n",
              "      <div>\n",
              "<style scoped>\n",
              "    .dataframe tbody tr th:only-of-type {\n",
              "        vertical-align: middle;\n",
              "    }\n",
              "\n",
              "    .dataframe tbody tr th {\n",
              "        vertical-align: top;\n",
              "    }\n",
              "\n",
              "    .dataframe thead th {\n",
              "        text-align: right;\n",
              "    }\n",
              "</style>\n",
              "<table border=\"1\" class=\"dataframe\">\n",
              "  <thead>\n",
              "    <tr style=\"text-align: right;\">\n",
              "      <th></th>\n",
              "      <th>ML Model</th>\n",
              "      <th>Accuracy</th>\n",
              "      <th>f1_score</th>\n",
              "      <th>Recall</th>\n",
              "      <th>Precision</th>\n",
              "    </tr>\n",
              "  </thead>\n",
              "  <tbody>\n",
              "    <tr>\n",
              "      <th>0</th>\n",
              "      <td>Logistic Regression</td>\n",
              "      <td>0.918</td>\n",
              "      <td>0.916</td>\n",
              "      <td>0.920</td>\n",
              "      <td>0.923</td>\n",
              "    </tr>\n",
              "    <tr>\n",
              "      <th>1</th>\n",
              "      <td>K-Nearest Neighbors</td>\n",
              "      <td>0.938</td>\n",
              "      <td>0.937</td>\n",
              "      <td>0.961</td>\n",
              "      <td>0.961</td>\n",
              "    </tr>\n",
              "    <tr>\n",
              "      <th>2</th>\n",
              "      <td>Support Vector Machine</td>\n",
              "      <td>0.939</td>\n",
              "      <td>0.938</td>\n",
              "      <td>0.943</td>\n",
              "      <td>0.946</td>\n",
              "    </tr>\n",
              "    <tr>\n",
              "      <th>3</th>\n",
              "      <td>Naive Bayes Classifier</td>\n",
              "      <td>0.591</td>\n",
              "      <td>0.555</td>\n",
              "      <td>0.636</td>\n",
              "      <td>0.762</td>\n",
              "    </tr>\n",
              "    <tr>\n",
              "      <th>4</th>\n",
              "      <td>Decision Tree</td>\n",
              "      <td>0.944</td>\n",
              "      <td>0.943</td>\n",
              "      <td>0.969</td>\n",
              "      <td>0.970</td>\n",
              "    </tr>\n",
              "    <tr>\n",
              "      <th>5</th>\n",
              "      <td>Random Forest</td>\n",
              "      <td>0.947</td>\n",
              "      <td>0.946</td>\n",
              "      <td>0.968</td>\n",
              "      <td>0.969</td>\n",
              "    </tr>\n",
              "    <tr>\n",
              "      <th>6</th>\n",
              "      <td>Gradient Boosting Classifier</td>\n",
              "      <td>0.952</td>\n",
              "      <td>0.951</td>\n",
              "      <td>0.965</td>\n",
              "      <td>0.967</td>\n",
              "    </tr>\n",
              "    <tr>\n",
              "      <th>7</th>\n",
              "      <td>XGBoost Classifier</td>\n",
              "      <td>0.947</td>\n",
              "      <td>0.946</td>\n",
              "      <td>0.968</td>\n",
              "      <td>0.962</td>\n",
              "    </tr>\n",
              "    <tr>\n",
              "      <th>8</th>\n",
              "      <td>Multi-layer Perceptron</td>\n",
              "      <td>0.940</td>\n",
              "      <td>0.939</td>\n",
              "      <td>0.954</td>\n",
              "      <td>0.954</td>\n",
              "    </tr>\n",
              "  </tbody>\n",
              "</table>\n",
              "</div>\n",
              "      <button class=\"colab-df-convert\" onclick=\"convertToInteractive('df-acf9cab5-d08a-4a2a-88b1-1c219869e9d2')\"\n",
              "              title=\"Convert this dataframe to an interactive table.\"\n",
              "              style=\"display:none;\">\n",
              "        \n",
              "  <svg xmlns=\"http://www.w3.org/2000/svg\" height=\"24px\"viewBox=\"0 0 24 24\"\n",
              "       width=\"24px\">\n",
              "    <path d=\"M0 0h24v24H0V0z\" fill=\"none\"/>\n",
              "    <path d=\"M18.56 5.44l.94 2.06.94-2.06 2.06-.94-2.06-.94-.94-2.06-.94 2.06-2.06.94zm-11 1L8.5 8.5l.94-2.06 2.06-.94-2.06-.94L8.5 2.5l-.94 2.06-2.06.94zm10 10l.94 2.06.94-2.06 2.06-.94-2.06-.94-.94-2.06-.94 2.06-2.06.94z\"/><path d=\"M17.41 7.96l-1.37-1.37c-.4-.4-.92-.59-1.43-.59-.52 0-1.04.2-1.43.59L10.3 9.45l-7.72 7.72c-.78.78-.78 2.05 0 2.83L4 21.41c.39.39.9.59 1.41.59.51 0 1.02-.2 1.41-.59l7.78-7.78 2.81-2.81c.8-.78.8-2.07 0-2.86zM5.41 20L4 18.59l7.72-7.72 1.47 1.35L5.41 20z\"/>\n",
              "  </svg>\n",
              "      </button>\n",
              "      \n",
              "  <style>\n",
              "    .colab-df-container {\n",
              "      display:flex;\n",
              "      flex-wrap:wrap;\n",
              "      gap: 12px;\n",
              "    }\n",
              "\n",
              "    .colab-df-convert {\n",
              "      background-color: #E8F0FE;\n",
              "      border: none;\n",
              "      border-radius: 50%;\n",
              "      cursor: pointer;\n",
              "      display: none;\n",
              "      fill: #1967D2;\n",
              "      height: 32px;\n",
              "      padding: 0 0 0 0;\n",
              "      width: 32px;\n",
              "    }\n",
              "\n",
              "    .colab-df-convert:hover {\n",
              "      background-color: #E2EBFA;\n",
              "      box-shadow: 0px 1px 2px rgba(60, 64, 67, 0.3), 0px 1px 3px 1px rgba(60, 64, 67, 0.15);\n",
              "      fill: #174EA6;\n",
              "    }\n",
              "\n",
              "    [theme=dark] .colab-df-convert {\n",
              "      background-color: #3B4455;\n",
              "      fill: #D2E3FC;\n",
              "    }\n",
              "\n",
              "    [theme=dark] .colab-df-convert:hover {\n",
              "      background-color: #434B5C;\n",
              "      box-shadow: 0px 1px 3px 1px rgba(0, 0, 0, 0.15);\n",
              "      filter: drop-shadow(0px 1px 2px rgba(0, 0, 0, 0.3));\n",
              "      fill: #FFFFFF;\n",
              "    }\n",
              "  </style>\n",
              "\n",
              "      <script>\n",
              "        const buttonEl =\n",
              "          document.querySelector('#df-acf9cab5-d08a-4a2a-88b1-1c219869e9d2 button.colab-df-convert');\n",
              "        buttonEl.style.display =\n",
              "          google.colab.kernel.accessAllowed ? 'block' : 'none';\n",
              "\n",
              "        async function convertToInteractive(key) {\n",
              "          const element = document.querySelector('#df-acf9cab5-d08a-4a2a-88b1-1c219869e9d2');\n",
              "          const dataTable =\n",
              "            await google.colab.kernel.invokeFunction('convertToInteractive',\n",
              "                                                     [key], {});\n",
              "          if (!dataTable) return;\n",
              "\n",
              "          const docLinkHtml = 'Like what you see? Visit the ' +\n",
              "            '<a target=\"_blank\" href=https://colab.research.google.com/notebooks/data_table.ipynb>data table notebook</a>'\n",
              "            + ' to learn more about interactive tables.';\n",
              "          element.innerHTML = '';\n",
              "          dataTable['output_type'] = 'display_data';\n",
              "          await google.colab.output.renderOutput(dataTable, element);\n",
              "          const docLink = document.createElement('div');\n",
              "          docLink.innerHTML = docLinkHtml;\n",
              "          element.appendChild(docLink);\n",
              "        }\n",
              "      </script>\n",
              "    </div>\n",
              "  </div>\n",
              "  "
            ]
          },
          "metadata": {},
          "execution_count": 428
        }
      ],
      "source": [
        "# dispalying total result\n",
        "result"
      ]
    },
    {
      "cell_type": "code",
      "execution_count": null,
      "id": "b5ec314b",
      "metadata": {
        "id": "b5ec314b"
      },
      "outputs": [],
      "source": [
        "#Sorting the datafram on accuracy\n",
        "sorted_result=result.sort_values(by=['Accuracy', 'f1_score'],ascending=False).reset_index(drop=True)"
      ]
    },
    {
      "cell_type": "code",
      "execution_count": null,
      "id": "bf364ad6",
      "metadata": {
        "id": "bf364ad6",
        "colab": {
          "base_uri": "https://localhost:8080/",
          "height": 331
        },
        "outputId": "53890305-0733-4298-91c9-6ffde761446d"
      },
      "outputs": [
        {
          "output_type": "execute_result",
          "data": {
            "text/plain": [
              "                       ML Model  Accuracy  f1_score  Recall  Precision\n",
              "0  Gradient Boosting Classifier     0.952     0.951   0.965      0.967\n",
              "1                 Random Forest     0.947     0.946   0.968      0.969\n",
              "2            XGBoost Classifier     0.947     0.946   0.968      0.962\n",
              "3                 Decision Tree     0.944     0.943   0.969      0.970\n",
              "4        Multi-layer Perceptron     0.940     0.939   0.954      0.954\n",
              "5        Support Vector Machine     0.939     0.938   0.943      0.946\n",
              "6           K-Nearest Neighbors     0.938     0.937   0.961      0.961\n",
              "7           Logistic Regression     0.918     0.916   0.920      0.923\n",
              "8        Naive Bayes Classifier     0.591     0.555   0.636      0.762"
            ],
            "text/html": [
              "\n",
              "  <div id=\"df-5cc9b65d-24a6-4ea0-b40a-20f14e33abd4\">\n",
              "    <div class=\"colab-df-container\">\n",
              "      <div>\n",
              "<style scoped>\n",
              "    .dataframe tbody tr th:only-of-type {\n",
              "        vertical-align: middle;\n",
              "    }\n",
              "\n",
              "    .dataframe tbody tr th {\n",
              "        vertical-align: top;\n",
              "    }\n",
              "\n",
              "    .dataframe thead th {\n",
              "        text-align: right;\n",
              "    }\n",
              "</style>\n",
              "<table border=\"1\" class=\"dataframe\">\n",
              "  <thead>\n",
              "    <tr style=\"text-align: right;\">\n",
              "      <th></th>\n",
              "      <th>ML Model</th>\n",
              "      <th>Accuracy</th>\n",
              "      <th>f1_score</th>\n",
              "      <th>Recall</th>\n",
              "      <th>Precision</th>\n",
              "    </tr>\n",
              "  </thead>\n",
              "  <tbody>\n",
              "    <tr>\n",
              "      <th>0</th>\n",
              "      <td>Gradient Boosting Classifier</td>\n",
              "      <td>0.952</td>\n",
              "      <td>0.951</td>\n",
              "      <td>0.965</td>\n",
              "      <td>0.967</td>\n",
              "    </tr>\n",
              "    <tr>\n",
              "      <th>1</th>\n",
              "      <td>Random Forest</td>\n",
              "      <td>0.947</td>\n",
              "      <td>0.946</td>\n",
              "      <td>0.968</td>\n",
              "      <td>0.969</td>\n",
              "    </tr>\n",
              "    <tr>\n",
              "      <th>2</th>\n",
              "      <td>XGBoost Classifier</td>\n",
              "      <td>0.947</td>\n",
              "      <td>0.946</td>\n",
              "      <td>0.968</td>\n",
              "      <td>0.962</td>\n",
              "    </tr>\n",
              "    <tr>\n",
              "      <th>3</th>\n",
              "      <td>Decision Tree</td>\n",
              "      <td>0.944</td>\n",
              "      <td>0.943</td>\n",
              "      <td>0.969</td>\n",
              "      <td>0.970</td>\n",
              "    </tr>\n",
              "    <tr>\n",
              "      <th>4</th>\n",
              "      <td>Multi-layer Perceptron</td>\n",
              "      <td>0.940</td>\n",
              "      <td>0.939</td>\n",
              "      <td>0.954</td>\n",
              "      <td>0.954</td>\n",
              "    </tr>\n",
              "    <tr>\n",
              "      <th>5</th>\n",
              "      <td>Support Vector Machine</td>\n",
              "      <td>0.939</td>\n",
              "      <td>0.938</td>\n",
              "      <td>0.943</td>\n",
              "      <td>0.946</td>\n",
              "    </tr>\n",
              "    <tr>\n",
              "      <th>6</th>\n",
              "      <td>K-Nearest Neighbors</td>\n",
              "      <td>0.938</td>\n",
              "      <td>0.937</td>\n",
              "      <td>0.961</td>\n",
              "      <td>0.961</td>\n",
              "    </tr>\n",
              "    <tr>\n",
              "      <th>7</th>\n",
              "      <td>Logistic Regression</td>\n",
              "      <td>0.918</td>\n",
              "      <td>0.916</td>\n",
              "      <td>0.920</td>\n",
              "      <td>0.923</td>\n",
              "    </tr>\n",
              "    <tr>\n",
              "      <th>8</th>\n",
              "      <td>Naive Bayes Classifier</td>\n",
              "      <td>0.591</td>\n",
              "      <td>0.555</td>\n",
              "      <td>0.636</td>\n",
              "      <td>0.762</td>\n",
              "    </tr>\n",
              "  </tbody>\n",
              "</table>\n",
              "</div>\n",
              "      <button class=\"colab-df-convert\" onclick=\"convertToInteractive('df-5cc9b65d-24a6-4ea0-b40a-20f14e33abd4')\"\n",
              "              title=\"Convert this dataframe to an interactive table.\"\n",
              "              style=\"display:none;\">\n",
              "        \n",
              "  <svg xmlns=\"http://www.w3.org/2000/svg\" height=\"24px\"viewBox=\"0 0 24 24\"\n",
              "       width=\"24px\">\n",
              "    <path d=\"M0 0h24v24H0V0z\" fill=\"none\"/>\n",
              "    <path d=\"M18.56 5.44l.94 2.06.94-2.06 2.06-.94-2.06-.94-.94-2.06-.94 2.06-2.06.94zm-11 1L8.5 8.5l.94-2.06 2.06-.94-2.06-.94L8.5 2.5l-.94 2.06-2.06.94zm10 10l.94 2.06.94-2.06 2.06-.94-2.06-.94-.94-2.06-.94 2.06-2.06.94z\"/><path d=\"M17.41 7.96l-1.37-1.37c-.4-.4-.92-.59-1.43-.59-.52 0-1.04.2-1.43.59L10.3 9.45l-7.72 7.72c-.78.78-.78 2.05 0 2.83L4 21.41c.39.39.9.59 1.41.59.51 0 1.02-.2 1.41-.59l7.78-7.78 2.81-2.81c.8-.78.8-2.07 0-2.86zM5.41 20L4 18.59l7.72-7.72 1.47 1.35L5.41 20z\"/>\n",
              "  </svg>\n",
              "      </button>\n",
              "      \n",
              "  <style>\n",
              "    .colab-df-container {\n",
              "      display:flex;\n",
              "      flex-wrap:wrap;\n",
              "      gap: 12px;\n",
              "    }\n",
              "\n",
              "    .colab-df-convert {\n",
              "      background-color: #E8F0FE;\n",
              "      border: none;\n",
              "      border-radius: 50%;\n",
              "      cursor: pointer;\n",
              "      display: none;\n",
              "      fill: #1967D2;\n",
              "      height: 32px;\n",
              "      padding: 0 0 0 0;\n",
              "      width: 32px;\n",
              "    }\n",
              "\n",
              "    .colab-df-convert:hover {\n",
              "      background-color: #E2EBFA;\n",
              "      box-shadow: 0px 1px 2px rgba(60, 64, 67, 0.3), 0px 1px 3px 1px rgba(60, 64, 67, 0.15);\n",
              "      fill: #174EA6;\n",
              "    }\n",
              "\n",
              "    [theme=dark] .colab-df-convert {\n",
              "      background-color: #3B4455;\n",
              "      fill: #D2E3FC;\n",
              "    }\n",
              "\n",
              "    [theme=dark] .colab-df-convert:hover {\n",
              "      background-color: #434B5C;\n",
              "      box-shadow: 0px 1px 3px 1px rgba(0, 0, 0, 0.15);\n",
              "      filter: drop-shadow(0px 1px 2px rgba(0, 0, 0, 0.3));\n",
              "      fill: #FFFFFF;\n",
              "    }\n",
              "  </style>\n",
              "\n",
              "      <script>\n",
              "        const buttonEl =\n",
              "          document.querySelector('#df-5cc9b65d-24a6-4ea0-b40a-20f14e33abd4 button.colab-df-convert');\n",
              "        buttonEl.style.display =\n",
              "          google.colab.kernel.accessAllowed ? 'block' : 'none';\n",
              "\n",
              "        async function convertToInteractive(key) {\n",
              "          const element = document.querySelector('#df-5cc9b65d-24a6-4ea0-b40a-20f14e33abd4');\n",
              "          const dataTable =\n",
              "            await google.colab.kernel.invokeFunction('convertToInteractive',\n",
              "                                                     [key], {});\n",
              "          if (!dataTable) return;\n",
              "\n",
              "          const docLinkHtml = 'Like what you see? Visit the ' +\n",
              "            '<a target=\"_blank\" href=https://colab.research.google.com/notebooks/data_table.ipynb>data table notebook</a>'\n",
              "            + ' to learn more about interactive tables.';\n",
              "          element.innerHTML = '';\n",
              "          dataTable['output_type'] = 'display_data';\n",
              "          await google.colab.output.renderOutput(dataTable, element);\n",
              "          const docLink = document.createElement('div');\n",
              "          docLink.innerHTML = docLinkHtml;\n",
              "          element.appendChild(docLink);\n",
              "        }\n",
              "      </script>\n",
              "    </div>\n",
              "  </div>\n",
              "  "
            ]
          },
          "metadata": {},
          "execution_count": 430
        }
      ],
      "source": [
        "# dispalying total result\n",
        "sorted_result\n"
      ]
    },
    {
      "cell_type": "code",
      "source": [
        "import matplotlib.pyplot as plt\n",
        "\n",
        "# Create a list of model names\n",
        "model_names = [\"Gradient Boosting Classifier\", \"Random Forest\", \"Decision Tree\", \"SVM\",\"KNN\",\"Logistic Regression\",\"Naive Bayes Classifier\",\"XGBoost\",\"Multi-layer Preception\"]\n",
        "# Create a bar chart of the results for each metric\n",
        "# fig, axs = plt.subplots(2, 2, figsize=(12, 8))\n",
        "fig, axs = plt.subplots(2, 2, figsize=(30, 15))\n",
        "\n",
        "axs[0, 0].bar(model_names, sorted_result['Accuracy'])\n",
        "axs[0, 0].set_title(\"Accuracy\")\n",
        "axs[0, 1].bar(model_names, sorted_result['Precision'])\n",
        "axs[0, 1].set_title(\"Precision\")\n",
        "axs[1, 0].bar(model_names, sorted_result['Recall'])\n",
        "axs[1, 0].set_title(\"Recall\")\n",
        "axs[1, 1].bar(model_names, sorted_result['f1_score'])\n",
        "axs[1, 1].set_title(\"F1 Score\")\n",
        "\n",
        "# Set the overall title\n",
        "fig.suptitle(\"Model Comparison\")\n",
        "\n",
        "\n",
        "plt.xticks(fontsize=10)\n",
        "\n",
        "\n",
        "for ax in axs.flat:\n",
        "    ax.set_xticklabels(ax.get_xticklabels(), rotation=90)\n",
        "\n",
        "# Increase the gap between subplots\n",
        "plt.subplots_adjust(wspace=0.7, hspace=0.6)\n",
        "\n",
        "\n",
        "plt.show()"
      ],
      "metadata": {
        "id": "Nr4ObjC0tpoL",
        "colab": {
          "base_uri": "https://localhost:8080/",
          "height": 733
        },
        "outputId": "5de6628b-b40c-4d83-8b46-99aef1b3c075"
      },
      "id": "Nr4ObjC0tpoL",
      "execution_count": null,
      "outputs": [
        {
          "output_type": "display_data",
          "data": {
            "text/plain": [
              "<Figure size 3000x1500 with 4 Axes>"
            ],
            "image/png": "[encoded data removed]"
          },
          "metadata": {}
        }
      ]
    },
    {
      "cell_type": "code",
      "source": [
        "import matplotlib.pyplot as plt\n",
        "from sklearn.metrics import roc_curve,roc_auc_score\n",
        "\n",
        "# Get the predicted probabilities for the test set\n",
        "y_prob = knn.predict_proba(X_test)[:, 1]\n",
        "\n",
        "# Compute the ROC curve and AUC score\n",
        "fpr, tpr, thresholds = roc_curve(y_test, y_prob)\n",
        "auc_score = roc_auc_score(y_test, y_prob)\n",
        "\n",
        "# Plot the ROC curve\n",
        "plt.plot(fpr, tpr, label='ROC Curve (AUC = {:.2f})'.format(auc_score))\n",
        "plt.plot([0, 1], [0, 1], 'k--', label='Random Guess')\n",
        "plt.xlabel('False Positive Rate (1-Specificity)')\n",
        "plt.ylabel('True Positive Rate (Sensitivity)')\n",
        "plt.title('Receiver Operating Characteristic (ROC) Curve')\n",
        "plt.legend()\n",
        "plt.show()\n"
      ],
      "metadata": {
        "id": "q6JMBn6glCJJ",
        "colab": {
          "base_uri": "https://localhost:8080/",
          "height": 472
        },
        "outputId": "a29901c2-ae98-4c17-9ee5-c9fb479b9073"
      },
      "id": "q6JMBn6glCJJ",
      "execution_count": null,
      "outputs": [
        {
          "output_type": "display_data",
          "data": {
            "text/plain": [
              "<Figure size 640x480 with 1 Axes>"
            ],
            "image/png": "[encoded data removed]"
          },
          "metadata": {}
        }
      ]
    },
    {
      "cell_type": "code",
      "source": [
        "from sklearn.metrics import confusion_matrix, roc_auc_score, precision_score, recall_score, f1_score\n",
        "\n",
        "# Make predictions on the test set\n",
        "y_pred = knn.predict(X_test)\n",
        "# Compute the confusion matrix\n",
        "# conf_mat = confusion_matrix(y_test, y_pred)\n",
        "\n",
        "# # Extract the values\n",
        "# tn = conf_mat[0, 0]\n",
        "# fp = conf_mat[0, 1]\n",
        "# fn = conf_mat[1, 0]\n",
        "# tp = conf_mat[1, 1]\n",
        "# # Compute the confusion matrix\n",
        "# tn, fp, fn, tp = confusion_matrix(y_test, y_pred).ravel()\n",
        "# Compute the confusion matrix and unpack it\n",
        "# Compute the confusion matrix\n",
        "conf_mat = confusion_matrix(y_test, y_pred)\n",
        "\n",
        "# Extract the values\n",
        "tn = conf_mat[0, 0]\n",
        "fp = conf_mat[0, 1]\n",
        "fn = conf_mat[1, 0]\n",
        "tp = conf_mat[1, 1]\n",
        "\n",
        "\n",
        "\n",
        "\n",
        "# Compute the evaluation metrics\n",
        "accuracy = (tp + tn) / (tp + tn + fp + fn)\n",
        "precision = tp / (tp + fp)\n",
        "recall = tp / (tp + fn)\n",
        "f1 = f1_score(y_test, y_pred,average='macro')\n",
        "auc = roc_auc_score(y_test, y_pred,average='macro')\n",
        "\n",
        "# Print the evaluation metrics\n",
        "print('Confusion matrix:')\n",
        "print(' TN  FP ')\n",
        "print(' FN  TP ')\n",
        "print(tn, fp)\n",
        "print(fn, tp)"
      ],
      "metadata": {
        "id": "7_fOQtzXmHV_",
        "colab": {
          "base_uri": "https://localhost:8080/"
        },
        "outputId": "f2c34cd1-61d4-434e-9c60-741ad5ccf024"
      },
      "id": "7_fOQtzXmHV_",
      "execution_count": null,
      "outputs": [
        {
          "output_type": "stream",
          "name": "stdout",
          "text": [
            "Confusion matrix:\n",
            " TN  FP \n",
            " FN  TP \n",
            "0 0\n",
            "924 0\n"
          ]
        }
      ]
    },
    {
      "cell_type": "code",
      "source": [
        "from sklearn.metrics import confusion_matrix, roc_auc_score, precision_score, recall_score, f1_score\n",
        "\n",
        "# Make predictions on the test set\n",
        "y_pred = log.predict(X_test)\n",
        "# Compute the confusion matrix\n",
        "# conf_mat = confusion_matrix(y_test, y_pred)\n",
        "\n",
        "# # Extract the values\n",
        "# tn = conf_mat[0, 0]\n",
        "# fp = conf_mat[0, 1]\n",
        "# fn = conf_mat[1, 0]\n",
        "# tp = conf_mat[1, 1]\n",
        "# # Compute the confusion matrix\n",
        "# tn, fp, fn, tp = confusion_matrix(y_test, y_pred).ravel()\n",
        "# Compute the confusion matrix and unpack it\n",
        "# Compute the confusion matrix\n",
        "conf_mat = confusion_matrix(y_test, y_pred)\n",
        "\n",
        "# Extract the values\n",
        "tn = conf_mat[0, 0]\n",
        "fp = conf_mat[0, 1]\n",
        "fn = conf_mat[1, 0]\n",
        "tp = conf_mat[1, 1]\n",
        "\n",
        "\n",
        "\n",
        "\n",
        "# Compute the evaluation metrics\n",
        "accuracy = (tp + tn) / (tp + tn + fp + fn)\n",
        "precision = tp / (tp + fp)\n",
        "recall = tp / (tp + fn)\n",
        "f1 = f1_score(y_test, y_pred,average='macro')\n",
        "auc = roc_auc_score(y_test, y_pred,average='macro')\n",
        "\n",
        "# Print the evaluation metrics\n",
        "print('Confusion matrix:')\n",
        "print(' TN  FP ')\n",
        "print(' FN  TP ')\n",
        "print(tn, fp)\n",
        "print(fn, tp)"
      ],
      "metadata": {
        "colab": {
          "base_uri": "https://localhost:8080/"
        },
        "id": "NskCSd8C2CG6",
        "outputId": "baa49c10-1440-454f-c18b-aee65e02e2d0"
      },
      "id": "NskCSd8C2CG6",
      "execution_count": null,
      "outputs": [
        {
          "output_type": "stream",
          "name": "stdout",
          "text": [
            "Confusion matrix:\n",
            " TN  FP \n",
            " FN  TP \n",
            "0 0\n",
            "406 0\n"
          ]
        }
      ]
    },
    {
      "cell_type": "code",
      "source": [
        "from sklearn.metrics import confusion_matrix, roc_auc_score, precision_score, recall_score, f1_score\n",
        "\n",
        "# Make predictions on the test set\n",
        "y_pred = gbc.predict(X_test)\n",
        "# Compute the confusion matrix\n",
        "# conf_mat = confusion_matrix(y_test, y_pred)\n",
        "\n",
        "# # Extract the values\n",
        "# tn = conf_mat[0, 0]\n",
        "# fp = conf_mat[0, 1]\n",
        "# fn = conf_mat[1, 0]\n",
        "# tp = conf_mat[1, 1]\n",
        "# # Compute the confusion matrix\n",
        "# tn, fp, fn, tp = confusion_matrix(y_test, y_pred).ravel()\n",
        "# Compute the confusion matrix and unpack it\n",
        "# Compute the confusion matrix\n",
        "conf_mat = confusion_matrix(y_test, y_pred)\n",
        "\n",
        "# Extract the values\n",
        "tn = conf_mat[0, 0]\n",
        "fp = conf_mat[0, 1]\n",
        "fn = conf_mat[1, 0]\n",
        "tp = conf_mat[1, 1]\n",
        "\n",
        "\n",
        "\n",
        "\n",
        "# Compute the evaluation metrics\n",
        "accuracy = (tp + tn) / (tp + tn + fp + fn)\n",
        "precision = tp / (tp + fp)\n",
        "recall = tp / (tp + fn)\n",
        "f1 = f1_score(y_test, y_pred,average='macro')\n",
        "auc = roc_auc_score(y_test, y_pred,average='macro')\n",
        "\n",
        "# Print the evaluation metrics\n",
        "print('Confusion matrix:')\n",
        "print(' TN  FP ')\n",
        "print(' FN  TP ')\n",
        "print(tn, fp)\n",
        "print(fn, tp)"
      ],
      "metadata": {
        "id": "O3PUJDQFmjtH",
        "colab": {
          "base_uri": "https://localhost:8080/"
        },
        "outputId": "132ed5cf-27e2-400b-f116-4b84d530bc4d"
      },
      "id": "O3PUJDQFmjtH",
      "execution_count": null,
      "outputs": [
        {
          "output_type": "stream",
          "name": "stdout",
          "text": [
            "Confusion matrix:\n",
            " TN  FP \n",
            " FN  TP \n",
            "0 0\n",
            "931 0\n"
          ]
        }
      ]
    },
    {
      "cell_type": "code",
      "source": [
        "from sklearn.ensemble import VotingClassifier\n",
        "from sklearn.metrics import confusion_matrix\n",
        "\n",
        "# Define the individual models\n",
        "model1 = LogisticRegression()\n",
        "model2 = KNeighborsClassifier()\n",
        "model3 = SVC()\n",
        "model4 = GaussianNB()\n",
        "model5 = DecisionTreeClassifier()\n",
        "model6 = RandomForestClassifier()\n",
        "model7 = GradientBoostingClassifier()\n",
        "model8 = XGBClassifier()\n",
        "model9 = MLPClassifier()\n",
        "\n",
        "# Define the combined model\n",
        "voting_clf = VotingClassifier(estimators=[\n",
        "    ('lr', model1),\n",
        "    ('knn', model2),\n",
        "    ('svm', model3),\n",
        "    ('nb', model4),\n",
        "    ('dt', model5),\n",
        "    ('rf', model6),\n",
        "    ('gb', model7),\n",
        "    ('xgb', model8),\n",
        "    ('mlp', model9)], voting='hard')\n",
        "\n",
        "# Train the combined model on the selected features\n",
        "voting_clf.fit(X_train, y_train)\n",
        "\n",
        "# Evaluate the performance of the model on the test set\n",
        "y_pred = voting_clf.predict(X_test)\n",
        "\n",
        "# Compute the confusion matrix\n",
        "conf_matrix = confusion_matrix(y_test, y_pred)\n",
        "print(\"Confusion Matrix:\\n\", conf_matrix)"
      ],
      "metadata": {
        "id": "mjX5W8gmnFLR",
        "colab": {
          "base_uri": "https://localhost:8080/"
        },
        "outputId": "90ba2bab-cbd1-42c8-b806-4ad381981353"
      },
      "id": "mjX5W8gmnFLR",
      "execution_count": null,
      "outputs": [
        {
          "output_type": "stream",
          "name": "stdout",
          "text": [
            "Confusion Matrix:\n",
            " [[1350  105]\n",
            " [  76 1786]]\n"
          ]
        }
      ]
    },
    {
      "cell_type": "code",
      "source": [
        "from sklearn.metrics import matthews_corrcoef\n",
        "\n",
        "\n",
        "log_preds = log.predict(X_test)\n",
        "knn_preds = knn.predict(X_test)\n",
        "tree_preds = tree.predict(X_test)\n",
        "forest_preds = forest.predict(X_test)\n",
        "svc_preds = svc.predict(X_test)\n",
        "gbc_preds = gbc.predict(X_test)\n",
        "xgb_preds = xgb.predict(X_test)\n",
        "mlp_preds = mlp.predict(X_test)\n",
        "\n",
        "# Combine the predictions into an array\n",
        "all_preds = np.array([forest_preds, svc_preds, gbc_preds, xgb_preds, mlp_preds,log_preds,knn_preds,tree_preds])\n",
        "\n",
        "# Compute the average prediction for each sample\n",
        "combined_preds = np.mean(all_preds, axis=0) > 0.5\n",
        "# Calculate MCC\n",
        "mcc = matthews_corrcoef(y_test, combined_preds)\n",
        "print(\"MCC: \", mcc)\n"
      ],
      "metadata": {
        "id": "ppJekNysozX3",
        "colab": {
          "base_uri": "https://localhost:8080/"
        },
        "outputId": "6df6a343-cb3d-4785-cf24-b5604efe3cbd"
      },
      "id": "ppJekNysozX3",
      "execution_count": null,
      "outputs": [
        {
          "output_type": "stream",
          "name": "stdout",
          "text": [
            "MCC:  0.060752080878773256\n"
          ]
        }
      ]
    },
    {
      "cell_type": "code",
      "source": [
        "from sklearn.metrics import matthews_corrcoef\n",
        "import matplotlib.pyplot as plt\n",
        "\n",
        "models = [LogisticRegression(), KNeighborsClassifier(), SVC(), GaussianNB(), DecisionTreeClassifier(),          RandomForestClassifier(), GradientBoostingClassifier(), XGBClassifier()]\n",
        "model_names = ['Logistic Regression', 'KNN', 'SVC', 'Naive Bayes', 'Decision Tree', 'Random Forest',               'Gradient Boosting', 'XGBoost']\n",
        "\n",
        "train_mccs = []\n",
        "test_mccs = []\n",
        "\n",
        "for model in models:\n",
        "    model.fit(X_train, y_train)\n",
        "    train_preds = model.predict(X_train)\n",
        "    test_preds = model.predict(X_test)\n",
        "    train_mcc = matthews_corrcoef(y_train, train_preds)\n",
        "    test_mcc = matthews_corrcoef(y_test, test_preds)\n",
        "    train_mccs.append(train_mcc)\n",
        "    test_mccs.append(test_mcc)\n",
        "\n",
        "plt.bar(model_names, train_mccs, label='Train MCC')\n",
        "plt.bar(model_names, test_mccs, label='Test MCC')\n",
        "plt.legend()\n",
        "plt.xticks(rotation=90)\n",
        "plt.show()\n",
        "\n",
        "\n"
      ],
      "metadata": {
        "colab": {
          "base_uri": "https://localhost:8080/",
          "height": 549
        },
        "id": "4APa_vpkLGHa",
        "outputId": "1d007d4e-8ae6-45ab-b595-a596c4d8ff0f"
      },
      "id": "4APa_vpkLGHa",
      "execution_count": null,
      "outputs": [
        {
          "output_type": "display_data",
          "data": {
            "text/plain": [
              "<Figure size 640x480 with 1 Axes>"
            ],
            "image/png": "[encoded data removed]"
          },
          "metadata": {}
        }
      ]
    },
    {
      "cell_type": "code",
      "source": [
        "import pandas as pd\n",
        "from sklearn.linear_model import LogisticRegression\n",
        "from sklearn.neighbors import KNeighborsClassifier\n",
        "from sklearn.svm import SVC\n",
        "from sklearn.naive_bayes import GaussianNB\n",
        "from sklearn.tree import DecisionTreeClassifier\n",
        "from sklearn.ensemble import RandomForestClassifier, GradientBoostingClassifier\n",
        "from xgboost import XGBClassifier\n",
        "from sklearn.metrics import matthews_corrcoef\n",
        "\n",
        "# Split the data into features and target\n",
        "X = data.iloc[:, :-1]\n",
        "y = data.iloc[:, -1]\n",
        "\n",
        "# Instantiate the models\n",
        "models = [\n",
        "    LogisticRegression(),\n",
        "    KNeighborsClassifier(),\n",
        "    SVC(),\n",
        "    GaussianNB(),\n",
        "    DecisionTreeClassifier(),\n",
        "    RandomForestClassifier(),\n",
        "    GradientBoostingClassifier(),\n",
        "    XGBClassifier()\n",
        "]\n",
        "# Modify class labels\n",
        "y[y == -1] = 0\n",
        "\n",
        "# Train and evaluate each model\n",
        "for model in models:\n",
        "    model.fit(X, y)\n",
        "    y_pred = model.predict(X)\n",
        "    mcc = matthews_corrcoef(y, y_pred)\n",
        "    print(f'MCC for {type(model).__name__}: {mcc}')\n",
        "\n"
      ],
      "metadata": {
        "colab": {
          "base_uri": "https://localhost:8080/"
        },
        "id": "H4LV43gWNXo5",
        "outputId": "79f62575-fecf-4ee3-fd92-663f15c38567"
      },
      "id": "H4LV43gWNXo5",
      "execution_count": null,
      "outputs": [
        {
          "output_type": "stream",
          "name": "stdout",
          "text": [
            "MCC for LogisticRegression: 0.8546619559932382\n",
            "MCC for KNeighborsClassifier: 0.9336105937825326\n",
            "MCC for SVC: 0.9074791589581455\n",
            "MCC for GaussianNB: 0.38908465140270004\n",
            "MCC for DecisionTreeClassifier: 0.9791044747727244\n",
            "MCC for RandomForestClassifier: 0.9790999364010475\n",
            "MCC for GradientBoostingClassifier: 0.9022320848012528\n",
            "MCC for XGBClassifier: 0.9703113266521933\n"
          ]
        }
      ]
    },
    {
      "cell_type": "code",
      "execution_count": null,
      "id": "b594a036",
      "metadata": {
        "id": "b594a036",
        "colab": {
          "base_uri": "https://localhost:8080/",
          "height": 641
        },
        "outputId": "ec5e9f8a-fd4b-4596-d818-48064e789202"
      },
      "outputs": [
        {
          "output_type": "display_data",
          "data": {
            "text/plain": [
              "<Figure size 900x700 with 1 Axes>"
            ],
            "image/png": "[encoded data removed]"
          },
          "metadata": {}
        }
      ],
      "source": [
        "#checking the feature improtance in the model\n",
        "plt.figure(figsize=(9,7))\n",
        "n_features = X_train.shape[1]\n",
        "plt.barh(range(n_features), gbc.feature_importances_, align='center')\n",
        "# plt.yticks(np.arange(n_features), X_train)\n",
        "plt.title(\"Impact of 12 features\")\n",
        "plt.xlabel(\"Feature importance\")\n",
        "plt.ylabel(\"Feature\")\n",
        "plt.show()"
      ]
    }
  ],
  "metadata": {
    "kernelspec": {
      "display_name": "Python 3 (ipykernel)",
      "language": "python",
      "name": "python3"
    },
    "language_info": {
      "codemirror_mode": {
        "name": "ipython",
        "version": 3
      },
      "file_extension": ".py",
      "mimetype": "text/x-python",
      "name": "python",
      "nbconvert_exporter": "python",
      "pygments_lexer": "ipython3",
      "version": "3.8.6"
    },
    "vscode": {
      "interpreter": {
        "hash": "a4868653bb6f8972e87e4c446ab8a445a15b25dedb8594cc74c480f8152ea86a"
      }
    },
    "colab": {
      "provenance": []
    }
  },
  "nbformat": 4,
  "nbformat_minor": 5
}